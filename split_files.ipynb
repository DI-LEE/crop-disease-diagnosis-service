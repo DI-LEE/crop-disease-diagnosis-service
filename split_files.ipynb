{
 "cells": [
  {
   "cell_type": "markdown",
   "metadata": {},
   "source": [
    "## train : valid를 8:2로 나누고자 한다."
   ]
  },
  {
   "cell_type": "code",
   "execution_count": 8,
   "metadata": {},
   "outputs": [],
   "source": [
    "# 필요한 라이브러리 가져오기\n",
    "import os\n",
    "from tqdm import tqdm\n",
    "import shutil\n",
    "import random"
   ]
  },
  {
   "cell_type": "markdown",
   "metadata": {},
   "source": [
    "### Pepper"
   ]
  },
  {
   "cell_type": "code",
   "execution_count": 4,
   "metadata": {},
   "outputs": [
    {
     "name": "stdout",
     "output_type": "stream",
     "text": [
      "1886\n",
      "['V006_79_1_01_01_01_13_1_0149z_20201007_1', 'V006_79_1_01_01_01_13_1_0149z_20201007_2', 'V006_79_1_01_01_01_13_1_0149z_20201007_7', 'V006_79_1_01_01_01_13_1_0424z_20200917_10', 'V006_79_1_01_01_01_13_1_0424z_20200917_5']\n"
     ]
    }
   ],
   "source": [
    "pepper = os.listdir(r\"C:\\Users\\jason\\Desktop\\workspace_for_augmentation\\pepper\")\n",
    "\n",
    "\n",
    "label_list = [] \n",
    "for label in pepper:\n",
    "    if \".txt\" in label:\n",
    "        label_list.append(label.split(\".\")[0])  # .txt를 떼고 앞부분 제목만 label_list에 저장한다.\n",
    "\n",
    "print(len(label_list))\n",
    "print(label_list[:5])"
   ]
  },
  {
   "cell_type": "code",
   "execution_count": 6,
   "metadata": {},
   "outputs": [
    {
     "name": "stdout",
     "output_type": "stream",
     "text": [
      "1509\n",
      "377\n"
     ]
    }
   ],
   "source": [
    "# shuffle 하기\n",
    "random.shuffle(label_list)\n",
    "split_range = round(len(label_list) * 0.8)\n",
    "\n",
    "train = label_list[:split_range]\n",
    "valid = label_list[split_range:]\n",
    "\n",
    "print(len(train))\n",
    "print(len(valid))"
   ]
  },
  {
   "cell_type": "code",
   "execution_count": 16,
   "metadata": {},
   "outputs": [],
   "source": [
    "# 본격적으로 옮기기\n",
    "# 경로 설정\n",
    "source = \"C:/Users/jason/Desktop/workspace_for_augmentation/pepper/\"\n",
    "train_target = \"C:/Users/jason/Desktop/workspace_for_augmentation/pepper_train/\"\n",
    "valid_target = \"C:/Users/jason/Desktop/workspace_for_augmentation/pepper_valid/\""
   ]
  },
  {
   "cell_type": "code",
   "execution_count": null,
   "metadata": {},
   "outputs": [],
   "source": [
    "# train 보내기\n",
    "for file in train:\n",
    "    image = file + \".jpg\"\n",
    "    label = file + \".txt\"\n",
    "    shutil.move(source + image, train_target + image)\n",
    "    shutil.move(source + label, train_target + label)"
   ]
  },
  {
   "cell_type": "code",
   "execution_count": 13,
   "metadata": {},
   "outputs": [
    {
     "name": "stdout",
     "output_type": "stream",
     "text": [
      "3018\n"
     ]
    }
   ],
   "source": [
    "# 잘 갔는지 체크\n",
    "print(len(os.listdir(r\"C:\\Users\\jason\\Desktop\\workspace_for_augmentation\\pepper_train\"))) "
   ]
  },
  {
   "cell_type": "code",
   "execution_count": 17,
   "metadata": {},
   "outputs": [],
   "source": [
    "# valid 보내기\n",
    "for file in valid:\n",
    "    image = file + \".jpg\"\n",
    "    label = file + \".txt\"\n",
    "    shutil.move(source + image, valid_target + image)\n",
    "    shutil.move(source + label, valid_target + label)"
   ]
  },
  {
   "cell_type": "code",
   "execution_count": 19,
   "metadata": {},
   "outputs": [
    {
     "name": "stdout",
     "output_type": "stream",
     "text": [
      "754\n"
     ]
    }
   ],
   "source": [
    "print(len(os.listdir(r\"C:\\Users\\jason\\Desktop\\workspace_for_augmentation\\pepper_valid\"))) "
   ]
  },
  {
   "cell_type": "markdown",
   "metadata": {},
   "source": [
    "### tomato 나누기"
   ]
  },
  {
   "cell_type": "code",
   "execution_count": 20,
   "metadata": {},
   "outputs": [
    {
     "name": "stdout",
     "output_type": "stream",
     "text": [
      "1063\n",
      "['V006_77_1_18_11_03_13_1_3248b_20201005_57', 'V006_77_1_18_11_03_13_1_3248b_20201012_60', 'V006_77_1_18_11_03_13_1_3248b_20201012_61', 'V006_77_1_18_11_03_13_1_3248b_20201012_64', 'V006_77_1_18_11_03_13_1_3248b_20201019_67']\n"
     ]
    }
   ],
   "source": [
    "tomato = os.listdir(r\"C:\\Users\\jason\\Desktop\\workspace_for_augmentation\\tomato\")\n",
    "\n",
    "label_list = [] \n",
    "for label in tomato:\n",
    "    if \".txt\" in label:\n",
    "        label_list.append(label.split(\".\")[0])  # .txt를 떼고 앞부분 제목만 label_list에 저장한다.\n",
    "\n",
    "print(len(label_list))\n",
    "print(label_list[:5])"
   ]
  },
  {
   "cell_type": "code",
   "execution_count": 21,
   "metadata": {},
   "outputs": [
    {
     "name": "stdout",
     "output_type": "stream",
     "text": [
      "850\n",
      "213\n"
     ]
    }
   ],
   "source": [
    "# shuffle 하기\n",
    "random.shuffle(label_list)\n",
    "split_range = round(len(label_list) * 0.8)\n",
    "\n",
    "train = label_list[:split_range]\n",
    "valid = label_list[split_range:]\n",
    "\n",
    "print(len(train))\n",
    "print(len(valid))"
   ]
  },
  {
   "cell_type": "code",
   "execution_count": 22,
   "metadata": {},
   "outputs": [],
   "source": [
    "# 경로 설정\n",
    "source = \"C:/Users/jason/Desktop/workspace_for_augmentation/tomato/\"\n",
    "train_target = \"C:/Users/jason/Desktop/workspace_for_augmentation/tomato_train/\"\n",
    "valid_target = \"C:/Users/jason/Desktop/workspace_for_augmentation/tomato_valid/\""
   ]
  },
  {
   "cell_type": "code",
   "execution_count": 23,
   "metadata": {},
   "outputs": [],
   "source": [
    "# train 보내기\n",
    "for file in train:\n",
    "    image = file + \".jpg\"\n",
    "    label = file + \".txt\"\n",
    "    shutil.move(source + image, train_target + image)\n",
    "    shutil.move(source + label, train_target + label)"
   ]
  },
  {
   "cell_type": "code",
   "execution_count": 24,
   "metadata": {},
   "outputs": [
    {
     "name": "stdout",
     "output_type": "stream",
     "text": [
      "1700\n"
     ]
    }
   ],
   "source": [
    "print(len(os.listdir(r\"C:\\Users\\jason\\Desktop\\workspace_for_augmentation\\tomato_train\"))) "
   ]
  },
  {
   "cell_type": "code",
   "execution_count": 25,
   "metadata": {},
   "outputs": [],
   "source": [
    "for file in valid:\n",
    "    image = file + \".jpg\"\n",
    "    label = file + \".txt\"\n",
    "    shutil.move(source + image, valid_target + image)\n",
    "    shutil.move(source + label, valid_target + label)"
   ]
  },
  {
   "cell_type": "code",
   "execution_count": 26,
   "metadata": {},
   "outputs": [
    {
     "name": "stdout",
     "output_type": "stream",
     "text": [
      "426\n"
     ]
    }
   ],
   "source": [
    "print(len(os.listdir(r\"C:\\Users\\jason\\Desktop\\workspace_for_augmentation\\tomato_valid\"))) "
   ]
  }
 ],
 "metadata": {
  "kernelspec": {
   "display_name": "Python 3.8.8 64-bit",
   "language": "python",
   "name": "python3"
  },
  "language_info": {
   "codemirror_mode": {
    "name": "ipython",
    "version": 3
   },
   "file_extension": ".py",
   "mimetype": "text/x-python",
   "name": "python",
   "nbconvert_exporter": "python",
   "pygments_lexer": "ipython3",
   "version": "3.8.8"
  },
  "orig_nbformat": 4,
  "vscode": {
   "interpreter": {
    "hash": "507317297c2071b102c545a8005e942338072417761d163cf09c6958a8af51fa"
   }
  }
 },
 "nbformat": 4,
 "nbformat_minor": 2
}
