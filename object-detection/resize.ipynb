{
  "cells": [
    {
      "cell_type": "markdown",
      "metadata": {
        "id": "QuaNycWx1CKc"
      },
      "source": [
        "# Data resizing before model training"
      ]
    },
    {
      "cell_type": "code",
      "execution_count": null,
      "metadata": {
        "id": "PpMI167P1CKf"
      },
      "outputs": [],
      "source": [
        "import os\n",
        "import cv2\n",
        "import time\n",
        "import numpy as np\n",
        "from tqdm import tqdm\n",
        "import imgaug as ia\n",
        "import imgaug.augmenters as iaa"
      ]
    },
    {
      "cell_type": "markdown",
      "metadata": {
        "id": "l3Y5yHmu1CKh"
      },
      "source": [
        "## Define required custom functions"
      ]
    },
    {
      "cell_type": "markdown",
      "source": [
        "#### Create a coordinate format with labels\n",
        "##### - category : class(disease name)\n",
        "\n"
      ],
      "metadata": {
        "id": "DuQBNGnZ4HvM"
      }
    },
    {
      "cell_type": "code",
      "execution_count": null,
      "metadata": {
        "id": "pHHo399r1CKi"
      },
      "outputs": [],
      "source": [
        "def Yolo2Coord(size, box):\n",
        "  category = int(box[0])\n",
        "  x_center, y_center, width, height = float(box[1]), float(box[2]), float(box[3]), float(box[4])\n",
        "  img_width, img_height = size[0], size[1]\n",
        "  x_min = int((x_center - width/2.) * img_width)\n",
        "  x_max = int((x_center + width/2.) * img_width)\n",
        "  y_min = int((y_center - height/2.) * img_height)\n",
        "  y_max = int((y_center + height/2.) * img_height)\n",
        "  return [category, x_min, y_min, x_max, y_max]"
      ]
    },
    {
      "cell_type": "markdown",
      "source": [
        "##### Create a YOLO label format with coordinates (x_min, y_min, x_max, y_max)"
      ],
      "metadata": {
        "id": "zU4Gl3V94Tv8"
      }
    },
    {
      "cell_type": "code",
      "execution_count": null,
      "metadata": {
        "id": "jrwTZc6S1CKj"
      },
      "outputs": [],
      "source": [
        "def Pascal2Yolo(box, size):\n",
        "    image_width, image_height = size[0], size[1]\n",
        "    x_center = ((box[2] + box[0]) / 2) / (image_width)\n",
        "    y_center = ((box[3] + box[1]) / 2) / (image_height)\n",
        "    width = (box[2] - box[0]) / (image_width)\n",
        "    height = (box[3] - box[1]) / (image_height)\n",
        "    return [str(x_center), str(y_center), str(width), str(height)]"
      ]
    },
    {
      "cell_type": "markdown",
      "source": [
        "##### coordinates after resizing\n"
      ],
      "metadata": {
        "id": "3BBQeuBk4am_"
      }
    },
    {
      "cell_type": "code",
      "execution_count": null,
      "metadata": {
        "id": "Xbi49A9a1CKj"
      },
      "outputs": [],
      "source": [
        "def after_box(bbs):\n",
        "  before = []\n",
        "  for i in range(len(bbs)):\n",
        "    x_min = bbs[i][0][0]\n",
        "    y_min = bbs[i][0][1]\n",
        "    x_max = bbs[i][1][0]\n",
        "    y_max = bbs[i][1][1]\n",
        "    before.append([x_min, y_min, x_max, y_max])\n",
        "  return before"
      ]
    },
    {
      "cell_type": "markdown",
      "metadata": {
        "id": "zytDNVLp1CKk"
      },
      "source": [
        "## Route Settings"
      ]
    },
    {
      "cell_type": "code",
      "execution_count": null,
      "metadata": {
        "id": "AreJa8IM1CKk"
      },
      "outputs": [],
      "source": [
        "train_img_root_path = \"/content/drive/MyDrive/crop_disease/train/images/\"\n",
        "train_label_root_path = \"/content/drive/MyDrive/crop_disease/train/labels/\"\n",
        "val_img_root_path = \"/content/drive/MyDrive/crop_disease/valid/images/\"\n",
        "val_label_root_path = \"/content/drive/MyDrive/crop_disease/valid/labels/\"\n",
        "\n",
        "train_image_path = \"/content/drive/MyDrive/crop_disease/train/imagess/\"\n",
        "train_label_path = \"/content/drive/MyDrive/crop_disease/train/labelss/\"\n",
        "\n",
        "val_image_path = \"/content/drive/MyDrive/crop_disease/valid/imagess/\"\n",
        "val_label_path = \"/content/drive/MyDrive/crop_disease/valid/labelss/\"\n",
        "\n",
        "train_images = list(os.listdir(train_image_path))\n",
        "train_labels = list(os.listdir(train_label_path))\n",
        "\n",
        "val_images = list(os.listdir(val_image_path))\n",
        "val_labels = list(os.listdir(val_label_path))"
      ]
    },
    {
      "cell_type": "markdown",
      "source": [
        "##### Set YOLOv5 model image size"
      ],
      "metadata": {
        "id": "ktqYETrG4lxD"
      }
    },
    {
      "cell_type": "code",
      "execution_count": null,
      "metadata": {
        "id": "21yxF4ls1CKm"
      },
      "outputs": [],
      "source": [
        "size = 640"
      ]
    },
    {
      "cell_type": "markdown",
      "source": [
        "## Resizing"
      ],
      "metadata": {
        "id": "HqyLtRPP6d_B"
      }
    },
    {
      "cell_type": "code",
      "execution_count": null,
      "metadata": {
        "colab": {
          "base_uri": "https://localhost:8080/"
        },
        "id": "2DOkKVYj1CKn",
        "outputId": "8d1063b3-56ab-49cb-8212-ce7767d5223c"
      },
      "outputs": [
        {
          "output_type": "stream",
          "name": "stderr",
          "text": [
            "100%|██████████| 17468/17468 [3:39:56<00:00,  1.32it/s]\n"
          ]
        }
      ],
      "source": [
        "# train data\n",
        "for img in tqdm(train_images):\n",
        "  image = cv2.imread(train_image_path + img) # 이미지 불러오기\n",
        "  label = img[:-4] + \".txt\" # 라벨링 데이터 불러오기\n",
        "  height, width = image.shape[:2] # 원천 이미지 픽셀 불러오기 (height, weight, dimension)\n",
        "  image_size = [width, height] # cv2는 weight * height를 출력하기에 width, height 형식으로 변환\n",
        "\n",
        "  # bounding box 라벨 저장\n",
        "  label_list = [] # 텍스트 파일에 있는 라벨을 담을 list\n",
        "\n",
        "  with open(train_label_path + label, \"r\") as f:\n",
        "    labs = f.readlines() \n",
        "    for lab in labs:\n",
        "      label_list.append(lab.split()) # save label in list\n",
        "    f.close()\n",
        "\n",
        "  \"\"\"\n",
        "  bounding box label은 category(클래스:병명), x_center, y_center, width, height 형식\n",
        "  이를 좌표값 형식(category, x_min, y_min, x_max, y_max)로 변환\n",
        "  Yolo2Coord() : x_center, y_center, width, height → x_min(좌상단 x), y_min(좌상단 y), x_max(우하단 x), y_max(우하단 y)\n",
        "  \"\"\"\n",
        "\n",
        "  new_bounding_boxes = []\n",
        "  for box in label_list:\n",
        "    new_bounding_boxes.append(Yolo2Coord(image_size, box))\n",
        "  cate = str(new_bounding_boxes[0][0]) # 밑에서 사용\n",
        "\n",
        "  # augmentation 할 때 쓰는 BoundingBox 타입으로 변환\n",
        "  ia_bounding_boxes = []\n",
        "\n",
        "  for box in new_bounding_boxes:\n",
        "    ia_bounding_boxes.append(ia.BoundingBox(x1 = box[1], y1 = box[2], x2 = box[3], y2 = box[4]))\n",
        "\n",
        "  # resizing\n",
        "  bbs = ia.BoundingBoxesOnImage(ia_bounding_boxes, shape = image.shape)\n",
        "\n",
        "  seq = iaa.Resize({\"height\":size, \"width\":size})\n",
        "\n",
        "\n",
        "  image_resized, bbs_resized = seq(image = image, bounding_boxes = bbs) # bbs_aug : resized bounding box 좌표\n",
        "\n",
        "  cv2.imwrite(train_img_root_path + \"_resized_\" +img, image_resized) # resized image 저장 경로\n",
        "\n",
        "  # resized image coordinate\n",
        "  resized = image_resized.shape # 좌표화 된 bounding box label을 YOLO 형식으로 변환할 때 필요\n",
        "  rotated_size = [resized[1], resized[0]] # 마찬가지로 height, width -> width, height 형식으로 변환\n",
        "\n",
        "  # after_box() : boundingbox 형식으로 묶여있는 x_min, y_min, x_max, y_max 좌표를 리스트로 정리\n",
        "  resized_coords = after_box(bbs_resized)\n",
        "\n",
        "  yolos = []\n",
        "  for i in range(len(resized_coords)):\n",
        "    a = Pascal2Yolo(resized_coords[i], rotated_size)\n",
        "    final = cate + \" \" + \" \".join(a)\n",
        "    yolos.append(final)\n",
        "\n",
        "  f = open(train_label_root_path + \"_resized_\" + label, \"w\", encoding = \"utf-8\", newline='') # resized label 저장 경로\n",
        "  for yolo in yolos:\n",
        "    f.write(yolo)\n",
        "    f.write(\"\\n\")\n",
        "  f.close()"
      ]
    },
    {
      "cell_type": "code",
      "source": [
        "# valid data\n",
        "for img in tqdm(val_images):\n",
        "  image = cv2.imread(val_image_path + img)\n",
        "  label = img[:-4] + \".txt\"\n",
        "  height, width = image.shape[:2]\n",
        "  image_size = [width, height]\n",
        "\n",
        "  label_list = []\n",
        "\n",
        "  with open(val_label_path + label, \"r\") as f:\n",
        "    labs = f.readlines() \n",
        "    for lab in labs:\n",
        "      label_list.append(lab.split())\n",
        "    f.close()\n",
        "\n",
        "  new_bounding_boxes = []\n",
        "  for box in label_list:\n",
        "    new_bounding_boxes.append(Yolo2Coord(image_size, box))\n",
        "  cate = str(new_bounding_boxes[0][0])\n",
        "\n",
        "  ia_bounding_boxes = []\n",
        "\n",
        "  for box in new_bounding_boxes:\n",
        "    ia_bounding_boxes.append(ia.BoundingBox(x1 = box[1], y1 = box[2], x2 = box[3], y2 = box[4]))\n",
        "\n",
        "  bbs = ia.BoundingBoxesOnImage(ia_bounding_boxes, shape = image.shape)\n",
        "\n",
        "  seq = iaa.Resize({\"height\":size, \"width\":size})\n",
        "\n",
        "\n",
        "  image_resized, bbs_resized = seq(image = image, bounding_boxes = bbs)\n",
        "\n",
        "  cv2.imwrite(val_img_root_path + \"_resized_\" + img, image_resized)\n",
        "\n",
        "  resized = image_resized.shape\n",
        "  rotated_size = [resized[1], resized[0]]\n",
        "\n",
        "  resized_coords = after_box(bbs_resized)\n",
        "\n",
        "  yolos = []\n",
        "  for i in range(len(resized_coords)):\n",
        "    a = Pascal2Yolo(resized_coords[i], rotated_size)\n",
        "    final = cate + \" \" + \" \".join(a)\n",
        "    yolos.append(final)\n",
        "\n",
        "  f = open(val_label_root_path + \"_resized_\" + label, \"w\", encoding = \"utf-8\", newline='')\n",
        "  for yolo in yolos:\n",
        "    f.write(yolo)\n",
        "    f.write(\"\\n\")\n",
        "  f.close()"
      ],
      "metadata": {
        "colab": {
          "base_uri": "https://localhost:8080/"
        },
        "id": "BbvmB0937MIP",
        "outputId": "766ff40b-0eb0-4209-cbb1-5ed5879c00e8"
      },
      "execution_count": null,
      "outputs": [
        {
          "output_type": "stream",
          "name": "stderr",
          "text": [
            "100%|██████████| 3783/3783 [46:59<00:00,  1.34it/s]\n"
          ]
        }
      ]
    }
  ],
  "metadata": {
    "kernelspec": {
      "display_name": "Python 3.8.8 64-bit",
      "language": "python",
      "name": "python3"
    },
    "language_info": {
      "codemirror_mode": {
        "name": "ipython",
        "version": 3
      },
      "file_extension": ".py",
      "mimetype": "text/x-python",
      "name": "python",
      "nbconvert_exporter": "python",
      "pygments_lexer": "ipython3",
      "version": "3.8.8"
    },
    "orig_nbformat": 4,
    "vscode": {
      "interpreter": {
        "hash": "507317297c2071b102c545a8005e942338072417761d163cf09c6958a8af51fa"
      }
    },
    "colab": {
      "name": "resize.ipynb",
      "provenance": []
    }
  },
  "nbformat": 4,
  "nbformat_minor": 0
}