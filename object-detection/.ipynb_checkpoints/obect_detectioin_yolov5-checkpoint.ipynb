{
 "cells": [
  {
   "cell_type": "code",
   "execution_count": 15,
   "id": "220c0129",
   "metadata": {},
   "outputs": [],
   "source": [
    "import tensorflow as tf"
   ]
  },
  {
   "cell_type": "code",
   "execution_count": 1,
   "id": "e57cde2b",
   "metadata": {},
   "outputs": [
    {
     "name": "stdout",
     "output_type": "stream",
     "text": [
      "D:\\object_detection\\dataset\n"
     ]
    }
   ],
   "source": [
    "%cd \"D:/object_detection/dataset\""
   ]
  },
  {
   "cell_type": "code",
   "execution_count": 2,
   "id": "ec265fe2",
   "metadata": {
    "scrolled": true
   },
   "outputs": [
    {
     "name": "stderr",
     "output_type": "stream",
     "text": [
      "Cloning into 'yolov5'...\n"
     ]
    }
   ],
   "source": [
    "!git clone https://github.com/ultralytics/yolov5.git"
   ]
  },
  {
   "cell_type": "code",
   "execution_count": 6,
   "id": "a0abbf11",
   "metadata": {},
   "outputs": [
    {
     "name": "stdout",
     "output_type": "stream",
     "text": [
      "Requirement already satisfied: matplotlib>=3.2.2 in /Users/junghoonseo/miniforge3/envs/hs/lib/python3.8/site-packages (from -r yolov5/requirements.txt (line 5)) (3.5.1)\n",
      "Collecting matplotlib>=3.2.2\n",
      "  Downloading matplotlib-3.5.3-cp38-cp38-macosx_11_0_arm64.whl (7.2 MB)\n",
      "\u001b[2K     \u001b[90m━━━━━━━━━━━━━━━━━━━━━━━━━━━━━━━━━━━━━━━━\u001b[0m \u001b[32m7.2/7.2 MB\u001b[0m \u001b[31m7.7 MB/s\u001b[0m eta \u001b[36m0:00:00\u001b[0m00:01\u001b[0m00:01\u001b[0m\n",
      "\u001b[?25hRequirement already satisfied: numpy>=1.18.5 in /Users/junghoonseo/miniforge3/envs/hs/lib/python3.8/site-packages (from -r yolov5/requirements.txt (line 6)) (1.22.3)\n",
      "Collecting numpy>=1.18.5\n",
      "  Downloading numpy-1.23.2-cp38-cp38-macosx_11_0_arm64.whl (13.3 MB)\n",
      "\u001b[2K     \u001b[90m━━━━━━━━━━━━━━━━━━━━━━━━━━━━━━━━━━━━━━━━\u001b[0m \u001b[32m13.3/13.3 MB\u001b[0m \u001b[31m7.9 MB/s\u001b[0m eta \u001b[36m0:00:00\u001b[0m00:01\u001b[0m00:01\u001b[0m\n",
      "\u001b[?25hRequirement already satisfied: opencv-python>=4.1.1 in /Users/junghoonseo/miniforge3/envs/hs/lib/python3.8/site-packages (from -r yolov5/requirements.txt (line 7)) (4.6.0.66)\n",
      "Requirement already satisfied: Pillow>=7.1.2 in /Users/junghoonseo/miniforge3/envs/hs/lib/python3.8/site-packages (from -r yolov5/requirements.txt (line 8)) (9.0.1)\n",
      "Collecting Pillow>=7.1.2\n",
      "  Downloading Pillow-9.2.0-cp38-cp38-macosx_11_0_arm64.whl (2.8 MB)\n",
      "\u001b[2K     \u001b[90m━━━━━━━━━━━━━━━━━━━━━━━━━━━━━━━━━━━━━━━━\u001b[0m \u001b[32m2.8/2.8 MB\u001b[0m \u001b[31m7.6 MB/s\u001b[0m eta \u001b[36m0:00:00\u001b[0m00:01\u001b[0m00:01\u001b[0mm\n",
      "\u001b[?25hCollecting PyYAML>=5.3.1\n",
      "  Downloading PyYAML-6.0.tar.gz (124 kB)\n",
      "\u001b[2K     \u001b[90m━━━━━━━━━━━━━━━━━━━━━━━━━━━━━━━━━━━━━━━\u001b[0m \u001b[32m125.0/125.0 kB\u001b[0m \u001b[31m3.3 MB/s\u001b[0m eta \u001b[36m0:00:00\u001b[0m\n",
      "\u001b[?25h  Installing build dependencies ... \u001b[?25ldone\n",
      "\u001b[?25h  Getting requirements to build wheel ... \u001b[?25ldone\n",
      "\u001b[?25h  Preparing metadata (pyproject.toml) ... \u001b[?25ldone\n",
      "\u001b[?25hRequirement already satisfied: requests>=2.23.0 in /Users/junghoonseo/miniforge3/envs/hs/lib/python3.8/site-packages (from -r yolov5/requirements.txt (line 10)) (2.28.1)\n",
      "Requirement already satisfied: scipy>=1.4.1 in /Users/junghoonseo/miniforge3/envs/hs/lib/python3.8/site-packages (from -r yolov5/requirements.txt (line 11)) (1.7.3)\n",
      "Collecting scipy>=1.4.1\n",
      "  Downloading scipy-1.9.0-cp38-cp38-macosx_12_0_arm64.whl (29.8 MB)\n",
      "\u001b[2K     \u001b[90m━━━━━━━━━━━━━━━━━━━━━━━━━━━━━━━━━━━━━━━━\u001b[0m \u001b[32m29.8/29.8 MB\u001b[0m \u001b[31m7.8 MB/s\u001b[0m eta \u001b[36m0:00:00\u001b[0m00:01\u001b[0m00:01\u001b[0m\n",
      "\u001b[?25hRequirement already satisfied: torch>=1.7.0 in /Users/junghoonseo/miniforge3/envs/hs/lib/python3.8/site-packages (from -r yolov5/requirements.txt (line 12)) (1.12.0)\n",
      "Collecting torch>=1.7.0\n",
      "  Downloading torch-1.12.1-cp38-none-macosx_11_0_arm64.whl (49.1 MB)\n",
      "\u001b[2K     \u001b[90m━━━━━━━━━━━━━━━━━━━━━━━━━━━━━━━━━━━━━━━━\u001b[0m \u001b[32m49.1/49.1 MB\u001b[0m \u001b[31m5.6 MB/s\u001b[0m eta \u001b[36m0:00:00\u001b[0m00:01\u001b[0m00:01\u001b[0m\n",
      "\u001b[?25hRequirement already satisfied: torchvision>=0.8.1 in /Users/junghoonseo/miniforge3/envs/hs/lib/python3.8/site-packages (from -r yolov5/requirements.txt (line 13)) (0.13.0)\n",
      "Collecting torchvision>=0.8.1\n",
      "  Downloading torchvision-0.13.1-cp38-cp38-macosx_11_0_arm64.whl (1.2 MB)\n",
      "\u001b[2K     \u001b[90m━━━━━━━━━━━━━━━━━━━━━━━━━━━━━━━━━━━━━━━━\u001b[0m \u001b[32m1.2/1.2 MB\u001b[0m \u001b[31m5.8 MB/s\u001b[0m eta \u001b[36m0:00:00\u001b[0ma \u001b[36m0:00:01\u001b[0m\n",
      "\u001b[?25hRequirement already satisfied: tqdm>=4.64.0 in /Users/junghoonseo/miniforge3/envs/hs/lib/python3.8/site-packages (from -r yolov5/requirements.txt (line 14)) (4.64.0)\n",
      "Requirement already satisfied: protobuf<=3.20.1 in /Users/junghoonseo/miniforge3/envs/hs/lib/python3.8/site-packages (from -r yolov5/requirements.txt (line 15)) (3.19.4)\n",
      "Collecting protobuf<=3.20.1\n",
      "  Downloading protobuf-3.20.1-py2.py3-none-any.whl (162 kB)\n",
      "\u001b[2K     \u001b[90m━━━━━━━━━━━━━━━━━━━━━━━━━━━━━━━━━━━━━━━\u001b[0m \u001b[32m162.1/162.1 kB\u001b[0m \u001b[31m4.1 MB/s\u001b[0m eta \u001b[36m0:00:00\u001b[0ma \u001b[36m0:00:01\u001b[0m\n",
      "\u001b[?25hRequirement already satisfied: tensorboard>=2.4.1 in /Users/junghoonseo/miniforge3/envs/hs/lib/python3.8/site-packages (from -r yolov5/requirements.txt (line 18)) (2.9.1)\n",
      "Collecting tensorboard>=2.4.1\n",
      "  Downloading tensorboard-2.10.0-py3-none-any.whl (5.9 MB)\n",
      "\u001b[2K     \u001b[90m━━━━━━━━━━━━━━━━━━━━━━━━━━━━━━━━━━━━━━━━\u001b[0m \u001b[32m5.9/5.9 MB\u001b[0m \u001b[31m6.3 MB/s\u001b[0m eta \u001b[36m0:00:00\u001b[0m00:01\u001b[0m00:01\u001b[0m\n",
      "\u001b[?25hRequirement already satisfied: pandas>=1.1.4 in /Users/junghoonseo/miniforge3/envs/hs/lib/python3.8/site-packages (from -r yolov5/requirements.txt (line 23)) (1.4.2)\n",
      "Collecting pandas>=1.1.4\n",
      "  Downloading pandas-1.4.3-cp38-cp38-macosx_11_0_arm64.whl (10.3 MB)\n",
      "\u001b[2K     \u001b[90m━━━━━━━━━━━━━━━━━━━━━━━━━━━━━━━━━━━━━━━━\u001b[0m \u001b[32m10.3/10.3 MB\u001b[0m \u001b[31m6.2 MB/s\u001b[0m eta \u001b[36m0:00:00\u001b[0m00:01\u001b[0m00:01\u001b[0m\n",
      "\u001b[?25hRequirement already satisfied: seaborn>=0.11.0 in /Users/junghoonseo/miniforge3/envs/hs/lib/python3.8/site-packages (from -r yolov5/requirements.txt (line 24)) (0.11.2)\n",
      "Requirement already satisfied: ipython in /Users/junghoonseo/miniforge3/envs/hs/lib/python3.8/site-packages (from -r yolov5/requirements.txt (line 38)) (8.3.0)\n",
      "Collecting ipython\n",
      "  Using cached ipython-8.4.0-py3-none-any.whl (750 kB)\n",
      "Collecting psutil\n",
      "  Using cached psutil-5.9.1.tar.gz (479 kB)\n",
      "  Installing build dependencies ... \u001b[?25ldone\n",
      "\u001b[?25h  Getting requirements to build wheel ... \u001b[?25ldone\n",
      "\u001b[?25h  Preparing metadata (pyproject.toml) ... \u001b[?25ldone\n",
      "\u001b[?25hCollecting thop>=0.1.1\n",
      "  Downloading thop-0.1.1.post2207130030-py3-none-any.whl (15 kB)\n",
      "Requirement already satisfied: fonttools>=4.22.0 in /Users/junghoonseo/miniforge3/envs/hs/lib/python3.8/site-packages (from matplotlib>=3.2.2->-r yolov5/requirements.txt (line 5)) (4.25.0)\n",
      "Requirement already satisfied: pyparsing>=2.2.1 in /Users/junghoonseo/miniforge3/envs/hs/lib/python3.8/site-packages (from matplotlib>=3.2.2->-r yolov5/requirements.txt (line 5)) (3.0.9)\n",
      "Requirement already satisfied: cycler>=0.10 in /Users/junghoonseo/miniforge3/envs/hs/lib/python3.8/site-packages (from matplotlib>=3.2.2->-r yolov5/requirements.txt (line 5)) (0.11.0)\n",
      "Requirement already satisfied: packaging>=20.0 in /Users/junghoonseo/miniforge3/envs/hs/lib/python3.8/site-packages (from matplotlib>=3.2.2->-r yolov5/requirements.txt (line 5)) (21.3)\n",
      "Requirement already satisfied: python-dateutil>=2.7 in /Users/junghoonseo/miniforge3/envs/hs/lib/python3.8/site-packages (from matplotlib>=3.2.2->-r yolov5/requirements.txt (line 5)) (2.8.2)\n",
      "Requirement already satisfied: kiwisolver>=1.0.1 in /Users/junghoonseo/miniforge3/envs/hs/lib/python3.8/site-packages (from matplotlib>=3.2.2->-r yolov5/requirements.txt (line 5)) (1.4.2)\n",
      "Requirement already satisfied: idna<4,>=2.5 in /Users/junghoonseo/miniforge3/envs/hs/lib/python3.8/site-packages (from requests>=2.23.0->-r yolov5/requirements.txt (line 10)) (3.3)\n",
      "Requirement already satisfied: urllib3<1.27,>=1.21.1 in /Users/junghoonseo/miniforge3/envs/hs/lib/python3.8/site-packages (from requests>=2.23.0->-r yolov5/requirements.txt (line 10)) (1.26.9)\n",
      "Requirement already satisfied: certifi>=2017.4.17 in /Users/junghoonseo/miniforge3/envs/hs/lib/python3.8/site-packages (from requests>=2.23.0->-r yolov5/requirements.txt (line 10)) (2022.6.15)\n",
      "Requirement already satisfied: charset-normalizer<3,>=2 in /Users/junghoonseo/miniforge3/envs/hs/lib/python3.8/site-packages (from requests>=2.23.0->-r yolov5/requirements.txt (line 10)) (2.1.0)\n",
      "Requirement already satisfied: typing-extensions in /Users/junghoonseo/miniforge3/envs/hs/lib/python3.8/site-packages (from torch>=1.7.0->-r yolov5/requirements.txt (line 12)) (4.3.0)\n",
      "Requirement already satisfied: setuptools>=41.0.0 in /Users/junghoonseo/miniforge3/envs/hs/lib/python3.8/site-packages (from tensorboard>=2.4.1->-r yolov5/requirements.txt (line 18)) (61.2.0)\n",
      "Requirement already satisfied: grpcio>=1.24.3 in /Users/junghoonseo/miniforge3/envs/hs/lib/python3.8/site-packages (from tensorboard>=2.4.1->-r yolov5/requirements.txt (line 18)) (1.42.0)\n",
      "Requirement already satisfied: markdown>=2.6.8 in /Users/junghoonseo/miniforge3/envs/hs/lib/python3.8/site-packages (from tensorboard>=2.4.1->-r yolov5/requirements.txt (line 18)) (3.3.7)\n",
      "Requirement already satisfied: tensorboard-plugin-wit>=1.6.0 in /Users/junghoonseo/miniforge3/envs/hs/lib/python3.8/site-packages (from tensorboard>=2.4.1->-r yolov5/requirements.txt (line 18)) (1.8.1)\n",
      "Requirement already satisfied: werkzeug>=1.0.1 in /Users/junghoonseo/miniforge3/envs/hs/lib/python3.8/site-packages (from tensorboard>=2.4.1->-r yolov5/requirements.txt (line 18)) (2.1.2)\n",
      "Requirement already satisfied: wheel>=0.26 in /Users/junghoonseo/miniforge3/envs/hs/lib/python3.8/site-packages (from tensorboard>=2.4.1->-r yolov5/requirements.txt (line 18)) (0.37.1)\n",
      "Requirement already satisfied: google-auth-oauthlib<0.5,>=0.4.1 in /Users/junghoonseo/miniforge3/envs/hs/lib/python3.8/site-packages (from tensorboard>=2.4.1->-r yolov5/requirements.txt (line 18)) (0.4.6)\n",
      "Requirement already satisfied: tensorboard-data-server<0.7.0,>=0.6.0 in /Users/junghoonseo/miniforge3/envs/hs/lib/python3.8/site-packages (from tensorboard>=2.4.1->-r yolov5/requirements.txt (line 18)) (0.6.1)\n",
      "Requirement already satisfied: google-auth<3,>=1.6.3 in /Users/junghoonseo/miniforge3/envs/hs/lib/python3.8/site-packages (from tensorboard>=2.4.1->-r yolov5/requirements.txt (line 18)) (2.9.0)\n",
      "Requirement already satisfied: absl-py>=0.4 in /Users/junghoonseo/miniforge3/envs/hs/lib/python3.8/site-packages (from tensorboard>=2.4.1->-r yolov5/requirements.txt (line 18)) (1.1.0)\n",
      "Requirement already satisfied: pytz>=2020.1 in /Users/junghoonseo/miniforge3/envs/hs/lib/python3.8/site-packages (from pandas>=1.1.4->-r yolov5/requirements.txt (line 23)) (2022.1)\n"
     ]
    },
    {
     "name": "stdout",
     "output_type": "stream",
     "text": [
      "Requirement already satisfied: appnope in /Users/junghoonseo/miniforge3/envs/hs/lib/python3.8/site-packages (from ipython->-r yolov5/requirements.txt (line 38)) (0.1.2)\n",
      "Requirement already satisfied: traitlets>=5 in /Users/junghoonseo/miniforge3/envs/hs/lib/python3.8/site-packages (from ipython->-r yolov5/requirements.txt (line 38)) (5.1.1)\n",
      "Requirement already satisfied: backcall in /Users/junghoonseo/miniforge3/envs/hs/lib/python3.8/site-packages (from ipython->-r yolov5/requirements.txt (line 38)) (0.2.0)\n",
      "Requirement already satisfied: decorator in /Users/junghoonseo/miniforge3/envs/hs/lib/python3.8/site-packages (from ipython->-r yolov5/requirements.txt (line 38)) (5.1.1)\n",
      "Requirement already satisfied: pygments>=2.4.0 in /Users/junghoonseo/miniforge3/envs/hs/lib/python3.8/site-packages (from ipython->-r yolov5/requirements.txt (line 38)) (2.11.2)\n",
      "Requirement already satisfied: prompt-toolkit!=3.0.0,!=3.0.1,<3.1.0,>=2.0.0 in /Users/junghoonseo/miniforge3/envs/hs/lib/python3.8/site-packages (from ipython->-r yolov5/requirements.txt (line 38)) (3.0.20)\n",
      "Requirement already satisfied: pexpect>4.3 in /Users/junghoonseo/miniforge3/envs/hs/lib/python3.8/site-packages (from ipython->-r yolov5/requirements.txt (line 38)) (4.8.0)\n",
      "Requirement already satisfied: stack-data in /Users/junghoonseo/miniforge3/envs/hs/lib/python3.8/site-packages (from ipython->-r yolov5/requirements.txt (line 38)) (0.2.0)\n",
      "Requirement already satisfied: pickleshare in /Users/junghoonseo/miniforge3/envs/hs/lib/python3.8/site-packages (from ipython->-r yolov5/requirements.txt (line 38)) (0.7.5)\n",
      "Requirement already satisfied: matplotlib-inline in /Users/junghoonseo/miniforge3/envs/hs/lib/python3.8/site-packages (from ipython->-r yolov5/requirements.txt (line 38)) (0.1.2)\n",
      "Requirement already satisfied: jedi>=0.16 in /Users/junghoonseo/miniforge3/envs/hs/lib/python3.8/site-packages (from ipython->-r yolov5/requirements.txt (line 38)) (0.18.1)\n",
      "Requirement already satisfied: pyasn1-modules>=0.2.1 in /Users/junghoonseo/miniforge3/envs/hs/lib/python3.8/site-packages (from google-auth<3,>=1.6.3->tensorboard>=2.4.1->-r yolov5/requirements.txt (line 18)) (0.2.8)\n",
      "Requirement already satisfied: cachetools<6.0,>=2.0.0 in /Users/junghoonseo/miniforge3/envs/hs/lib/python3.8/site-packages (from google-auth<3,>=1.6.3->tensorboard>=2.4.1->-r yolov5/requirements.txt (line 18)) (5.2.0)\n",
      "Requirement already satisfied: six>=1.9.0 in /Users/junghoonseo/miniforge3/envs/hs/lib/python3.8/site-packages (from google-auth<3,>=1.6.3->tensorboard>=2.4.1->-r yolov5/requirements.txt (line 18)) (1.15.0)\n",
      "Requirement already satisfied: rsa<5,>=3.1.4 in /Users/junghoonseo/miniforge3/envs/hs/lib/python3.8/site-packages (from google-auth<3,>=1.6.3->tensorboard>=2.4.1->-r yolov5/requirements.txt (line 18)) (4.8)\n",
      "Requirement already satisfied: requests-oauthlib>=0.7.0 in /Users/junghoonseo/miniforge3/envs/hs/lib/python3.8/site-packages (from google-auth-oauthlib<0.5,>=0.4.1->tensorboard>=2.4.1->-r yolov5/requirements.txt (line 18)) (1.3.1)\n",
      "Requirement already satisfied: parso<0.9.0,>=0.8.0 in /Users/junghoonseo/miniforge3/envs/hs/lib/python3.8/site-packages (from jedi>=0.16->ipython->-r yolov5/requirements.txt (line 38)) (0.8.3)\n",
      "Requirement already satisfied: importlib-metadata>=4.4 in /Users/junghoonseo/miniforge3/envs/hs/lib/python3.8/site-packages (from markdown>=2.6.8->tensorboard>=2.4.1->-r yolov5/requirements.txt (line 18)) (4.12.0)\n",
      "Requirement already satisfied: ptyprocess>=0.5 in /Users/junghoonseo/miniforge3/envs/hs/lib/python3.8/site-packages (from pexpect>4.3->ipython->-r yolov5/requirements.txt (line 38)) (0.7.0)\n",
      "Requirement already satisfied: wcwidth in /Users/junghoonseo/miniforge3/envs/hs/lib/python3.8/site-packages (from prompt-toolkit!=3.0.0,!=3.0.1,<3.1.0,>=2.0.0->ipython->-r yolov5/requirements.txt (line 38)) (0.2.5)\n",
      "Requirement already satisfied: pure-eval in /Users/junghoonseo/miniforge3/envs/hs/lib/python3.8/site-packages (from stack-data->ipython->-r yolov5/requirements.txt (line 38)) (0.2.2)\n",
      "Requirement already satisfied: executing in /Users/junghoonseo/miniforge3/envs/hs/lib/python3.8/site-packages (from stack-data->ipython->-r yolov5/requirements.txt (line 38)) (0.8.3)\n",
      "Requirement already satisfied: asttokens in /Users/junghoonseo/miniforge3/envs/hs/lib/python3.8/site-packages (from stack-data->ipython->-r yolov5/requirements.txt (line 38)) (2.0.5)\n",
      "Requirement already satisfied: zipp>=0.5 in /Users/junghoonseo/miniforge3/envs/hs/lib/python3.8/site-packages (from importlib-metadata>=4.4->markdown>=2.6.8->tensorboard>=2.4.1->-r yolov5/requirements.txt (line 18)) (3.8.0)\n",
      "Requirement already satisfied: pyasn1<0.5.0,>=0.4.6 in /Users/junghoonseo/miniforge3/envs/hs/lib/python3.8/site-packages (from pyasn1-modules>=0.2.1->google-auth<3,>=1.6.3->tensorboard>=2.4.1->-r yolov5/requirements.txt (line 18)) (0.4.8)\n",
      "Requirement already satisfied: oauthlib>=3.0.0 in /Users/junghoonseo/miniforge3/envs/hs/lib/python3.8/site-packages (from requests-oauthlib>=0.7.0->google-auth-oauthlib<0.5,>=0.4.1->tensorboard>=2.4.1->-r yolov5/requirements.txt (line 18)) (3.2.0)\n",
      "Building wheels for collected packages: PyYAML, psutil\n",
      "  Building wheel for PyYAML (pyproject.toml) ... \u001b[?25ldone\n",
      "\u001b[?25h  Created wheel for PyYAML: filename=PyYAML-6.0-cp38-cp38-macosx_11_0_arm64.whl size=45336 sha256=39932916958d3938660962568fc12a429398fed606a17522a119be4f4946c719\n",
      "  Stored in directory: /Users/junghoonseo/Library/Caches/pip/wheels/52/84/66/50912fd7bf1639a31758e40bd4312602e104a8eca1e0da9645\n",
      "  Building wheel for psutil (pyproject.toml) ... \u001b[?25ldone\n",
      "\u001b[?25h  Created wheel for psutil: filename=psutil-5.9.1-cp38-cp38-macosx_11_0_arm64.whl size=240321 sha256=3f9a68c6d1dc03519cac2ba8d5d17f7dd1b3c296763dc45e410098968c9c8973\n",
      "  Stored in directory: /Users/junghoonseo/Library/Caches/pip/wheels/69/3f/b4/d3ed6919124e311eab9e7b9a264f31fd43ae8e7241d4611228\n",
      "Successfully built PyYAML psutil\n",
      "Installing collected packages: torch, PyYAML, psutil, Pillow, numpy, torchvision, thop, scipy, pandas, matplotlib, ipython, tensorboard\n",
      "  Attempting uninstall: torch\n",
      "    Found existing installation: torch 1.12.0\n",
      "    Uninstalling torch-1.12.0:\n",
      "      Successfully uninstalled torch-1.12.0\n",
      "  Attempting uninstall: Pillow\n",
      "    Found existing installation: Pillow 9.0.1\n",
      "    Uninstalling Pillow-9.0.1:\n",
      "      Successfully uninstalled Pillow-9.0.1\n",
      "  Attempting uninstall: numpy\n",
      "    Found existing installation: numpy 1.22.3\n",
      "    Uninstalling numpy-1.22.3:\n",
      "      Successfully uninstalled numpy-1.22.3\n",
      "  Attempting uninstall: torchvision\n",
      "    Found existing installation: torchvision 0.13.0\n",
      "    Uninstalling torchvision-0.13.0:\n",
      "      Successfully uninstalled torchvision-0.13.0\n",
      "  Attempting uninstall: scipy\n",
      "    Found existing installation: scipy 1.7.3\n",
      "    Uninstalling scipy-1.7.3:\n",
      "      Successfully uninstalled scipy-1.7.3\n",
      "  Attempting uninstall: pandas\n",
      "    Found existing installation: pandas 1.4.2\n",
      "    Uninstalling pandas-1.4.2:\n",
      "      Successfully uninstalled pandas-1.4.2\n",
      "  Attempting uninstall: matplotlib\n",
      "    Found existing installation: matplotlib 3.5.1\n",
      "    Uninstalling matplotlib-3.5.1:\n",
      "      Successfully uninstalled matplotlib-3.5.1\n",
      "  Attempting uninstall: ipython\n",
      "    Found existing installation: ipython 8.3.0\n",
      "    Uninstalling ipython-8.3.0:\n",
      "      Successfully uninstalled ipython-8.3.0\n",
      "  Attempting uninstall: tensorboard\n",
      "    Found existing installation: tensorboard 2.9.1\n",
      "    Uninstalling tensorboard-2.9.1:\n",
      "      Successfully uninstalled tensorboard-2.9.1\n",
      "\u001b[31mERROR: pip's dependency resolver does not currently take into account all the packages that are installed. This behaviour is the source of the following dependency conflicts.\n",
      "tensorflow-macos 2.9.2 requires tensorboard<2.10,>=2.9, but you have tensorboard 2.10.0 which is incompatible.\u001b[0m\u001b[31m\n",
      "\u001b[0mSuccessfully installed Pillow-9.2.0 PyYAML-6.0 ipython-8.4.0 matplotlib-3.5.3 numpy-1.23.2 pandas-1.4.3 psutil-5.9.1 scipy-1.9.0 tensorboard-2.10.0 thop-0.1.1.post2207130030 torch-1.12.1 torchvision-0.13.1\n"
     ]
    }
   ],
   "source": [
    "!pip install -U -r yolov5/requirements.txt"
   ]
  },
  {
   "cell_type": "code",
   "execution_count": 4,
   "id": "7f71eab0",
   "metadata": {},
   "outputs": [
    {
     "name": "stdout",
     "output_type": "stream",
     "text": [
      "torch 1.12.1 CPU\n"
     ]
    }
   ],
   "source": [
    "import torch\n",
    "\n",
    "print('torch %s %s' % (torch.__version__, torch.cuda.get_device_properties(0) if torch.cuda.is_available() else 'CPU'))"
   ]
  },
  {
   "cell_type": "code",
   "execution_count": 5,
   "id": "7b21bf04",
   "metadata": {},
   "outputs": [
    {
     "name": "stdout",
     "output_type": "stream",
     "text": [
      "Num GPUs Available:  1\n"
     ]
    }
   ],
   "source": [
    "print(\"Num GPUs Available: \", len(tf.config.experimental.list_physical_devices('GPU')))"
   ]
  },
  {
   "cell_type": "code",
   "execution_count": 6,
   "id": "b267db83",
   "metadata": {},
   "outputs": [],
   "source": [
    "from glob import glob"
   ]
  },
  {
   "cell_type": "code",
   "execution_count": 9,
   "id": "6f953e14",
   "metadata": {},
   "outputs": [
    {
     "name": "stdout",
     "output_type": "stream",
     "text": [
      "\u001b[34m.\u001b[m\u001b[m/           .DS_Store    \u001b[34mtrain\u001b[m\u001b[m/       train.txt    valid.cache  \u001b[34myolov5\u001b[m\u001b[m/\r\n",
      "\u001b[34m..\u001b[m\u001b[m/          data.yaml    train.cache  \u001b[34mvalid\u001b[m\u001b[m/       valid.txt    yolov5x.pt\r\n"
     ]
    }
   ],
   "source": [
    "ls -a"
   ]
  },
  {
   "cell_type": "code",
   "execution_count": 15,
   "id": "8f1b1c5b",
   "metadata": {},
   "outputs": [],
   "source": [
    "train_img_list = glob('./train/images/*.jpg') + glob('./train/images/*.jpeg')\n",
    "valid_img_list = glob('./valid/images/*.jpg') + glob('./valid/images/*.jpeg')\n",
    "\n",
    "with open('./train.txt', 'w') as f:\n",
    "    f.write('\\n'.join(train_img_list) + '\\n')\n",
    "\n",
    "with open('./valid.txt', 'w') as f:\n",
    "    f.write('\\n'.join(valid_img_list) + '\\n')"
   ]
  },
  {
   "cell_type": "code",
   "execution_count": null,
   "id": "97a2c0f3",
   "metadata": {},
   "outputs": [
    {
     "name": "stdout",
     "output_type": "stream",
     "text": [
      "\u001b[34m\u001b[1mtrain: \u001b[0mweights=yolov5x.pt, cfg=/Users/junghoonseo/Desktop/crop_disease/yolov5/models/yolov5x.yaml, data=/Users/junghoonseo/Desktop/crop_disease/data.yaml, hyp=yolov5/data/hyps/hyp.scratch-low.yaml, epochs=100, batch_size=32, imgsz=640, rect=False, resume=False, nosave=False, noval=False, noautoanchor=False, noplots=False, evolve=None, bucket=, cache=None, image_weights=False, device=, multi_scale=False, single_cls=False, optimizer=SGD, sync_bn=False, workers=8, project=yolov5/runs/train, name=crop_disease_diagnosis_train, exist_ok=False, quad=False, cos_lr=False, label_smoothing=0.0, patience=100, freeze=[0], save_period=-1, seed=0, local_rank=-1, entity=None, upload_dataset=False, bbox_interval=-1, artifact_alias=latest\n",
      "\u001b[34m\u001b[1mgithub: \u001b[0mup to date with https://github.com/ultralytics/yolov5 ✅\n",
      "YOLOv5 🚀 v6.2-0-gd3ea0df Python-3.8.13 torch-1.12.1 CPU\n",
      "\n",
      "\u001b[34m\u001b[1mhyperparameters: \u001b[0mlr0=0.01, lrf=0.01, momentum=0.937, weight_decay=0.0005, warmup_epochs=3.0, warmup_momentum=0.8, warmup_bias_lr=0.1, box=0.05, cls=0.5, cls_pw=1.0, obj=1.0, obj_pw=1.0, iou_t=0.2, anchor_t=4.0, fl_gamma=0.0, hsv_h=0.015, hsv_s=0.7, hsv_v=0.4, degrees=0.0, translate=0.1, scale=0.5, shear=0.0, perspective=0.0, flipud=0.0, fliplr=0.5, mosaic=1.0, mixup=0.0, copy_paste=0.0\n",
      "\u001b[34m\u001b[1mWeights & Biases: \u001b[0mrun 'pip install wandb' to automatically track and visualize YOLOv5 🚀 runs in Weights & Biases\n",
      "\u001b[34m\u001b[1mClearML: \u001b[0mrun 'pip install clearml' to automatically track, visualize and remotely train YOLOv5 🚀 in ClearML\n",
      "\u001b[34m\u001b[1mTensorBoard: \u001b[0mStart with 'tensorboard --logdir yolov5/runs/train', view at http://localhost:6006/\n",
      "Overriding model.yaml nc=80 with nc=7\n",
      "\n",
      "                 from  n    params  module                                  arguments                     \n",
      "  0                -1  1      8800  models.common.Conv                      [3, 80, 6, 2, 2]              \n",
      "  1                -1  1    115520  models.common.Conv                      [80, 160, 3, 2]               \n",
      "  2                -1  4    309120  models.common.C3                        [160, 160, 4]                 \n",
      "  3                -1  1    461440  models.common.Conv                      [160, 320, 3, 2]              \n",
      "  4                -1  8   2259200  models.common.C3                        [320, 320, 8]                 \n",
      "  5                -1  1   1844480  models.common.Conv                      [320, 640, 3, 2]              \n",
      "  6                -1 12  13125120  models.common.C3                        [640, 640, 12]                \n",
      "  7                -1  1   7375360  models.common.Conv                      [640, 1280, 3, 2]             \n",
      "  8                -1  4  19676160  models.common.C3                        [1280, 1280, 4]               \n",
      "  9                -1  1   4099840  models.common.SPPF                      [1280, 1280, 5]               \n",
      " 10                -1  1    820480  models.common.Conv                      [1280, 640, 1, 1]             \n",
      " 11                -1  1         0  torch.nn.modules.upsampling.Upsample    [None, 2, 'nearest']          \n",
      " 12           [-1, 6]  1         0  models.common.Concat                    [1]                           \n",
      " 13                -1  4   5332480  models.common.C3                        [1280, 640, 4, False]         \n",
      " 14                -1  1    205440  models.common.Conv                      [640, 320, 1, 1]              \n",
      " 15                -1  1         0  torch.nn.modules.upsampling.Upsample    [None, 2, 'nearest']          \n",
      " 16           [-1, 4]  1         0  models.common.Concat                    [1]                           \n",
      " 17                -1  4   1335040  models.common.C3                        [640, 320, 4, False]          \n",
      " 18                -1  1    922240  models.common.Conv                      [320, 320, 3, 2]              \n",
      " 19          [-1, 14]  1         0  models.common.Concat                    [1]                           \n",
      " 20                -1  4   4922880  models.common.C3                        [640, 640, 4, False]          \n",
      " 21                -1  1   3687680  models.common.Conv                      [640, 640, 3, 2]              \n",
      " 22          [-1, 10]  1         0  models.common.Concat                    [1]                           \n",
      " 23                -1  4  19676160  models.common.C3                        [1280, 1280, 4, False]        \n",
      " 24      [17, 20, 23]  1     80748  models.yolo.Detect                      [7, [[10, 13, 16, 30, 33, 23], [30, 61, 62, 45, 59, 119], [116, 90, 156, 198, 373, 326]], [320, 640, 1280]]\n",
      "YOLOv5x summary: 567 layers, 86258188 parameters, 86258188 gradients, 204.8 GFLOPs\n",
      "\n",
      "Transferred 738/745 items from yolov5x.pt\n",
      "\u001b[34m\u001b[1moptimizer:\u001b[0m SGD(lr=0.01) with parameter groups 123 weight(decay=0.0), 126 weight(decay=0.0005), 126 bias\n",
      "\u001b[34m\u001b[1mtrain: \u001b[0mScanning '/Users/junghoonseo/Desktop/crop_disease/train.cache' images and\u001b[0m\n",
      "\u001b[34m\u001b[1mtrain: \u001b[0mWARNING: /Users/junghoonseo/Desktop/crop_disease/train/images/_resized_aug_1_V006_79_1_16_09_03_12_2_0827e_20201029_146.jpg: ignoring corrupt image/label: non-normalized or out of bounds coordinates [     1.0125]\n",
      "\u001b[34m\u001b[1mtrain: \u001b[0mWARNING: /Users/junghoonseo/Desktop/crop_disease/train/images/_resized_aug_1_V006_79_1_16_09_03_12_2_0827e_20201118_140.jpg: ignoring corrupt image/label: non-normalized or out of bounds coordinates [     1.1271]\n",
      "\u001b[34m\u001b[1mtrain: \u001b[0mWARNING: /Users/junghoonseo/Desktop/crop_disease/train/images/_resized_aug_1_V006_79_1_16_09_03_12_3_0827e_20201028_137.jpg: ignoring corrupt image/label: non-normalized or out of bounds coordinates [     1.1375]\n",
      "\u001b[34m\u001b[1mtrain: \u001b[0mWARNING: /Users/junghoonseo/Desktop/crop_disease/train/images/_resized_aug_1_V006_79_1_16_09_03_12_3_0827e_20201109_126.jpg: ignoring corrupt image/label: non-normalized or out of bounds coordinates [     1.1725]\n",
      "\u001b[34m\u001b[1mtrain: \u001b[0mWARNING: /Users/junghoonseo/Desktop/crop_disease/train/images/_resized_aug_1_V006_79_1_16_09_03_12_3_0827e_20201116_122.jpg: ignoring corrupt image/label: non-normalized or out of bounds coordinates [     1.1126]\n",
      "\u001b[34m\u001b[1mtrain: \u001b[0mWARNING: /Users/junghoonseo/Desktop/crop_disease/train/images/_resized_aug_1_V006_79_1_16_09_03_12_3_0827e_20201127_161.jpg: ignoring corrupt image/label: non-normalized or out of bounds coordinates [     1.0375]\n",
      "\u001b[34m\u001b[1mtrain: \u001b[0mWARNING: /Users/junghoonseo/Desktop/crop_disease/train/images/_resized_aug_1_V006_79_1_16_09_03_13_1_7800e_20201026_2.jpg: ignoring corrupt image/label: non-normalized or out of bounds coordinates [     1.0053]\n",
      "\u001b[34m\u001b[1mtrain: \u001b[0mWARNING: /Users/junghoonseo/Desktop/crop_disease/train/images/_resized_aug_1_V006_79_1_16_09_03_13_2_1601e_20201019_4.jpg: ignoring corrupt image/label: non-normalized or out of bounds coordinates [     1.0953]\n",
      "\u001b[34m\u001b[1mtrain: \u001b[0mWARNING: /Users/junghoonseo/Desktop/crop_disease/train/images/_resized_aug_1_V006_79_1_16_09_03_13_3_3140e_20201019_24.jpg: ignoring corrupt image/label: non-normalized or out of bounds coordinates [      1.022]\n",
      "\u001b[34m\u001b[1mtrain: \u001b[0mWARNING: /Users/junghoonseo/Desktop/crop_disease/train/images/_resized_aug_1_V006_79_1_16_09_03_13_3_3140e_20201104_100.jpg: ignoring corrupt image/label: non-normalized or out of bounds coordinates [        1.1]\n",
      "\u001b[34m\u001b[1mtrain: \u001b[0mWARNING: /Users/junghoonseo/Desktop/crop_disease/train/images/_resized_aug_1_V006_79_1_16_09_03_13_3_3140e_20201105_109.jpg: ignoring corrupt image/label: non-normalized or out of bounds coordinates [     1.1167]\n",
      "\u001b[34m\u001b[1mtrain: \u001b[0mWARNING: /Users/junghoonseo/Desktop/crop_disease/train/images/_resized_aug_1_V006_79_1_16_09_03_13_3_3140e_20201120_111.jpg: ignoring corrupt image/label: non-normalized or out of bounds coordinates [     1.0958]\n",
      "\u001b[34m\u001b[1mtrain: \u001b[0mWARNING: /Users/junghoonseo/Desktop/crop_disease/train/images/_resized_aug_1_V006_79_1_16_09_03_13_3_4306e_20201123_167.jpg: ignoring corrupt image/label: non-normalized or out of bounds coordinates [     1.0192]\n",
      "\u001b[34m\u001b[1mtrain: \u001b[0mWARNING: /Users/junghoonseo/Desktop/crop_disease/train/images/_resized_aug_t1_V006_79_1_01_01_01_13_1_0868z_20201026_20.jpg: ignoring corrupt image/label: non-normalized or out of bounds coordinates [     1.0144]\n",
      "\u001b[34m\u001b[1mtrain: \u001b[0mWARNING: /Users/junghoonseo/Desktop/crop_disease/train/images/_resized_aug_t1_V006_79_1_01_01_01_13_2_0149z_20201007_30.jpg: ignoring corrupt image/label: non-normalized or out of bounds coordinates [      1.001]\n",
      "\u001b[34m\u001b[1mtrain: \u001b[0mWARNING: /Users/junghoonseo/Desktop/crop_disease/train/images/_resized_aug_t1_V006_79_1_01_01_01_13_2_0424z_20200922_20.jpg: ignoring corrupt image/label: negative label values [  -0.018047]\n",
      "\u001b[34m\u001b[1mtrain: \u001b[0mWARNING: /Users/junghoonseo/Desktop/crop_disease/train/images/_resized_aug_t1_V006_79_1_01_01_01_13_2_0868z_20201019_15.jpg: ignoring corrupt image/label: negative label values [ -0.0056391]\n",
      "\u001b[34m\u001b[1mtrain: \u001b[0mWARNING: /Users/junghoonseo/Desktop/crop_disease/train/images/_resized_aug_t1_V006_79_1_01_01_01_13_3_0149z_20200918_29.jpg: ignoring corrupt image/label: non-normalized or out of bounds coordinates [     1.0352]\n",
      "\u001b[34m\u001b[1mtrain: \u001b[0mWARNING: /Users/junghoonseo/Desktop/crop_disease/train/images/_resized_aug_t1_V006_79_1_01_01_01_13_3_0149z_20201007_22.jpg: ignoring corrupt image/label: non-normalized or out of bounds coordinates [     1.1505]\n",
      "\u001b[34m\u001b[1mtrain: \u001b[0mWARNING: /Users/junghoonseo/Desktop/crop_disease/train/images/_resized_aug_t1_V006_79_1_01_01_01_13_3_0149z_20201014_17.jpg: ignoring corrupt image/label: non-normalized or out of bounds coordinates [      1.134]\n",
      "\u001b[34m\u001b[1mtrain: \u001b[0mWARNING: /Users/junghoonseo/Desktop/crop_disease/train/images/_resized_aug_t1_V006_79_1_01_01_01_13_3_0149z_20201021_5.jpg: ignoring corrupt image/label: non-normalized or out of bounds coordinates [     1.1194]\n",
      "\u001b[34m\u001b[1mtrain: \u001b[0mWARNING: /Users/junghoonseo/Desktop/crop_disease/train/images/_resized_aug_t1_V006_79_1_01_01_01_13_3_0149z_20201110_1.jpg: ignoring corrupt image/label: non-normalized or out of bounds coordinates [     1.0455      1.0352]\n",
      "\u001b[34m\u001b[1mtrain: \u001b[0mWARNING: /Users/junghoonseo/Desktop/crop_disease/train/images/_resized_aug_t1_V006_79_1_01_01_01_13_3_0424z_20201012_12.jpg: ignoring corrupt image/label: non-normalized or out of bounds coordinates [     1.0189]\n",
      "\u001b[34m\u001b[1mtrain: \u001b[0mWARNING: /Users/junghoonseo/Desktop/crop_disease/train/images/_resized_aug_t1_V006_79_1_01_01_01_13_3_0424z_20201105_5.jpg: ignoring corrupt image/label: non-normalized or out of bounds coordinates [     1.0447]\n",
      "\u001b[34m\u001b[1mtrain: \u001b[0mWARNING: /Users/junghoonseo/Desktop/crop_disease/train/images/_resized_aug_t1_V006_79_1_01_01_01_13_3_0424z_20201112_1.jpg: ignoring corrupt image/label: non-normalized or out of bounds coordinates [     1.0471]\n",
      "\u001b[34m\u001b[1mtrain: \u001b[0mWARNING: /Users/junghoonseo/Desktop/crop_disease/train/images/_resized_aug_t1_V006_79_1_01_01_01_13_3_0424z_20201119_2.jpg: ignoring corrupt image/label: non-normalized or out of bounds coordinates [     1.1923      1.1743]\n",
      "\u001b[34m\u001b[1mtrain: \u001b[0mWARNING: /Users/junghoonseo/Desktop/crop_disease/train/images/_resized_aug_t1_V006_79_1_01_01_01_13_3_0868z_20200918_1.jpg: ignoring corrupt image/label: non-normalized or out of bounds coordinates [      1.068      1.0304]\n",
      "\u001b[34m\u001b[1mtrain: \u001b[0mWARNING: /Users/junghoonseo/Desktop/crop_disease/train/images/_resized_aug_t1_V006_79_1_01_01_01_13_3_0868z_20200918_2.jpg: ignoring corrupt image/label: non-normalized or out of bounds coordinates [     1.1055]\n",
      "\u001b[34m\u001b[1mtrain: \u001b[0mWARNING: /Users/junghoonseo/Desktop/crop_disease/train/images/_resized_aug_t1_V006_79_1_01_01_01_13_3_0868z_20200918_21.jpg: ignoring corrupt image/label: non-normalized or out of bounds coordinates [     1.0411      1.0454]\n",
      "\u001b[34m\u001b[1mtrain: \u001b[0mWARNING: /Users/junghoonseo/Desktop/crop_disease/train/images/_resized_aug_t1_V006_79_1_01_01_01_13_3_0868z_20200918_5.jpg: ignoring corrupt image/label: non-normalized or out of bounds coordinates [     1.0481]\n",
      "\u001b[34m\u001b[1mtrain: \u001b[0mWARNING: /Users/junghoonseo/Desktop/crop_disease/train/images/_resized_aug_t1_V006_79_1_01_01_01_13_3_0868z_20200918_6.jpg: ignoring corrupt image/label: non-normalized or out of bounds coordinates [     1.0399]\n",
      "\u001b[34m\u001b[1mtrain: \u001b[0mWARNING: /Users/junghoonseo/Desktop/crop_disease/train/images/_resized_aug_t1_V006_79_1_01_01_01_13_3_0868z_20200918_7.jpg: ignoring corrupt image/label: non-normalized or out of bounds coordinates [     1.0845      1.0598]\n",
      "\u001b[34m\u001b[1mtrain: \u001b[0mWARNING: /Users/junghoonseo/Desktop/crop_disease/train/images/_resized_aug_t1_V006_79_1_01_01_01_13_3_0868z_20200918_8.jpg: ignoring corrupt image/label: non-normalized or out of bounds coordinates [      1.058      1.0144]\n",
      "\u001b[34m\u001b[1mtrain: \u001b[0mWARNING: /Users/junghoonseo/Desktop/crop_disease/train/images/_resized_aug_t1_V006_79_1_01_01_01_13_3_0868z_20201013_12.jpg: ignoring corrupt image/label: non-normalized or out of bounds coordinates [     1.1485]\n",
      "\u001b[34m\u001b[1mtrain: \u001b[0mWARNING: /Users/junghoonseo/Desktop/crop_disease/train/images/_resized_aug_t1_V006_79_1_01_01_01_13_3_0868z_20201019_16.jpg: ignoring corrupt image/label: non-normalized or out of bounds coordinates [     1.1227      1.0589]\n",
      "\u001b[34m\u001b[1mtrain: \u001b[0mWARNING: /Users/junghoonseo/Desktop/crop_disease/train/images/_resized_aug_t1_V006_79_1_01_01_01_13_3_0868z_20201106_3.jpg: ignoring corrupt image/label: non-normalized or out of bounds coordinates [     1.0185       1.003]\n",
      "\u001b[34m\u001b[1mtrain: \u001b[0mWARNING: /Users/junghoonseo/Desktop/crop_disease/train/images/_resized_aug_t1_V006_79_1_01_01_01_13_3_0868z_20201106_4.jpg: ignoring corrupt image/label: non-normalized or out of bounds coordinates [     1.0763]\n",
      "\u001b[34m\u001b[1mtrain: \u001b[0mWARNING: /Users/junghoonseo/Desktop/crop_disease/train/images/_resized_aug_t1_V006_79_1_01_01_01_13_3_1553bb_20200916_19.jpg: ignoring corrupt image/label: non-normalized or out of bounds coordinates [     1.0164]\n",
      "\u001b[34m\u001b[1mtrain: \u001b[0mWARNING: /Users/junghoonseo/Desktop/crop_disease/train/images/_resized_aug_t1_V006_79_1_01_01_01_13_3_1553bb_20200916_2.jpg: ignoring corrupt image/label: non-normalized or out of bounds coordinates [     1.1319       1.111]\n",
      "\u001b[34m\u001b[1mtrain: \u001b[0mWARNING: /Users/junghoonseo/Desktop/crop_disease/train/images/_resized_aug_t1_V006_79_1_01_01_01_13_3_1553bb_20201008_16.jpg: ignoring corrupt image/label: non-normalized or out of bounds coordinates [     1.0122]\n",
      "\u001b[34m\u001b[1mtrain: \u001b[0mWARNING: /Users/junghoonseo/Desktop/crop_disease/train/images/_resized_aug_t1_V006_79_1_01_01_01_13_3_1553bb_20201015_14.jpg: ignoring corrupt image/label: non-normalized or out of bounds coordinates [     1.0635]\n",
      "\u001b[34m\u001b[1mtrain: \u001b[0mWARNING: /Users/junghoonseo/Desktop/crop_disease/train/images/_resized_aug_t1_V006_79_1_01_01_01_13_3_1553bb_20201104_2.jpg: ignoring corrupt image/label: non-normalized or out of bounds coordinates [     1.0388]\n",
      "\u001b[34m\u001b[1mtrain: \u001b[0mWARNING: /Users/junghoonseo/Desktop/crop_disease/train/images/_resized_aug_t1_V006_79_1_01_01_01_13_3_1553bb_20201118_4.jpg: ignoring corrupt image/label: non-normalized or out of bounds coordinates [     1.0261]\n",
      "\u001b[34m\u001b[1mtrain: \u001b[0mWARNING: /Users/junghoonseo/Desktop/crop_disease/train/images/_resized_aug_t1_V006_79_1_01_01_01_13_3_3068z_20201027_14.jpg: ignoring corrupt image/label: negative label values [ -0.0020402]\n",
      "\u001b[34m\u001b[1mtrain: \u001b[0mWARNING: /Users/junghoonseo/Desktop/crop_disease/train/images/_resized_aug_t1_V006_79_1_01_01_01_13_3_3068z_20201027_15.jpg: ignoring corrupt image/label: negative label values [  -0.010491]\n",
      "\u001b[34m\u001b[1mtrain: \u001b[0mWARNING: /Users/junghoonseo/Desktop/crop_disease/train/images/_resized_aug_t1_V006_79_1_01_01_01_13_3_5430z_20200916_10.jpg: ignoring corrupt image/label: non-normalized or out of bounds coordinates [     1.0055]\n",
      "\u001b[34m\u001b[1mtrain: \u001b[0mWARNING: /Users/junghoonseo/Desktop/crop_disease/train/images/_resized_aug_t1_V006_79_1_01_01_01_13_3_5430z_20200916_18.jpg: ignoring corrupt image/label: non-normalized or out of bounds coordinates [     1.0163      1.0316]\n",
      "\u001b[34m\u001b[1mtrain: \u001b[0mWARNING: /Users/junghoonseo/Desktop/crop_disease/train/images/_resized_aug_t1_V006_79_1_01_01_01_13_3_5430z_20201008_18.jpg: ignoring corrupt image/label: non-normalized or out of bounds coordinates [     1.0032]\n",
      "\u001b[34m\u001b[1mtrain: \u001b[0mWARNING: /Users/junghoonseo/Desktop/crop_disease/train/images/_resized_aug_t1_V006_79_1_01_01_01_13_3_5430z_20201125_6.jpg: ignoring corrupt image/label: non-normalized or out of bounds coordinates [     1.1809      1.0344]\n",
      "\u001b[34m\u001b[1mtrain: \u001b[0mWARNING: /Users/junghoonseo/Desktop/crop_disease/train/images/_resized_aug_t1_V006_79_1_01_01_01_13_3_9315z_20200929_26.jpg: ignoring corrupt image/label: non-normalized or out of bounds coordinates [     1.0176]\n",
      "\u001b[34m\u001b[1mtrain: \u001b[0mWARNING: /Users/junghoonseo/Desktop/crop_disease/train/images/_resized_aug_t1_V006_79_1_02_01_03_13_1_0424z_20201023_45.jpg: ignoring corrupt image/label: non-normalized or out of bounds coordinates [     1.0161]\n",
      "\u001b[34m\u001b[1mtrain: \u001b[0mWARNING: /Users/junghoonseo/Desktop/crop_disease/train/images/_resized_aug_t1_V006_79_1_02_01_03_13_1_3068z_20201020_55.jpg: ignoring corrupt image/label: negative label values [   -0.06648]\n",
      "\u001b[34m\u001b[1mtrain: \u001b[0mWARNING: /Users/junghoonseo/Desktop/crop_disease/train/images/_resized_aug_t1_V006_79_1_02_01_03_13_2_1553bb_20201022_35.jpg: ignoring corrupt image/label: negative label values [   -0.01118]\n",
      "\u001b[34m\u001b[1mtrain: \u001b[0mWARNING: /Users/junghoonseo/Desktop/crop_disease/train/images/_resized_aug_t1_V006_79_1_02_01_03_13_2_3068z_20201020_32.jpg: ignoring corrupt image/label: non-normalized or out of bounds coordinates [     1.0478]\n",
      "\u001b[34m\u001b[1mtrain: \u001b[0mWARNING: /Users/junghoonseo/Desktop/crop_disease/train/images/_resized_aug_t1_V006_79_1_02_01_03_13_2_3068z_20201123_1.jpg: ignoring corrupt image/label: negative label values [ -0.0040435]\n",
      "\u001b[34m\u001b[1mtrain: \u001b[0mWARNING: /Users/junghoonseo/Desktop/crop_disease/train/images/_resized_aug_t1_V006_79_1_02_01_03_13_2_5430z_20201015_28.jpg: ignoring corrupt image/label: non-normalized or out of bounds coordinates [     1.0218]\n",
      "\u001b[34m\u001b[1mtrain: \u001b[0mWARNING: /Users/junghoonseo/Desktop/crop_disease/train/images/_resized_aug_t1_V006_79_1_02_01_03_13_3_0149z_20201014_16.jpg: ignoring corrupt image/label: non-normalized or out of bounds coordinates [     1.0886      1.0699]\n",
      "\u001b[34m\u001b[1mtrain: \u001b[0mWARNING: /Users/junghoonseo/Desktop/crop_disease/train/images/_resized_aug_t1_V006_79_1_02_01_03_13_3_0149z_20201014_17.jpg: ignoring corrupt image/label: non-normalized or out of bounds coordinates [      1.002      1.1081]\n",
      "\u001b[34m\u001b[1mtrain: \u001b[0mWARNING: /Users/junghoonseo/Desktop/crop_disease/train/images/_resized_aug_t1_V006_79_1_02_01_03_13_3_0149z_20201014_19.jpg: ignoring corrupt image/label: non-normalized or out of bounds coordinates [      1.056]\n",
      "\u001b[34m\u001b[1mtrain: \u001b[0mWARNING: /Users/junghoonseo/Desktop/crop_disease/train/images/_resized_aug_t1_V006_79_1_02_01_03_13_3_0149z_20201014_25.jpg: ignoring corrupt image/label: non-normalized or out of bounds coordinates [     1.0006      1.1689]\n",
      "\u001b[34m\u001b[1mtrain: \u001b[0mWARNING: /Users/junghoonseo/Desktop/crop_disease/train/images/_resized_aug_t1_V006_79_1_02_01_03_13_3_0149z_20201014_26.jpg: ignoring corrupt image/label: non-normalized or out of bounds coordinates [     1.0232      1.0242]\n",
      "\u001b[34m\u001b[1mtrain: \u001b[0mWARNING: /Users/junghoonseo/Desktop/crop_disease/train/images/_resized_aug_t1_V006_79_1_02_01_03_13_3_0149z_20201021_45.jpg: ignoring corrupt image/label: non-normalized or out of bounds coordinates [     1.0056]\n",
      "\u001b[34m\u001b[1mtrain: \u001b[0mWARNING: /Users/junghoonseo/Desktop/crop_disease/train/images/_resized_aug_t1_V006_79_1_02_01_03_13_3_0149z_20201021_56.jpg: ignoring corrupt image/label: non-normalized or out of bounds coordinates [     1.0251]\n",
      "\u001b[34m\u001b[1mtrain: \u001b[0mWARNING: /Users/junghoonseo/Desktop/crop_disease/train/images/_resized_aug_t1_V006_79_1_02_01_03_13_3_0149z_20201021_59.jpg: ignoring corrupt image/label: non-normalized or out of bounds coordinates [     1.0227]\n",
      "\u001b[34m\u001b[1mtrain: \u001b[0mWARNING: /Users/junghoonseo/Desktop/crop_disease/train/images/_resized_aug_t1_V006_79_1_02_01_03_13_3_0149z_20201028_12.jpg: ignoring corrupt image/label: non-normalized or out of bounds coordinates [     1.0684]\n",
      "\u001b[34m\u001b[1mtrain: \u001b[0mWARNING: /Users/junghoonseo/Desktop/crop_disease/train/images/_resized_aug_t1_V006_79_1_02_01_03_13_3_0149z_20201028_13.jpg: ignoring corrupt image/label: non-normalized or out of bounds coordinates [     1.0673]\n",
      "\u001b[34m\u001b[1mtrain: \u001b[0mWARNING: /Users/junghoonseo/Desktop/crop_disease/train/images/_resized_aug_t1_V006_79_1_02_01_03_13_3_0149z_20201028_21.jpg: ignoring corrupt image/label: non-normalized or out of bounds coordinates [      1.047]\n",
      "\u001b[34m\u001b[1mtrain: \u001b[0mWARNING: /Users/junghoonseo/Desktop/crop_disease/train/images/_resized_aug_t1_V006_79_1_02_01_03_13_3_0149z_20201028_29.jpg: ignoring corrupt image/label: non-normalized or out of bounds coordinates [     1.1532      1.1263]\n",
      "\u001b[34m\u001b[1mtrain: \u001b[0mWARNING: /Users/junghoonseo/Desktop/crop_disease/train/images/_resized_aug_t1_V006_79_1_02_01_03_13_3_0149z_20201028_31.jpg: ignoring corrupt image/label: non-normalized or out of bounds coordinates [     1.0316]\n",
      "\u001b[34m\u001b[1mtrain: \u001b[0mWARNING: /Users/junghoonseo/Desktop/crop_disease/train/images/_resized_aug_t1_V006_79_1_02_01_03_13_3_0149z_20201103_17.jpg: ignoring corrupt image/label: negative label values [ -0.0027397]\n",
      "\u001b[34m\u001b[1mtrain: \u001b[0mWARNING: /Users/junghoonseo/Desktop/crop_disease/train/images/_resized_aug_t1_V006_79_1_02_01_03_13_3_1553bb_20201029_4.jpg: ignoring corrupt image/label: negative label values [  -0.012274]\n",
      "\u001b[34m\u001b[1mtrain: \u001b[0mWARNING: /Users/junghoonseo/Desktop/crop_disease/train/images/_resized_aug_t1_V006_79_1_02_01_03_13_3_9315z_20201023_17.jpg: ignoring corrupt image/label: non-normalized or out of bounds coordinates [     1.0143]\n"
     ]
    },
    {
     "name": "stdout",
     "output_type": "stream",
     "text": [
      "\u001b[34m\u001b[1mval: \u001b[0mScanning '/Users/junghoonseo/Desktop/crop_disease/valid.cache' images and l\u001b[0m\n",
      "\u001b[34m\u001b[1mval: \u001b[0mWARNING: /Users/junghoonseo/Desktop/crop_disease/valid/images/_resized_aug_v2_V006_79_1_16_09_03_12_3_0827e_20201106_148.jpg: ignoring corrupt image/label: non-normalized or out of bounds coordinates [     1.0333]\n",
      "\u001b[34m\u001b[1mval: \u001b[0mWARNING: /Users/junghoonseo/Desktop/crop_disease/valid/images/_resized_aug_v2_V006_79_1_16_09_03_13_2_7800e_20201026_11.jpg: ignoring corrupt image/label: non-normalized or out of bounds coordinates [     1.1128]\n",
      "Plotting labels to yolov5/runs/train/crop_disease_diagnosis_train4/labels.jpg... \n",
      "\n",
      "\u001b[34m\u001b[1mAutoAnchor: \u001b[0m5.38 anchors/target, 0.999 Best Possible Recall (BPR). Current anchors are a good fit to dataset ✅\n",
      "Image sizes 640 train, 640 val\n",
      "Using 8 dataloader workers\n",
      "Logging results to \u001b[1myolov5/runs/train/crop_disease_diagnosis_train4\u001b[0m\n",
      "Starting training for 100 epochs...\n",
      "\n",
      "     Epoch   gpu_mem       box       obj       cls    labels  img_size\n",
      "      0/99        0G    0.1121   0.06093   0.05667       270       640:   2%|▏  "
     ]
    }
   ],
   "source": [
    "!python /Users/junghoonseo/Desktop/crop_disease/yolov5/train.py --img 640 --batch 32 --epochs 100 --data /Users/junghoonseo/Desktop/crop_disease/data.yaml --weights yolov5x.pt --name crop_disease_diagnosis_train --cfg /Users/junghoonseo/Desktop/crop_disease/yolov5/models/yolov5x.yaml"
   ]
  },
  {
   "cell_type": "code",
   "execution_count": null,
   "id": "dbe93b0a",
   "metadata": {},
   "outputs": [
    {
     "ename": "",
     "evalue": "",
     "output_type": "error",
     "traceback": [
      "\u001b[1;31m'Python 3.8.2 64-bit'(으)로 셀을 실행하려면 ipykernel 패키지가 필요합니다.\n",
      "다음 명령어를 실행하여 Python 환경에 'ipykernel'을(를) 설치합니다. \r\n",
      " 명령: '/usr/bin/python3 -m pip install ipykernel -U --user --force-reinstall'"
     ]
    }
   ],
   "source": [
    "!cp -r /Users/junghoonseo/Desktop/crop_disease/yolov5/runs/train/crop_disease_diagnosis_train /Users/junghoonseo/Desktop/crop_disease"
   ]
  },
  {
   "cell_type": "code",
   "execution_count": null,
   "id": "647f1674",
   "metadata": {},
   "outputs": [
    {
     "ename": "",
     "evalue": "",
     "output_type": "error",
     "traceback": [
      "\u001b[1;31m'Python 3.8.2 64-bit'(으)로 셀을 실행하려면 ipykernel 패키지가 필요합니다.\n",
      "다음 명령어를 실행하여 Python 환경에 'ipykernel'을(를) 설치합니다. \r\n",
      " 명령: '/usr/bin/python3 -m pip install ipykernel -U --user --force-reinstall'"
     ]
    }
   ],
   "source": [
    "!python /Users/junghoonseo/Desktop/crop_disease/yolov5/detect.py --weights /Users/junghoonseo/Desktop/crop_disease/yolov5/runs/train/crop_disease_diagnosis_train/weights/best.pt --img 640 --conf 0.5 --source /Users/junghoonseo/Desktop/crop_disease/crop_disease_diagnosis_train/test/1.jpg"
   ]
  },
  {
   "cell_type": "code",
   "execution_count": null,
   "id": "4c8448c8",
   "metadata": {},
   "outputs": [],
   "source": [
    "import cv2\n",
    "from google.colab.patches import cv2_imshow\n",
    "\n",
    "img = cv2.imread('/Users/junghoonseo/Desktop/crop_disease/yolov5/runs/detect/exp/1.jpg')\n",
    "cv2_imshow(img)"
   ]
  }
 ],
 "metadata": {
  "kernelspec": {
   "display_name": "yoloV5",
   "language": "python",
   "name": "yolov5"
  },
  "language_info": {
   "codemirror_mode": {
    "name": "ipython",
    "version": 3
   },
   "file_extension": ".py",
   "mimetype": "text/x-python",
   "name": "python",
   "nbconvert_exporter": "python",
   "pygments_lexer": "ipython3",
   "version": "3.8.13"
  },
  "vscode": {
   "interpreter": {
    "hash": "31f2aee4e71d21fbe5cf8b01ff0e069b9275f58929596ceb00d14d90e3e16cd6"
   }
  }
 },
 "nbformat": 4,
 "nbformat_minor": 5
}
