{
 "cells": [
  {
   "cell_type": "markdown",
   "metadata": {},
   "source": [
    "# Find the data where the text file exists but is empty"
   ]
  },
  {
   "cell_type": "code",
   "execution_count": 16,
   "metadata": {},
   "outputs": [],
   "source": [
    "import os\n",
    "import shutil\n",
    "\n",
    "dir_path = \"./crop_disease_dataset/\"\n",
    "f_list = os.listdir(dir_path + \"labels(origin)/\")\n",
    "\n",
    "em = []\n",
    "for f in f_list:\n",
    "    volume = os.path.getsize(dir_path + \"labels(origin)/\" + f)\n",
    "    if volume == 0:\n",
    "        i = f.split(\".\")[0]\n",
    "        image = i + \".jpg\"\n",
    "        shutil(dir_path + \"labels(origin)/\" + f, dir_path + f) # 아무것도 없는 라벨 밖으로 빼주기\n",
    "        shutil(dir_path + \"images(origin)/\" + image, dir_path + image) # 해당 사진도 밖으로 빼주기"
   ]
  }
 ],
 "metadata": {
  "kernelspec": {
   "display_name": "Python 3 (ipykernel)",
   "language": "python",
   "name": "python3"
  },
  "language_info": {
   "codemirror_mode": {
    "name": "ipython",
    "version": 3
   },
   "file_extension": ".py",
   "mimetype": "text/x-python",
   "name": "python",
   "nbconvert_exporter": "python",
   "pygments_lexer": "ipython3",
   "version": "3.8.13"
  },
  "vscode": {
   "interpreter": {
    "hash": "507317297c2071b102c545a8005e942338072417761d163cf09c6958a8af51fa"
   }
  }
 },
 "nbformat": 4,
 "nbformat_minor": 2
}
