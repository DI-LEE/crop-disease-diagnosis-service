{
 "cells": [
  {
   "cell_type": "markdown",
   "metadata": {},
   "source": [
    "# Data Augmentation"
   ]
  },
  {
   "cell_type": "code",
   "execution_count": null,
   "metadata": {},
   "outputs": [],
   "source": [
    "import os\n",
    "import cv2\n",
    "import time\n",
    "import numpy as np\n",
    "from tqdm import tqdm\n",
    "import imgaug as ia\n",
    "import imgaug.augmenters as iaa"
   ]
  },
  {
   "cell_type": "markdown",
   "metadata": {},
   "source": [
    "## Define required custom functions"
   ]
  },
  {
   "cell_type": "code",
   "execution_count": null,
   "metadata": {},
   "outputs": [],
   "source": [
    "def Yolo2Coord(size, box):\n",
    "  category = int(box[0]) # class\n",
    "  x_center, y_center, width, height = float(box[1]), float(box[2]), float(box[3]), float(box[4])\n",
    "  img_width, img_height = size[0], size[1]\n",
    "  x_min = int((x_center - width/2.) * img_width)\n",
    "  x_max = int((x_center + width/2.) * img_width)\n",
    "  y_min = int((y_center - height/2.) * img_height)\n",
    "  y_max = int((y_center + height/2.) * img_height)\n",
    "  return [category, x_min, y_min, x_max, y_max]"
   ]
  },
  {
   "cell_type": "code",
   "execution_count": null,
   "metadata": {},
   "outputs": [],
   "source": [
    "def Pascal2Yolo(box, size):\n",
    "    image_width, image_height = size[0], size[1]\n",
    "    # xmin, ymin, xmax, ymax\n",
    "    x_center = ((box[2] + box[0]) / 2) / (image_width)\n",
    "    y_center = ((box[3] + box[1]) / 2) / (image_height)\n",
    "    width = (box[2] - box[0]) / (image_width)\n",
    "    height = (box[3] - box[1]) / (image_height)\n",
    "    return [str(x_center), str(y_center), str(width), str(height)]"
   ]
  },
  {
   "cell_type": "code",
   "execution_count": null,
   "metadata": {},
   "outputs": [],
   "source": [
    "def after_box(bbs):\n",
    "  before = []\n",
    "  for i in range(len(bbs)):\n",
    "    x_min = bbs[i][0][0]\n",
    "    y_min = bbs[i][0][1]\n",
    "    x_max = bbs[i][1][0]\n",
    "    y_max = bbs[i][1][1]\n",
    "    before.append([x_min, y_min, x_max, y_max])\n",
    "  return before"
   ]
  },
  {
   "cell_type": "markdown",
   "metadata": {},
   "source": [
    "## Route Setting"
   ]
  },
  {
   "cell_type": "code",
   "execution_count": null,
   "metadata": {
    "scrolled": true
   },
   "outputs": [],
   "source": [
    "# 경로 설정\n",
    "root_path = \" \" #원천 이미지 & 라벨링 디렉토리\n",
    "image_path = \" \" # 원천 이미지 디렉토리\n",
    "label_path = \" \" # 원천 이미지 라벨링 디렉토리\n",
    "\n",
    "images = list(os.listdir(image_path))\n",
    "print(len(images), images[:5], sep=\"\\n\")\n",
    "labels = list(os.listdir(label_path))\n",
    "print(len(labels), labels[:5], sep=\"\\n\")"
   ]
  },
  {
   "cell_type": "markdown",
   "metadata": {},
   "source": [
    "## Categorization for Augmented Data"
   ]
  },
  {
   "cell_type": "code",
   "execution_count": null,
   "metadata": {},
   "outputs": [],
   "source": [
    "aug_name = \" \"\n",
    "# 원하는 파일명 적기"
   ]
  },
  {
   "cell_type": "markdown",
   "metadata": {},
   "source": [
    "## Augmentation"
   ]
  },
  {
   "cell_type": "code",
   "execution_count": null,
   "metadata": {},
   "outputs": [],
   "source": [
    "for img in tqdm(images):\n",
    "  image = cv2.imread(image_path + img) # 이미지 불러오기\n",
    "  label = img[:-4] + \".txt\" # 라벨링 데이터 불러오기\n",
    "  height, width = image.shape[:2] # 원천 이미지 픽셀 불러오기 (height, weight, dimension)\n",
    "  image_size = [width, height] # cv2는 height * weight를 출력하기 때문에 width, height형식으로 바꿔주기 --> 나중에 편하다\n",
    "\n",
    "  # bounding box 라벨 저장\n",
    "  label_list = [] # 텍스트 파일에 있는 라벨을 담을 빈 리스트\n",
    "\n",
    "  with open(label_path + label, \"r\") as f:\n",
    "    labs = f.readlines()\n",
    "    for lab in labs:\n",
    "      label_list.append(lab.split()) # 라벨들을 리스트에 저장\n",
    "    f.close()\n",
    "\n",
    "  new_bounding_boxes = []\n",
    "\n",
    "  for box in label_list:\n",
    "    new_bounding_boxes.append(Yolo2Coord(image_size, box))\n",
    "  cate = str(new_bounding_boxes[0][0])\n",
    "\n",
    "  # augmentation 할 때 쓰는 BoundingBox 타입으로 변환\n",
    "  ia_bounding_boxes = []\n",
    "\n",
    "  for box in new_bounding_boxes:\n",
    "    ia_bounding_boxes.append(ia.BoundingBox(x1 = box[1], y1 = box[2], x2 = box[3], y2 = box[4]))\n",
    "\n",
    "  # BoundingBoxesOnImage([BoundingBox(x1= ~, y1= ~, x2= ~, y2= ~, label=None)형식\n",
    "  \n",
    "  # augmentation\n",
    "  bbs = ia.BoundingBoxesOnImage(ia_bounding_boxes, shape = image.shape)\n",
    "\n",
    "  seq = iaa.Sequential([\n",
    "      iaa.AddToHueAndSaturation((-20, 20), per_channel = True),\n",
    "      iaa.Sometimes(0.5, iaa.Invert(0.1, per_channel = True)),\n",
    "      iaa.Sometimes(0.2, iaa.Grayscale(alpha = (0.0, 0.5))),\n",
    "      iaa.OneOf([iaa.Flipud(0.3), # 30%의 이미지 상하 반전\n",
    "                 iaa.Fliplr(0.4)]), # 40%의 이미지 좌우 반전\n",
    "      iaa.Sometimes(0.5, iaa.Superpixels(p_replace = (0, 0.5), n_segments = (20, 100))), # Superpixels: 비슷한 색/밝기를 가진 pixel 그룹화\n",
    "      iaa.Sometimes(0.5, iaa.LinearContrast((0.75, 1.5), per_channel = 0.5)), # LinearContrast: 이미지 일정 부분의 톤 차이를 돋보이게 만듦, 강한 대비\n",
    "      iaa.Sometimes(0.5, iaa.Affine(shear = (-4, 4), # Affine: 이미지 회전\n",
    "                                    rotate = (-40, 40), fit_output = True)), # fit_output: True 값을 적용해야 회전시켜도 이미지가 잘리지 않음\n",
    "      iaa.Sometimes(0.5, iaa.Emboss(alpha = (0, 0.5), strength = (0, 1.0))), # Emboss: 이미지 입체감 부여\n",
    "      iaa.OneOf([iaa.Grayscale(alpha = (0.0, 0.3)),\n",
    "                iaa.MedianBlur(k = (3, 11))]), # MedianBlur: 이미지 블러 처리\n",
    "      iaa.Sometimes(0.5, iaa.Sharpen(alpha = (0, 0.5), lightness = (0.75, 1.5)))], # Sharpen: 흐릿한 이미지를 선명하게 만듦\n",
    "      random_order = True)\n",
    "\n",
    "  image_aug, bbs_aug = seq(image = image, bounding_boxes = bbs) # image_aug : 증강된 이미지, bbs_aug : 증강이 적용된 bounding box 좌표\n",
    "\n",
    "  cv2.imwrite(root_path + \"aug_img/\"  + aug_name + img, image_aug) # 증강 이미지 저장\n",
    "\n",
    "  # 증강된 사진 좌표\n",
    "  resized = image_aug.shape\n",
    "  rotated_size = [resized[1], resized[0]] # height, width -> width, height\n",
    "\n",
    "  augmented_coords = after_box(bbs_aug)\n",
    "\n",
    "  yolos = []\n",
    "\n",
    "  for i in range(len(augmented_coords)):\n",
    "    a = Pascal2Yolo(augmented_coords[i], rotated_size)\n",
    "    final = cate + \" \" + \" \".join(a)\n",
    "    yolos.append(final)\n",
    "  \n",
    "  # print(yolos)\n",
    "  # print(\"===================================================================================\")\n",
    "\n",
    "  f = open(root_path + \"aug_label/\" + aug_name + label, \"w\", encoding = \"utf-8\", newline='') # 증강 라벨 저장 --> 원하는 경로 적기\n",
    "  \n",
    "  for yolo in yolos:\n",
    "    f.write(yolo)\n",
    "    f.write(\"\\n\")\n",
    "  f.close()"
   ]
  }
 ],
 "metadata": {
  "kernelspec": {
   "display_name": "Python 3 (ipykernel)",
   "language": "python",
   "name": "python3"
  },
  "language_info": {
   "codemirror_mode": {
    "name": "ipython",
    "version": 3
   },
   "file_extension": ".py",
   "mimetype": "text/x-python",
   "name": "python",
   "nbconvert_exporter": "python",
   "pygments_lexer": "ipython3",
   "version": "3.8.8"
  },
  "vscode": {
   "interpreter": {
    "hash": "507317297c2071b102c545a8005e942338072417761d163cf09c6958a8af51fa"
   }
  }
 },
 "nbformat": 4,
 "nbformat_minor": 2
}
