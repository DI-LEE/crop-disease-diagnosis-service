{
 "cells": [
  {
   "cell_type": "markdown",
   "metadata": {},
   "source": [
    "# Divide Data(train : valid) by 8 : 2"
   ]
  },
  {
   "cell_type": "code",
   "execution_count": null,
   "metadata": {},
   "outputs": [],
   "source": [
    "# 필요한 모듈 불러오기\n",
    "import os\n",
    "from tqdm import tqdm\n",
    "import shutil\n",
    "import random"
   ]
  },
  {
   "cell_type": "markdown",
   "metadata": {},
   "source": [
    "## ex_ Pepper"
   ]
  },
  {
   "cell_type": "code",
   "execution_count": null,
   "metadata": {},
   "outputs": [],
   "source": [
    "pepper = os.listdir(r\"C:\\Users\\jason\\Desktop\\workspace_for_augmentation\\pepper\")\n",
    "\n",
    "label_list = [] \n",
    "for label in pepper:\n",
    "    if \".txt\" in label:\n",
    "        label_list.append(label.split(\".\")[0])\n",
    "\n",
    "print(len(label_list))\n",
    "print(label_list[:5])"
   ]
  },
  {
   "cell_type": "markdown",
   "metadata": {},
   "source": [
    "## Shuffle"
   ]
  },
  {
   "cell_type": "code",
   "execution_count": null,
   "metadata": {},
   "outputs": [],
   "source": [
    "random.shuffle(label_list)\n",
    "split_range = round(len(label_list) * 0.8)\n",
    "\n",
    "train = label_list[:split_range]\n",
    "valid = label_list[split_range:]\n",
    "\n",
    "print(len(train))\n",
    "print(len(valid))"
   ]
  },
  {
   "cell_type": "markdown",
   "metadata": {},
   "source": [
    "## Route Setting"
   ]
  },
  {
   "cell_type": "code",
   "execution_count": null,
   "metadata": {},
   "outputs": [],
   "source": [
    "source = \"C:/Users/jason/Desktop/workspace_for_augmentation/pepper/\"\n",
    "train_target = \"C:/Users/jason/Desktop/workspace_for_augmentation/pepper_train/\"\n",
    "valid_target = \"C:/Users/jason/Desktop/workspace_for_augmentation/pepper_valid/\""
   ]
  },
  {
   "cell_type": "markdown",
   "metadata": {},
   "source": [
    "## Train"
   ]
  },
  {
   "cell_type": "code",
   "execution_count": null,
   "metadata": {},
   "outputs": [],
   "source": [
    "for file in train:\n",
    "    image = file + \".jpg\"\n",
    "    label = file + \".txt\"\n",
    "    shutil.move(source + image, train_target + image)\n",
    "    shutil.move(source + label, train_target + label)"
   ]
  },
  {
   "cell_type": "markdown",
   "metadata": {},
   "source": [
    "### check"
   ]
  },
  {
   "cell_type": "code",
   "execution_count": null,
   "metadata": {},
   "outputs": [],
   "source": [
    "print(len(os.listdir(r\"C:\\Users\\jason\\Desktop\\workspace_for_augmentation\\pepper_train\"))) "
   ]
  },
  {
   "cell_type": "markdown",
   "metadata": {},
   "source": [
    "## Valid"
   ]
  },
  {
   "cell_type": "code",
   "execution_count": null,
   "metadata": {},
   "outputs": [],
   "source": [
    "for file in valid:\n",
    "    image = file + \".jpg\"\n",
    "    label = file + \".txt\"\n",
    "    shutil.move(source + image, valid_target + image)\n",
    "    shutil.move(source + label, valid_target + label)"
   ]
  },
  {
   "cell_type": "markdown",
   "metadata": {},
   "source": [
    "### check"
   ]
  },
  {
   "cell_type": "code",
   "execution_count": null,
   "metadata": {},
   "outputs": [],
   "source": [
    "print(len(os.listdir(r\"C:\\Users\\jason\\Desktop\\workspace_for_augmentation\\pepper_valid\"))) "
   ]
  },
  {
   "cell_type": "markdown",
   "metadata": {},
   "source": [
    "## ex_ Tomato"
   ]
  },
  {
   "cell_type": "code",
   "execution_count": null,
   "metadata": {},
   "outputs": [],
   "source": [
    "tomato = os.listdir(r\"C:\\Users\\jason\\Desktop\\workspace_for_augmentation\\tomato\")\n",
    "\n",
    "label_list = [] \n",
    "for label in tomato:\n",
    "    if \".txt\" in label:\n",
    "        label_list.append(label.split(\".\")[0])\n",
    "\n",
    "print(len(label_list))\n",
    "print(label_list[:5])"
   ]
  },
  {
   "cell_type": "markdown",
   "metadata": {},
   "source": [
    "### Shuffle"
   ]
  },
  {
   "cell_type": "code",
   "execution_count": null,
   "metadata": {},
   "outputs": [],
   "source": [
    "random.shuffle(label_list)\n",
    "split_range = round(len(label_list) * 0.8)\n",
    "\n",
    "train = label_list[:split_range]\n",
    "valid = label_list[split_range:]\n",
    "\n",
    "print(len(train))\n",
    "print(len(valid))"
   ]
  },
  {
   "cell_type": "markdown",
   "metadata": {},
   "source": [
    "## Route setting"
   ]
  },
  {
   "cell_type": "code",
   "execution_count": null,
   "metadata": {},
   "outputs": [],
   "source": [
    "source = \"C:/Users/jason/Desktop/workspace_for_augmentation/tomato/\"\n",
    "train_target = \"C:/Users/jason/Desktop/workspace_for_augmentation/tomato_train/\"\n",
    "valid_target = \"C:/Users/jason/Desktop/workspace_for_augmentation/tomato_valid/\""
   ]
  },
  {
   "cell_type": "markdown",
   "metadata": {},
   "source": [
    "## Train"
   ]
  },
  {
   "cell_type": "code",
   "execution_count": null,
   "metadata": {},
   "outputs": [],
   "source": [
    "for file in train:\n",
    "    image = file + \".jpg\"\n",
    "    label = file + \".txt\"\n",
    "    shutil.move(source + image, train_target + image)\n",
    "    shutil.move(source + label, train_target + label)"
   ]
  },
  {
   "cell_type": "markdown",
   "metadata": {},
   "source": [
    "### check"
   ]
  },
  {
   "cell_type": "code",
   "execution_count": null,
   "metadata": {},
   "outputs": [],
   "source": [
    "print(len(os.listdir(r\"C:\\Users\\jason\\Desktop\\workspace_for_augmentation\\tomato_train\"))) "
   ]
  },
  {
   "cell_type": "markdown",
   "metadata": {},
   "source": [
    "## Valid"
   ]
  },
  {
   "cell_type": "code",
   "execution_count": null,
   "metadata": {},
   "outputs": [],
   "source": [
    "for file in valid:\n",
    "    image = file + \".jpg\"\n",
    "    label = file + \".txt\"\n",
    "    shutil.move(source + image, valid_target + image)\n",
    "    shutil.move(source + label, valid_target + label)"
   ]
  },
  {
   "cell_type": "markdown",
   "metadata": {},
   "source": [
    "### check"
   ]
  },
  {
   "cell_type": "code",
   "execution_count": null,
   "metadata": {},
   "outputs": [],
   "source": [
    "print(len(os.listdir(r\"C:\\Users\\jason\\Desktop\\workspace_for_augmentation\\tomato_valid\")))"
   ]
  }
 ],
 "metadata": {
  "kernelspec": {
   "display_name": "Python 3 (ipykernel)",
   "language": "python",
   "name": "python3"
  },
  "language_info": {
   "codemirror_mode": {
    "name": "ipython",
    "version": 3
   },
   "file_extension": ".py",
   "mimetype": "text/x-python",
   "name": "python",
   "nbconvert_exporter": "python",
   "pygments_lexer": "ipython3",
   "version": "3.8.13"
  },
  "vscode": {
   "interpreter": {
    "hash": "507317297c2071b102c545a8005e942338072417761d163cf09c6958a8af51fa"
   }
  }
 },
 "nbformat": 4,
 "nbformat_minor": 2
}
