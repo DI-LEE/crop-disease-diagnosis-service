{
 "cells": [
  {
   "cell_type": "markdown",
   "id": "966f5c3e",
   "metadata": {},
   "source": [
    "# greenpumkin label data preprocess"
   ]
  },
  {
   "cell_type": "markdown",
   "id": "f3563e9f",
   "metadata": {},
   "source": [
    "## 라벨 데이터들 하나의 파일로 concat"
   ]
  },
  {
   "cell_type": "code",
   "execution_count": 2,
   "id": "233a4a0c",
   "metadata": {},
   "outputs": [
    {
     "name": "stdout",
     "output_type": "stream",
     "text": [
      "104050\n",
      "120815\n"
     ]
    }
   ],
   "source": [
    "import pandas as pd \n",
    "\n",
    "data_1 = pd.read_csv(r\"C:\\Users\\DI Lee\\Desktop\\Korean_Based_Image_Captioning_Model-main\\project_dataset\\project_dataset\\train\\label\\greenpumkin_disease_normal.csv\", encoding='cp949')  \n",
    "data_2 = pd.read_csv(r\"C:\\Users\\DI Lee\\Desktop\\Korean_Based_Image_Captioning_Model-main\\project_dataset\\project_dataset\\train\\label\\pepper_disease_normal.csv\", encoding='cp949')  \n",
    "\n",
    "print(len(data_1))\n",
    "print(len(data_2))"
   ]
  },
  {
   "cell_type": "code",
   "execution_count": 3,
   "id": "65ea9a43",
   "metadata": {
    "scrolled": true
   },
   "outputs": [
    {
     "data": {
      "text/plain": [
       "224865"
      ]
     },
     "execution_count": 3,
     "metadata": {},
     "output_type": "execute_result"
    }
   ],
   "source": [
    "data_all = pd.concat([data_1, data_2])\n",
    "len(data_all)"
   ]
  },
  {
   "cell_type": "code",
   "execution_count": 4,
   "id": "8d1bd924",
   "metadata": {},
   "outputs": [],
   "source": [
    "data_all.to_csv(r\"C:\\Users\\DI Lee\\Desktop\\Korean_Based_Image_Captioning_Model-main\\project_dataset\\project_dataset\\train\\label\\pepper_greenpumkin.csv\", encoding='euc-kr')"
   ]
  },
  {
   "cell_type": "code",
   "execution_count": 49,
   "id": "4d7051c4",
   "metadata": {
    "scrolled": false
   },
   "outputs": [
    {
     "name": "stdout",
     "output_type": "stream",
     "text": [
      "3275\n",
      "47775\n",
      "29250\n",
      "23760\n",
      "\n",
      "104060\n"
     ]
    },
    {
     "data": {
      "text/html": [
       "<div>\n",
       "<style scoped>\n",
       "    .dataframe tbody tr th:only-of-type {\n",
       "        vertical-align: middle;\n",
       "    }\n",
       "\n",
       "    .dataframe tbody tr th {\n",
       "        vertical-align: top;\n",
       "    }\n",
       "\n",
       "    .dataframe thead th {\n",
       "        text-align: right;\n",
       "    }\n",
       "</style>\n",
       "<table border=\"1\" class=\"dataframe\">\n",
       "  <thead>\n",
       "    <tr style=\"text-align: right;\">\n",
       "      <th></th>\n",
       "      <th>images</th>\n",
       "      <th>captions</th>\n",
       "    </tr>\n",
       "  </thead>\n",
       "  <tbody>\n",
       "    <tr>\n",
       "      <th>0</th>\n",
       "      <td>V006_79_1_07_04_03_13_2_3033t_20201008_388.jpg</td>\n",
       "      <td>잎의 앞면에 부정형 반점이 엷은 황색을 띄는 것을 보니 애호박 노균병으로 판단됩니다</td>\n",
       "    </tr>\n",
       "    <tr>\n",
       "      <th>1</th>\n",
       "      <td>V006_79_1_07_04_03_13_2_3033t_20201008_388.jpg</td>\n",
       "      <td>엷은 황색의 부정형 반점이 잎의 앞면에 띄는 것을 보니 애호박 뇨균병으로 생각됩니다</td>\n",
       "    </tr>\n",
       "    <tr>\n",
       "      <th>2</th>\n",
       "      <td>V006_79_1_07_04_03_13_2_3033t_20201008_388.jpg</td>\n",
       "      <td>부정형 반점이 엷은 황색을 띄고 잎의 앞면에 있는 것을 보니 애호박 노균병으로 판단됩니다</td>\n",
       "    </tr>\n",
       "    <tr>\n",
       "      <th>3</th>\n",
       "      <td>V006_79_1_07_04_03_13_2_3033t_20201008_388.jpg</td>\n",
       "      <td>잎의 앞면을 보니 부정형 반점이 엷은 황색을 띄어 애호박 노균병으로 판단됩니다</td>\n",
       "    </tr>\n",
       "    <tr>\n",
       "      <th>4</th>\n",
       "      <td>V006_79_1_07_04_03_13_2_3033t_20201008_388.jpg</td>\n",
       "      <td>잎의 앞면에 있는 부정형 반점이 엷은 황색을 띄고 있어 애호박 노균병으로 판단됩니다</td>\n",
       "    </tr>\n",
       "  </tbody>\n",
       "</table>\n",
       "</div>"
      ],
      "text/plain": [
       "                                           images  \\\n",
       "0  V006_79_1_07_04_03_13_2_3033t_20201008_388.jpg   \n",
       "1  V006_79_1_07_04_03_13_2_3033t_20201008_388.jpg   \n",
       "2  V006_79_1_07_04_03_13_2_3033t_20201008_388.jpg   \n",
       "3  V006_79_1_07_04_03_13_2_3033t_20201008_388.jpg   \n",
       "4  V006_79_1_07_04_03_13_2_3033t_20201008_388.jpg   \n",
       "\n",
       "                                            captions  \n",
       "0     잎의 앞면에 부정형 반점이 엷은 황색을 띄는 것을 보니 애호박 노균병으로 판단됩니다  \n",
       "1     엷은 황색의 부정형 반점이 잎의 앞면에 띄는 것을 보니 애호박 뇨균병으로 생각됩니다  \n",
       "2  부정형 반점이 엷은 황색을 띄고 잎의 앞면에 있는 것을 보니 애호박 노균병으로 판단됩니다  \n",
       "3        잎의 앞면을 보니 부정형 반점이 엷은 황색을 띄어 애호박 노균병으로 판단됩니다  \n",
       "4     잎의 앞면에 있는 부정형 반점이 엷은 황색을 띄고 있어 애호박 노균병으로 판단됩니다  "
      ]
     },
     "execution_count": 49,
     "metadata": {},
     "output_type": "execute_result"
    }
   ],
   "source": [
    "import pandas as pd \n",
    "\n",
    "data_1 = pd.read_csv(\"A:\\라벨링\\zuccini_disease.csv\", encoding='cp949')  \n",
    "data_2 = pd.read_csv(\"A:\\라벨링\\zuccini_disease2.csv\", encoding='cp949')  \n",
    "data_3 = pd.read_csv(\"A:\\라벨링\\zuccini_disease3.csv\", encoding='cp949') \n",
    "data_4 = pd.read_csv(\"A:\\라벨링\\zuccini_normal.csv\", encoding='cp949') \n",
    "\n",
    "data_all = pd.concat([data_1, data_2, data_3, data_4])\n",
    "\n",
    "print(len(data_1))\n",
    "print(len(data_2))\n",
    "print(len(data_3))\n",
    "print(len(data_4))\n",
    "print()\n",
    "print(len(data_all))\n",
    "\n",
    "\n",
    "data_all.head()"
   ]
  },
  {
   "cell_type": "code",
   "execution_count": 8,
   "id": "9e7944bf",
   "metadata": {},
   "outputs": [],
   "source": [
    "greenpumkin_all.to_csv(\"A:/project_dataset/train/label/greenpumkin_disease_normal.csv\", encoding='euc-kr')"
   ]
  },
  {
   "cell_type": "markdown",
   "id": "8246bf19",
   "metadata": {},
   "source": [
    "라벨에 있는데 실제 이미지에 없는 row 지우기"
   ]
  },
  {
   "cell_type": "code",
   "execution_count": 50,
   "id": "a580db8f",
   "metadata": {
    "scrolled": false
   },
   "outputs": [
    {
     "name": "stdout",
     "output_type": "stream",
     "text": [
      "104055\n"
     ]
    }
   ],
   "source": [
    "mask = data_all['images'].isin(['V006_79_0_00_04_05_12_0_b10_20201016_0000_S01_1.jpg'])\n",
    "data_all = data_all[~mask]\n",
    "print(len(data_all))"
   ]
  },
  {
   "cell_type": "code",
   "execution_count": 2,
   "id": "59c278b4",
   "metadata": {
    "scrolled": true
   },
   "outputs": [
    {
     "data": {
      "text/html": [
       "<div>\n",
       "<style scoped>\n",
       "    .dataframe tbody tr th:only-of-type {\n",
       "        vertical-align: middle;\n",
       "    }\n",
       "\n",
       "    .dataframe tbody tr th {\n",
       "        vertical-align: top;\n",
       "    }\n",
       "\n",
       "    .dataframe thead th {\n",
       "        text-align: right;\n",
       "    }\n",
       "</style>\n",
       "<table border=\"1\" class=\"dataframe\">\n",
       "  <thead>\n",
       "    <tr style=\"text-align: right;\">\n",
       "      <th></th>\n",
       "      <th>images</th>\n",
       "      <th>captions</th>\n",
       "    </tr>\n",
       "  </thead>\n",
       "  <tbody>\n",
       "    <tr>\n",
       "      <th>0</th>\n",
       "      <td>V006_79_0_00_04_03_12_0_b10_20201012_0000_S01_...</td>\n",
       "      <td>애호박 잎에 특별한 병이 검출되지 않은 것으로 보아 정상으로 판단됩니다</td>\n",
       "    </tr>\n",
       "    <tr>\n",
       "      <th>1</th>\n",
       "      <td>V006_79_0_00_04_03_12_0_b10_20201012_0000_S01_...</td>\n",
       "      <td>애호박 잎에서 특별한 질병이 발견되지 않았기 때문에 정상으로 간주됩니다</td>\n",
       "    </tr>\n",
       "    <tr>\n",
       "      <th>2</th>\n",
       "      <td>V006_79_0_00_04_03_12_0_b10_20201012_0000_S01_...</td>\n",
       "      <td>특별한 질병이 애호박 잎에서 발견되지 않았기 때문에 정상으로 간주됩니다</td>\n",
       "    </tr>\n",
       "    <tr>\n",
       "      <th>3</th>\n",
       "      <td>V006_79_0_00_04_03_12_0_b10_20201012_0000_S01_...</td>\n",
       "      <td>특별한 질병이 애호박 잎에서 검출되지 않은 것으로 보아 정상으로 판단됩니다</td>\n",
       "    </tr>\n",
       "    <tr>\n",
       "      <th>4</th>\n",
       "      <td>V006_79_0_00_04_03_12_0_b10_20201012_0000_S01_...</td>\n",
       "      <td>애호박 잎에서 특별한 질병이 발견되지 않았기 때문에 정상으로 판단됩니다</td>\n",
       "    </tr>\n",
       "    <tr>\n",
       "      <th>...</th>\n",
       "      <td>...</td>\n",
       "      <td>...</td>\n",
       "    </tr>\n",
       "    <tr>\n",
       "      <th>104050</th>\n",
       "      <td>V006_79_1_08_04_03_13_3_8621t_20201022_1227_b0...</td>\n",
       "      <td>잎에 담황색 병무늬와 밀가루 바른 것과 같은 증상이 넓게 나타나는 것으로 보아 애호...</td>\n",
       "    </tr>\n",
       "    <tr>\n",
       "      <th>104051</th>\n",
       "      <td>V006_79_1_08_04_03_13_3_8621t_20201022_1227_b0...</td>\n",
       "      <td>담황색 반점무늬와 연한 흰색 곰팡이가 잎에 나타나는 것으로 보아 애호박 흰가루병으로...</td>\n",
       "    </tr>\n",
       "    <tr>\n",
       "      <th>104052</th>\n",
       "      <td>V006_79_1_08_04_03_13_3_8621t_20201022_1227_b0...</td>\n",
       "      <td>서릿발 모양의 포자가 넓게 나타나고 담황색 병무늬가 나타나는 것으로 보아 애호박 흰...</td>\n",
       "    </tr>\n",
       "    <tr>\n",
       "      <th>104053</th>\n",
       "      <td>V006_79_1_08_04_03_13_3_8621t_20201022_1227_b0...</td>\n",
       "      <td>잎에 이슬과 같은 연한 흰색 곰팡이가 보이고 담황색 반점무늬가 나타나는 것으로 보아...</td>\n",
       "    </tr>\n",
       "    <tr>\n",
       "      <th>104054</th>\n",
       "      <td>V006_79_1_08_04_03_13_3_8621t_20201022_1227_b0...</td>\n",
       "      <td>밀가루를 바른 것과 같은 포자가 넓게 나타나고 담황색 병무늬가 보이는 것으로 보아 ...</td>\n",
       "    </tr>\n",
       "  </tbody>\n",
       "</table>\n",
       "<p>104055 rows × 2 columns</p>\n",
       "</div>"
      ],
      "text/plain": [
       "                                                   images  \\\n",
       "0       V006_79_0_00_04_03_12_0_b10_20201012_0000_S01_...   \n",
       "1       V006_79_0_00_04_03_12_0_b10_20201012_0000_S01_...   \n",
       "2       V006_79_0_00_04_03_12_0_b10_20201012_0000_S01_...   \n",
       "3       V006_79_0_00_04_03_12_0_b10_20201012_0000_S01_...   \n",
       "4       V006_79_0_00_04_03_12_0_b10_20201012_0000_S01_...   \n",
       "...                                                   ...   \n",
       "104050  V006_79_1_08_04_03_13_3_8621t_20201022_1227_b0...   \n",
       "104051  V006_79_1_08_04_03_13_3_8621t_20201022_1227_b0...   \n",
       "104052  V006_79_1_08_04_03_13_3_8621t_20201022_1227_b0...   \n",
       "104053  V006_79_1_08_04_03_13_3_8621t_20201022_1227_b0...   \n",
       "104054  V006_79_1_08_04_03_13_3_8621t_20201022_1227_b0...   \n",
       "\n",
       "                                                 captions  \n",
       "0                 애호박 잎에 특별한 병이 검출되지 않은 것으로 보아 정상으로 판단됩니다  \n",
       "1                 애호박 잎에서 특별한 질병이 발견되지 않았기 때문에 정상으로 간주됩니다  \n",
       "2                 특별한 질병이 애호박 잎에서 발견되지 않았기 때문에 정상으로 간주됩니다  \n",
       "3               특별한 질병이 애호박 잎에서 검출되지 않은 것으로 보아 정상으로 판단됩니다  \n",
       "4                애호박 잎에서 특별한 질병이 발견되지 않았기 때문에 정상으로 판단됩니다   \n",
       "...                                                   ...  \n",
       "104050  잎에 담황색 병무늬와 밀가루 바른 것과 같은 증상이 넓게 나타나는 것으로 보아 애호...  \n",
       "104051  담황색 반점무늬와 연한 흰색 곰팡이가 잎에 나타나는 것으로 보아 애호박 흰가루병으로...  \n",
       "104052  서릿발 모양의 포자가 넓게 나타나고 담황색 병무늬가 나타나는 것으로 보아 애호박 흰...  \n",
       "104053  잎에 이슬과 같은 연한 흰색 곰팡이가 보이고 담황색 반점무늬가 나타나는 것으로 보아...  \n",
       "104054  밀가루를 바른 것과 같은 포자가 넓게 나타나고 담황색 병무늬가 보이는 것으로 보아 ...  \n",
       "\n",
       "[104055 rows x 2 columns]"
      ]
     },
     "execution_count": 2,
     "metadata": {},
     "output_type": "execute_result"
    }
   ],
   "source": [
    "greenpumkin_all = pd.read_csv(r\"A:\\project_dataset\\train\\label\\greenpumkin_disease_normal.csv\", encoding='cp949')  \n",
    "greenpumkin_all"
   ]
  },
  {
   "cell_type": "markdown",
   "id": "5f0c9845",
   "metadata": {},
   "source": [
    "깨진 이미지 지우기"
   ]
  },
  {
   "cell_type": "code",
   "execution_count": 6,
   "id": "12df8f1e",
   "metadata": {
    "scrolled": true
   },
   "outputs": [
    {
     "name": "stdout",
     "output_type": "stream",
     "text": [
      "104050\n"
     ]
    }
   ],
   "source": [
    "mask = greenpumkin_all['images'].isin(['V006_79_1_08_04_03_13_2_5950b_20201029_1453_a0001.jpg'])\n",
    "greenpumkin_all = greenpumkin_all[~mask]\n",
    "print(len(greenpumkin_all))"
   ]
  },
  {
   "cell_type": "markdown",
   "id": "296859bb",
   "metadata": {},
   "source": [
    "인코딩 확인"
   ]
  },
  {
   "cell_type": "code",
   "execution_count": 28,
   "id": "4dbfc50d",
   "metadata": {},
   "outputs": [
    {
     "name": "stdout",
     "output_type": "stream",
     "text": [
      "ascii\n"
     ]
    }
   ],
   "source": [
    "import chardet\n",
    "\n",
    "filename = \"A:/project_dataset/train/label/greenpumkin_disease_normal.csv\"\n",
    "with open(filename, 'rb') as f:\n",
    "    result = chardet.detect(f.readline())  \n",
    "    print(result['encoding'])"
   ]
  },
  {
   "cell_type": "code",
   "execution_count": 29,
   "id": "777d4227",
   "metadata": {},
   "outputs": [
    {
     "name": "stdout",
     "output_type": "stream",
     "text": [
      "ascii\n"
     ]
    }
   ],
   "source": [
    "import chardet\n",
    "\n",
    "filename = \"A:/project_dataset/train/label/pepper_disease_normal.csv\"\n",
    "with open(filename, 'rb') as f:\n",
    "    result = chardet.detect(f.readline())  \n",
    "    print(result['encoding'])"
   ]
  },
  {
   "cell_type": "markdown",
   "id": "7c78332e",
   "metadata": {},
   "source": [
    "# 모든 라벨 concat"
   ]
  },
  {
   "cell_type": "code",
   "execution_count": 1,
   "id": "133af24a",
   "metadata": {},
   "outputs": [],
   "source": [
    "import pandas as pd \n",
    "\n",
    "data_1 = pd.read_csv(r\"C:\\Users\\DI Lee\\Desktop\\Korean_Based_Image_Captioning_Model-main\\project_dataset\\project_dataset\\train\\label\\bean_disease_normal.csv\", encoding='cp949')  \n",
    "data_2 = pd.read_csv(r\"C:\\Users\\DI Lee\\Desktop\\Korean_Based_Image_Captioning_Model-main\\project_dataset\\project_dataset\\train\\label\\greenonion_disease_normal.csv\", encoding='cp949')  \n",
    "data_3 = pd.read_csv(r\"C:\\Users\\DI Lee\\Desktop\\Korean_Based_Image_Captioning_Model-main\\project_dataset\\project_dataset\\train\\label\\greenpumkin_disease_normal.csv\", encoding='cp949') \n",
    "data_4 = pd.read_csv(r\"C:\\Users\\DI Lee\\Desktop\\Korean_Based_Image_Captioning_Model-main\\project_dataset\\project_dataset\\train\\label\\pepper_disease_normal.csv\", encoding='cp949') \n",
    "data_5 = pd.read_csv(r\"C:\\Users\\DI Lee\\Desktop\\Korean_Based_Image_Captioning_Model-main\\project_dataset\\project_dataset\\train\\label\\tomato_disease_normal.csv\", encoding='cp949') \n",
    "\n",
    "data_all = pd.concat([data_1, data_2, data_3, data_4, data_5])"
   ]
  },
  {
   "cell_type": "code",
   "execution_count": 3,
   "id": "0218f841",
   "metadata": {},
   "outputs": [
    {
     "data": {
      "text/html": [
       "<div>\n",
       "<style scoped>\n",
       "    .dataframe tbody tr th:only-of-type {\n",
       "        vertical-align: middle;\n",
       "    }\n",
       "\n",
       "    .dataframe tbody tr th {\n",
       "        vertical-align: top;\n",
       "    }\n",
       "\n",
       "    .dataframe thead th {\n",
       "        text-align: right;\n",
       "    }\n",
       "</style>\n",
       "<table border=\"1\" class=\"dataframe\">\n",
       "  <thead>\n",
       "    <tr style=\"text-align: right;\">\n",
       "      <th></th>\n",
       "      <th>images</th>\n",
       "      <th>captions</th>\n",
       "    </tr>\n",
       "  </thead>\n",
       "  <tbody>\n",
       "    <tr>\n",
       "      <th>0</th>\n",
       "      <td>V006_79_0_00_08_01_13_0_b01_20201021_0000_S01_...</td>\n",
       "      <td>콩에 특별한 병이 검출되지 않은 것으로 보아 정상으로 판단됩니다</td>\n",
       "    </tr>\n",
       "    <tr>\n",
       "      <th>1</th>\n",
       "      <td>V006_79_0_00_08_01_13_0_b01_20201021_0000_S01_...</td>\n",
       "      <td>콩에서 특별한 질병이 발견되지 않았기 때문에 정상으로 간주됩니다</td>\n",
       "    </tr>\n",
       "    <tr>\n",
       "      <th>2</th>\n",
       "      <td>V006_79_0_00_08_01_13_0_b01_20201021_0000_S01_...</td>\n",
       "      <td>특별한 질병이 콩에서 발견되지 않았기 때문에 정상으로 간주됩니다</td>\n",
       "    </tr>\n",
       "    <tr>\n",
       "      <th>3</th>\n",
       "      <td>V006_79_0_00_08_01_13_0_b01_20201021_0000_S01_...</td>\n",
       "      <td>특별한 질병이 콩에서 검출되지 않은 것으로 보아 정상으로 판단됩니다</td>\n",
       "    </tr>\n",
       "    <tr>\n",
       "      <th>4</th>\n",
       "      <td>V006_79_0_00_08_01_13_0_b01_20201021_0000_S01_...</td>\n",
       "      <td>콩에서 특별한 질병이 발견되지 않았기 때문에 정상으로 판단됩니다</td>\n",
       "    </tr>\n",
       "  </tbody>\n",
       "</table>\n",
       "</div>"
      ],
      "text/plain": [
       "                                              images  \\\n",
       "0  V006_79_0_00_08_01_13_0_b01_20201021_0000_S01_...   \n",
       "1  V006_79_0_00_08_01_13_0_b01_20201021_0000_S01_...   \n",
       "2  V006_79_0_00_08_01_13_0_b01_20201021_0000_S01_...   \n",
       "3  V006_79_0_00_08_01_13_0_b01_20201021_0000_S01_...   \n",
       "4  V006_79_0_00_08_01_13_0_b01_20201021_0000_S01_...   \n",
       "\n",
       "                                captions  \n",
       "0    콩에 특별한 병이 검출되지 않은 것으로 보아 정상으로 판단됩니다  \n",
       "1    콩에서 특별한 질병이 발견되지 않았기 때문에 정상으로 간주됩니다  \n",
       "2    특별한 질병이 콩에서 발견되지 않았기 때문에 정상으로 간주됩니다  \n",
       "3  특별한 질병이 콩에서 검출되지 않은 것으로 보아 정상으로 판단됩니다  \n",
       "4   콩에서 특별한 질병이 발견되지 않았기 때문에 정상으로 판단됩니다   "
      ]
     },
     "execution_count": 3,
     "metadata": {},
     "output_type": "execute_result"
    }
   ],
   "source": [
    "data_all = data_all.drop('Unnamed: 0', axis=1)\n",
    "data_all.head()"
   ]
  },
  {
   "cell_type": "code",
   "execution_count": 4,
   "id": "91c8f862",
   "metadata": {},
   "outputs": [],
   "source": [
    "data_all.to_csv(r\"C:\\Users\\DI Lee\\Desktop\\Korean_Based_Image_Captioning_Model-main\\project_dataset\\project_dataset\\train\\label\\crop_label.csv\", encoding='euc-kr', index=False)"
   ]
  },
  {
   "cell_type": "code",
   "execution_count": null,
   "id": "3f2b4ab4",
   "metadata": {},
   "outputs": [],
   "source": []
  },
  {
   "cell_type": "code",
   "execution_count": null,
   "id": "6891c0e3",
   "metadata": {},
   "outputs": [],
   "source": [
    "checkpoint_path = '/checkpoints.ckpt'\n",
    "checkpoint = tf.train.Checkpoint(optimizer = optimizer, transformer)\n",
    "ckpt_manager = tf.train.CheckpointManager(ckpt, checkpoint_path, max_to_keep = 5)\n",
    "\n",
    "start_epoch = 0\n",
    "if ckpt_manager.latest_checkpoint:\n",
    "    start_epoch = int(ckpt_manager.latest_checkpoint.split('-')[-1])\n",
    "    #checkpoint_path에 가장 최신의 체크포인트를 저장한다\n",
    "    ckpt.restore(ckpt_manager, latest_checkpoint)"
   ]
  },
  {
   "cell_type": "markdown",
   "id": "9d6d2009",
   "metadata": {},
   "source": [
    "라벨에 있지만, 실제 이미지가 없는 경우 해결"
   ]
  },
  {
   "attachments": {
    "image.png": {
     "image/png": "[encoded data removed]"
    }
   },
   "cell_type": "markdown",
   "id": "cab4a037",
   "metadata": {},
   "source": [
    "![image.png](attachment:image.png)"
   ]
  },
  {
   "cell_type": "code",
   "execution_count": 2,
   "id": "275009cf",
   "metadata": {},
   "outputs": [],
   "source": [
    "import pandas as pd \n",
    "dir_labelling = pd.read_csv(r\"C:\\Users\\DI Lee\\Desktop\\crop_dataset\\train\\label\\final\\crop_captioning_label.csv\", encoding='cp949')"
   ]
  },
  {
   "cell_type": "code",
   "execution_count": 3,
   "id": "b9c5f875",
   "metadata": {},
   "outputs": [
    {
     "name": "stdout",
     "output_type": "stream",
     "text": [
      "531255\n"
     ]
    }
   ],
   "source": [
    "print(len(dir_labelling))"
   ]
  },
  {
   "cell_type": "code",
   "execution_count": 6,
   "id": "e5158eef",
   "metadata": {
    "scrolled": false
   },
   "outputs": [
    {
     "name": "stdout",
     "output_type": "stream",
     "text": [
      "531255\n"
     ]
    }
   ],
   "source": [
    "mask = dir_labelling['images'].isin(['V006_77_1_18_11_03_13_1_3248b_20201012_61'])\n",
    "dir_labelling = dir_labelling[~mask]\n",
    "print(len(dir_labelling))"
   ]
  },
  {
   "cell_type": "markdown",
   "id": "d085c3f9",
   "metadata": {},
   "source": [
    "# 모든 라벨 concat"
   ]
  },
  {
   "cell_type": "code",
   "execution_count": 7,
   "id": "6770641b",
   "metadata": {},
   "outputs": [],
   "source": [
    "import pandas as pd \n",
    "\n",
    "data_1 = pd.read_csv(r\"A:\\라벨링\\bean_disease.csv\", encoding='cp949')  \n",
    "data_2 = pd.read_csv(r\"A:\\라벨링\\bean_disease1.csv\", encoding='cp949')  \n",
    "data_3 = pd.read_csv(r\"A:\\라벨링\\bean_disease2.csv\", encoding='cp949') \n",
    "data_4 = pd.read_csv(r\"A:\\라벨링\\bean_normal1.csv\", encoding='cp949') \n",
    "\n",
    "data_5 = pd.read_csv(r\"A:\\라벨링\\pa_disease.csv\", encoding='cp949')\n",
    "data_6 = pd.read_csv(r\"A:\\라벨링\\pa_disease1.csv\", encoding='cp949')\n",
    "data_7 = pd.read_csv(r\"A:\\라벨링\\pa_normal.csv\", encoding='cp949')\n",
    "\n",
    "data_8 = pd.read_csv(r\"A:\\라벨링\\tomato_disease_bear.csv\", encoding='cp949')\n",
    "data_9 = pd.read_csv(r\"A:\\라벨링\\tomato_disease_bear1.csv\", encoding='cp949')\n",
    "data_10 = pd.read_csv(r\"A:\\라벨링\\tomato_disease_dry.csv\", encoding='cp949')\n",
    "data_11 = pd.read_csv(r\"A:\\라벨링\\tomato_disease_dry1.csv\", encoding='cp949')\n",
    "data_12 = pd.read_csv(r\"A:\\라벨링\\tomato_normal1.csv\", encoding='cp949')\n",
    "\n",
    "data_p = pd.read_csv(r\"C:\\Users\\DI Lee\\Desktop\\crop_dataset\\train\\label\\pepper_disease_normal.csv\", encoding='cp949')\n",
    "data_g = pd.read_csv(r\"C:\\Users\\DI Lee\\Desktop\\crop_dataset\\train\\label\\greenpumkin_disease_normal.csv\", encoding='cp949')\n",
    "\n",
    "data_all = pd.concat([data_1, data_2, data_3, data_4, data_5, data_6, data_7, data_8, data_9, data_10, data_11, data_12, data_p, data_g])"
   ]
  },
  {
   "cell_type": "code",
   "execution_count": 8,
   "id": "66bb97d7",
   "metadata": {},
   "outputs": [
    {
     "name": "stdout",
     "output_type": "stream",
     "text": [
      "569370\n"
     ]
    }
   ],
   "source": [
    "print(len(data_all))"
   ]
  },
  {
   "cell_type": "code",
   "execution_count": 11,
   "id": "6cebd3f5",
   "metadata": {},
   "outputs": [
    {
     "data": {
      "text/html": [
       "<div>\n",
       "<style scoped>\n",
       "    .dataframe tbody tr th:only-of-type {\n",
       "        vertical-align: middle;\n",
       "    }\n",
       "\n",
       "    .dataframe tbody tr th {\n",
       "        vertical-align: top;\n",
       "    }\n",
       "\n",
       "    .dataframe thead th {\n",
       "        text-align: right;\n",
       "    }\n",
       "</style>\n",
       "<table border=\"1\" class=\"dataframe\">\n",
       "  <thead>\n",
       "    <tr style=\"text-align: right;\">\n",
       "      <th></th>\n",
       "      <th>images</th>\n",
       "      <th>captions</th>\n",
       "    </tr>\n",
       "  </thead>\n",
       "  <tbody>\n",
       "    <tr>\n",
       "      <th>0</th>\n",
       "      <td>V006_79_1_13_08_03_12_1_1825w_20200924_7_a0000...</td>\n",
       "      <td>연녹색의 병반이 잎의 표면에 있는 것을 보아 잎마름병으로 판단됩니다</td>\n",
       "    </tr>\n",
       "    <tr>\n",
       "      <th>1</th>\n",
       "      <td>V006_79_1_13_08_03_12_1_1825w_20200924_7_a0000...</td>\n",
       "      <td>병반이 잎의 표면에 있고  점이 연녹색인 것을 보아 잎마름병으로 판단됩니다</td>\n",
       "    </tr>\n",
       "    <tr>\n",
       "      <th>2</th>\n",
       "      <td>V006_79_1_13_08_03_12_1_1825w_20200924_7_a0000...</td>\n",
       "      <td>잎의 표면에 연녹색의 병반이 있는 것으로 보아 잎마름병으로 사료됩니다</td>\n",
       "    </tr>\n",
       "    <tr>\n",
       "      <th>3</th>\n",
       "      <td>V006_79_1_13_08_03_12_1_1825w_20200924_7_a0000...</td>\n",
       "      <td>연녹색 병반이 잎에 표면에 나 있는 것을 보아 잎마름병으로 판단됩니다</td>\n",
       "    </tr>\n",
       "    <tr>\n",
       "      <th>4</th>\n",
       "      <td>V006_79_1_13_08_03_12_1_1825w_20200924_7_a0000...</td>\n",
       "      <td>잎의 표면에 연녹색 병반이 퍼져있는 것으로 보아 잎마름병으로 판단됩니다</td>\n",
       "    </tr>\n",
       "  </tbody>\n",
       "</table>\n",
       "</div>"
      ],
      "text/plain": [
       "                                              images  \\\n",
       "0  V006_79_1_13_08_03_12_1_1825w_20200924_7_a0000...   \n",
       "1  V006_79_1_13_08_03_12_1_1825w_20200924_7_a0000...   \n",
       "2  V006_79_1_13_08_03_12_1_1825w_20200924_7_a0000...   \n",
       "3  V006_79_1_13_08_03_12_1_1825w_20200924_7_a0000...   \n",
       "4  V006_79_1_13_08_03_12_1_1825w_20200924_7_a0000...   \n",
       "\n",
       "                                    captions  \n",
       "0      연녹색의 병반이 잎의 표면에 있는 것을 보아 잎마름병으로 판단됩니다  \n",
       "1  병반이 잎의 표면에 있고  점이 연녹색인 것을 보아 잎마름병으로 판단됩니다  \n",
       "2     잎의 표면에 연녹색의 병반이 있는 것으로 보아 잎마름병으로 사료됩니다  \n",
       "3     연녹색 병반이 잎에 표면에 나 있는 것을 보아 잎마름병으로 판단됩니다  \n",
       "4    잎의 표면에 연녹색 병반이 퍼져있는 것으로 보아 잎마름병으로 판단됩니다  "
      ]
     },
     "execution_count": 11,
     "metadata": {},
     "output_type": "execute_result"
    }
   ],
   "source": [
    "data_all = data_all.drop('Unnamed: 0', axis=1)\n",
    "data_all.head()"
   ]
  },
  {
   "cell_type": "code",
   "execution_count": 13,
   "id": "6aa31024",
   "metadata": {
    "scrolled": false
   },
   "outputs": [
    {
     "name": "stdout",
     "output_type": "stream",
     "text": [
      "569365\n"
     ]
    }
   ],
   "source": [
    "mask = data_all['images'].isin(['V006_77_1_18_11_03_13_1_3248b_20201012_61.jpg'])\n",
    "data_all = data_all[~mask]\n",
    "print(len(data_all))"
   ]
  },
  {
   "cell_type": "code",
   "execution_count": 14,
   "id": "b5c0067d",
   "metadata": {},
   "outputs": [],
   "source": [
    "data_all.to_csv(r\"C:\\Users\\DI Lee\\Desktop\\crop_dataset\\train\\label\\final\\crop_captioning_label.csv\", encoding='euc-kr', index=False)"
   ]
  }
 ],
 "metadata": {
  "kernelspec": {
   "display_name": "Python 3 (ipykernel)",
   "language": "python",
   "name": "python3"
  },
  "language_info": {
   "codemirror_mode": {
    "name": "ipython",
    "version": 3
   },
   "file_extension": ".py",
   "mimetype": "text/x-python",
   "name": "python",
   "nbconvert_exporter": "python",
   "pygments_lexer": "ipython3",
   "version": "3.9.12"
  }
 },
 "nbformat": 4,
 "nbformat_minor": 5
}
