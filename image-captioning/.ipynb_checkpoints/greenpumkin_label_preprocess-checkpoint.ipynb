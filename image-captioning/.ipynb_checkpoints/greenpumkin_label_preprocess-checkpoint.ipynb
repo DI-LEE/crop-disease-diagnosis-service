{
 "cells": [
  {
   "cell_type": "markdown",
   "id": "966f5c3e",
   "metadata": {},
   "source": [
    "# greenpumkin label data preprocess"
   ]
  },
  {
   "cell_type": "markdown",
   "id": "f3563e9f",
   "metadata": {},
   "source": [
    "## 라벨 데이터들 하나의 파일로 concat"
   ]
  },
  {
   "cell_type": "code",
   "execution_count": 1,
   "id": "8f62cad6",
   "metadata": {},
   "outputs": [
    {
     "data": {
      "text/plain": [
       "120815"
      ]
     },
     "execution_count": 1,
     "metadata": {},
     "output_type": "execute_result"
    }
   ],
   "source": [
    "import pandas as pd \n",
    "\n",
    "data_1 = pd.read_csv(r\"C:\\Users\\DI Lee\\Desktop\\Korean_Based_Image_Captioning_Model-main\\project_dataset\\project_dataset\\train\\label\\greenpumkin_disease_normal.csv\", encoding='cp949')  \n",
    "data_2 = pd.read_csv(r\"C:\\Users\\DI Lee\\Desktop\\Korean_Based_Image_Captioning_Model-main\\project_dataset\\project_dataset\\train\\label\\pepper_disease_normal.csv\", encoding='cp949')  \n",
    "\n",
    "print(len(data_1))\n",
    "len(data_2)"
   ]
  },
  {
   "cell_type": "code",
   "execution_count": 49,
   "id": "4d7051c4",
   "metadata": {
    "scrolled": false
   },
   "outputs": [
    {
     "name": "stdout",
     "output_type": "stream",
     "text": [
      "3275\n",
      "47775\n",
      "29250\n",
      "23760\n",
      "\n",
      "104060\n"
     ]
    },
    {
     "data": {
      "text/html": [
       "<div>\n",
       "<style scoped>\n",
       "    .dataframe tbody tr th:only-of-type {\n",
       "        vertical-align: middle;\n",
       "    }\n",
       "\n",
       "    .dataframe tbody tr th {\n",
       "        vertical-align: top;\n",
       "    }\n",
       "\n",
       "    .dataframe thead th {\n",
       "        text-align: right;\n",
       "    }\n",
       "</style>\n",
       "<table border=\"1\" class=\"dataframe\">\n",
       "  <thead>\n",
       "    <tr style=\"text-align: right;\">\n",
       "      <th></th>\n",
       "      <th>images</th>\n",
       "      <th>captions</th>\n",
       "    </tr>\n",
       "  </thead>\n",
       "  <tbody>\n",
       "    <tr>\n",
       "      <th>0</th>\n",
       "      <td>V006_79_1_07_04_03_13_2_3033t_20201008_388.jpg</td>\n",
       "      <td>잎의 앞면에 부정형 반점이 엷은 황색을 띄는 것을 보니 애호박 노균병으로 판단됩니다</td>\n",
       "    </tr>\n",
       "    <tr>\n",
       "      <th>1</th>\n",
       "      <td>V006_79_1_07_04_03_13_2_3033t_20201008_388.jpg</td>\n",
       "      <td>엷은 황색의 부정형 반점이 잎의 앞면에 띄는 것을 보니 애호박 뇨균병으로 생각됩니다</td>\n",
       "    </tr>\n",
       "    <tr>\n",
       "      <th>2</th>\n",
       "      <td>V006_79_1_07_04_03_13_2_3033t_20201008_388.jpg</td>\n",
       "      <td>부정형 반점이 엷은 황색을 띄고 잎의 앞면에 있는 것을 보니 애호박 노균병으로 판단됩니다</td>\n",
       "    </tr>\n",
       "    <tr>\n",
       "      <th>3</th>\n",
       "      <td>V006_79_1_07_04_03_13_2_3033t_20201008_388.jpg</td>\n",
       "      <td>잎의 앞면을 보니 부정형 반점이 엷은 황색을 띄어 애호박 노균병으로 판단됩니다</td>\n",
       "    </tr>\n",
       "    <tr>\n",
       "      <th>4</th>\n",
       "      <td>V006_79_1_07_04_03_13_2_3033t_20201008_388.jpg</td>\n",
       "      <td>잎의 앞면에 있는 부정형 반점이 엷은 황색을 띄고 있어 애호박 노균병으로 판단됩니다</td>\n",
       "    </tr>\n",
       "  </tbody>\n",
       "</table>\n",
       "</div>"
      ],
      "text/plain": [
       "                                           images  \\\n",
       "0  V006_79_1_07_04_03_13_2_3033t_20201008_388.jpg   \n",
       "1  V006_79_1_07_04_03_13_2_3033t_20201008_388.jpg   \n",
       "2  V006_79_1_07_04_03_13_2_3033t_20201008_388.jpg   \n",
       "3  V006_79_1_07_04_03_13_2_3033t_20201008_388.jpg   \n",
       "4  V006_79_1_07_04_03_13_2_3033t_20201008_388.jpg   \n",
       "\n",
       "                                            captions  \n",
       "0     잎의 앞면에 부정형 반점이 엷은 황색을 띄는 것을 보니 애호박 노균병으로 판단됩니다  \n",
       "1     엷은 황색의 부정형 반점이 잎의 앞면에 띄는 것을 보니 애호박 뇨균병으로 생각됩니다  \n",
       "2  부정형 반점이 엷은 황색을 띄고 잎의 앞면에 있는 것을 보니 애호박 노균병으로 판단됩니다  \n",
       "3        잎의 앞면을 보니 부정형 반점이 엷은 황색을 띄어 애호박 노균병으로 판단됩니다  \n",
       "4     잎의 앞면에 있는 부정형 반점이 엷은 황색을 띄고 있어 애호박 노균병으로 판단됩니다  "
      ]
     },
     "execution_count": 49,
     "metadata": {},
     "output_type": "execute_result"
    }
   ],
   "source": [
    "import pandas as pd \n",
    "\n",
    "data_1 = pd.read_csv(\"A:\\라벨링\\zuccini_disease.csv\", encoding='cp949')  \n",
    "data_2 = pd.read_csv(\"A:\\라벨링\\zuccini_disease2.csv\", encoding='cp949')  \n",
    "data_3 = pd.read_csv(\"A:\\라벨링\\zuccini_disease3.csv\", encoding='cp949') \n",
    "data_4 = pd.read_csv(\"A:\\라벨링\\zuccini_normal.csv\", encoding='cp949') \n",
    "\n",
    "data_all = pd.concat([data_1, data_2, data_3, data_4])\n",
    "\n",
    "print(len(data_1))\n",
    "print(len(data_2))\n",
    "print(len(data_3))\n",
    "print(len(data_4))\n",
    "print()\n",
    "print(len(data_all))\n",
    "\n",
    "\n",
    "data_all.head()"
   ]
  },
  {
   "cell_type": "code",
   "execution_count": 8,
   "id": "9e7944bf",
   "metadata": {},
   "outputs": [],
   "source": [
    "greenpumkin_all.to_csv(\"A:/project_dataset/train/label/greenpumkin_disease_normal.csv\", encoding='euc-kr')"
   ]
  },
  {
   "cell_type": "markdown",
   "id": "8246bf19",
   "metadata": {},
   "source": [
    "라벨에 있는데 실제 이미지에 없는 row 지우기"
   ]
  },
  {
   "cell_type": "code",
   "execution_count": 50,
   "id": "a580db8f",
   "metadata": {
    "scrolled": false
   },
   "outputs": [
    {
     "name": "stdout",
     "output_type": "stream",
     "text": [
      "104055\n"
     ]
    }
   ],
   "source": [
    "mask = data_all['images'].isin(['V006_79_0_00_04_05_12_0_b10_20201016_0000_S01_1.jpg'])\n",
    "data_all = data_all[~mask]\n",
    "print(len(data_all))"
   ]
  },
  {
   "cell_type": "code",
   "execution_count": 2,
   "id": "59c278b4",
   "metadata": {
    "scrolled": true
   },
   "outputs": [
    {
     "data": {
      "text/html": [
       "<div>\n",
       "<style scoped>\n",
       "    .dataframe tbody tr th:only-of-type {\n",
       "        vertical-align: middle;\n",
       "    }\n",
       "\n",
       "    .dataframe tbody tr th {\n",
       "        vertical-align: top;\n",
       "    }\n",
       "\n",
       "    .dataframe thead th {\n",
       "        text-align: right;\n",
       "    }\n",
       "</style>\n",
       "<table border=\"1\" class=\"dataframe\">\n",
       "  <thead>\n",
       "    <tr style=\"text-align: right;\">\n",
       "      <th></th>\n",
       "      <th>images</th>\n",
       "      <th>captions</th>\n",
       "    </tr>\n",
       "  </thead>\n",
       "  <tbody>\n",
       "    <tr>\n",
       "      <th>0</th>\n",
       "      <td>V006_79_0_00_04_03_12_0_b10_20201012_0000_S01_...</td>\n",
       "      <td>애호박 잎에 특별한 병이 검출되지 않은 것으로 보아 정상으로 판단됩니다</td>\n",
       "    </tr>\n",
       "    <tr>\n",
       "      <th>1</th>\n",
       "      <td>V006_79_0_00_04_03_12_0_b10_20201012_0000_S01_...</td>\n",
       "      <td>애호박 잎에서 특별한 질병이 발견되지 않았기 때문에 정상으로 간주됩니다</td>\n",
       "    </tr>\n",
       "    <tr>\n",
       "      <th>2</th>\n",
       "      <td>V006_79_0_00_04_03_12_0_b10_20201012_0000_S01_...</td>\n",
       "      <td>특별한 질병이 애호박 잎에서 발견되지 않았기 때문에 정상으로 간주됩니다</td>\n",
       "    </tr>\n",
       "    <tr>\n",
       "      <th>3</th>\n",
       "      <td>V006_79_0_00_04_03_12_0_b10_20201012_0000_S01_...</td>\n",
       "      <td>특별한 질병이 애호박 잎에서 검출되지 않은 것으로 보아 정상으로 판단됩니다</td>\n",
       "    </tr>\n",
       "    <tr>\n",
       "      <th>4</th>\n",
       "      <td>V006_79_0_00_04_03_12_0_b10_20201012_0000_S01_...</td>\n",
       "      <td>애호박 잎에서 특별한 질병이 발견되지 않았기 때문에 정상으로 판단됩니다</td>\n",
       "    </tr>\n",
       "    <tr>\n",
       "      <th>...</th>\n",
       "      <td>...</td>\n",
       "      <td>...</td>\n",
       "    </tr>\n",
       "    <tr>\n",
       "      <th>104050</th>\n",
       "      <td>V006_79_1_08_04_03_13_3_8621t_20201022_1227_b0...</td>\n",
       "      <td>잎에 담황색 병무늬와 밀가루 바른 것과 같은 증상이 넓게 나타나는 것으로 보아 애호...</td>\n",
       "    </tr>\n",
       "    <tr>\n",
       "      <th>104051</th>\n",
       "      <td>V006_79_1_08_04_03_13_3_8621t_20201022_1227_b0...</td>\n",
       "      <td>담황색 반점무늬와 연한 흰색 곰팡이가 잎에 나타나는 것으로 보아 애호박 흰가루병으로...</td>\n",
       "    </tr>\n",
       "    <tr>\n",
       "      <th>104052</th>\n",
       "      <td>V006_79_1_08_04_03_13_3_8621t_20201022_1227_b0...</td>\n",
       "      <td>서릿발 모양의 포자가 넓게 나타나고 담황색 병무늬가 나타나는 것으로 보아 애호박 흰...</td>\n",
       "    </tr>\n",
       "    <tr>\n",
       "      <th>104053</th>\n",
       "      <td>V006_79_1_08_04_03_13_3_8621t_20201022_1227_b0...</td>\n",
       "      <td>잎에 이슬과 같은 연한 흰색 곰팡이가 보이고 담황색 반점무늬가 나타나는 것으로 보아...</td>\n",
       "    </tr>\n",
       "    <tr>\n",
       "      <th>104054</th>\n",
       "      <td>V006_79_1_08_04_03_13_3_8621t_20201022_1227_b0...</td>\n",
       "      <td>밀가루를 바른 것과 같은 포자가 넓게 나타나고 담황색 병무늬가 보이는 것으로 보아 ...</td>\n",
       "    </tr>\n",
       "  </tbody>\n",
       "</table>\n",
       "<p>104055 rows × 2 columns</p>\n",
       "</div>"
      ],
      "text/plain": [
       "                                                   images  \\\n",
       "0       V006_79_0_00_04_03_12_0_b10_20201012_0000_S01_...   \n",
       "1       V006_79_0_00_04_03_12_0_b10_20201012_0000_S01_...   \n",
       "2       V006_79_0_00_04_03_12_0_b10_20201012_0000_S01_...   \n",
       "3       V006_79_0_00_04_03_12_0_b10_20201012_0000_S01_...   \n",
       "4       V006_79_0_00_04_03_12_0_b10_20201012_0000_S01_...   \n",
       "...                                                   ...   \n",
       "104050  V006_79_1_08_04_03_13_3_8621t_20201022_1227_b0...   \n",
       "104051  V006_79_1_08_04_03_13_3_8621t_20201022_1227_b0...   \n",
       "104052  V006_79_1_08_04_03_13_3_8621t_20201022_1227_b0...   \n",
       "104053  V006_79_1_08_04_03_13_3_8621t_20201022_1227_b0...   \n",
       "104054  V006_79_1_08_04_03_13_3_8621t_20201022_1227_b0...   \n",
       "\n",
       "                                                 captions  \n",
       "0                 애호박 잎에 특별한 병이 검출되지 않은 것으로 보아 정상으로 판단됩니다  \n",
       "1                 애호박 잎에서 특별한 질병이 발견되지 않았기 때문에 정상으로 간주됩니다  \n",
       "2                 특별한 질병이 애호박 잎에서 발견되지 않았기 때문에 정상으로 간주됩니다  \n",
       "3               특별한 질병이 애호박 잎에서 검출되지 않은 것으로 보아 정상으로 판단됩니다  \n",
       "4                애호박 잎에서 특별한 질병이 발견되지 않았기 때문에 정상으로 판단됩니다   \n",
       "...                                                   ...  \n",
       "104050  잎에 담황색 병무늬와 밀가루 바른 것과 같은 증상이 넓게 나타나는 것으로 보아 애호...  \n",
       "104051  담황색 반점무늬와 연한 흰색 곰팡이가 잎에 나타나는 것으로 보아 애호박 흰가루병으로...  \n",
       "104052  서릿발 모양의 포자가 넓게 나타나고 담황색 병무늬가 나타나는 것으로 보아 애호박 흰...  \n",
       "104053  잎에 이슬과 같은 연한 흰색 곰팡이가 보이고 담황색 반점무늬가 나타나는 것으로 보아...  \n",
       "104054  밀가루를 바른 것과 같은 포자가 넓게 나타나고 담황색 병무늬가 보이는 것으로 보아 ...  \n",
       "\n",
       "[104055 rows x 2 columns]"
      ]
     },
     "execution_count": 2,
     "metadata": {},
     "output_type": "execute_result"
    }
   ],
   "source": [
    "greenpumkin_all = pd.read_csv(r\"A:\\project_dataset\\train\\label\\greenpumkin_disease_normal.csv\", encoding='cp949')  \n",
    "greenpumkin_all"
   ]
  },
  {
   "cell_type": "markdown",
   "id": "5f0c9845",
   "metadata": {},
   "source": [
    "깨진 이미지 지우기"
   ]
  },
  {
   "cell_type": "code",
   "execution_count": 6,
   "id": "12df8f1e",
   "metadata": {
    "scrolled": true
   },
   "outputs": [
    {
     "name": "stdout",
     "output_type": "stream",
     "text": [
      "104050\n"
     ]
    }
   ],
   "source": [
    "mask = greenpumkin_all['images'].isin(['V006_79_1_08_04_03_13_2_5950b_20201029_1453_a0001.jpg'])\n",
    "greenpumkin_all = greenpumkin_all[~mask]\n",
    "print(len(greenpumkin_all))"
   ]
  },
  {
   "cell_type": "markdown",
   "id": "296859bb",
   "metadata": {},
   "source": [
    "인코딩 확인"
   ]
  },
  {
   "cell_type": "code",
   "execution_count": 28,
   "id": "4dbfc50d",
   "metadata": {},
   "outputs": [
    {
     "name": "stdout",
     "output_type": "stream",
     "text": [
      "ascii\n"
     ]
    }
   ],
   "source": [
    "import chardet\n",
    "\n",
    "filename = \"A:/project_dataset/train/label/greenpumkin_disease_normal.csv\"\n",
    "with open(filename, 'rb') as f:\n",
    "    result = chardet.detect(f.readline())  \n",
    "    print(result['encoding'])"
   ]
  },
  {
   "cell_type": "code",
   "execution_count": 29,
   "id": "777d4227",
   "metadata": {},
   "outputs": [
    {
     "name": "stdout",
     "output_type": "stream",
     "text": [
      "ascii\n"
     ]
    }
   ],
   "source": [
    "import chardet\n",
    "\n",
    "filename = \"A:/project_dataset/train/label/pepper_disease_normal.csv\"\n",
    "with open(filename, 'rb') as f:\n",
    "    result = chardet.detect(f.readline())  \n",
    "    print(result['encoding'])"
   ]
  }
 ],
 "metadata": {
  "kernelspec": {
   "display_name": "Python 3 (ipykernel)",
   "language": "python",
   "name": "python3"
  },
  "language_info": {
   "codemirror_mode": {
    "name": "ipython",
    "version": 3
   },
   "file_extension": ".py",
   "mimetype": "text/x-python",
   "name": "python",
   "nbconvert_exporter": "python",
   "pygments_lexer": "ipython3",
   "version": "3.9.12"
  }
 },
 "nbformat": 4,
 "nbformat_minor": 5
}
