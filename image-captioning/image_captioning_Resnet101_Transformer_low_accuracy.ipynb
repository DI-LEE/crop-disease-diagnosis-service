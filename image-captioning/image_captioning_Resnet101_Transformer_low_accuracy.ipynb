{
 "cells": [
  {
   "cell_type": "markdown",
   "metadata": {
    "id": "tcQ-x8Y_3aKv"
   },
   "source": [
    "# Image Captioning with transformer\n",
    "\n",
    "\n",
    "- CNN과 Transformer 모델을 이용하여 만든 이미지 캡셔닝 모델"
   ]
  },
  {
   "cell_type": "markdown",
   "metadata": {
    "id": "kYINDTxT3aK1"
   },
   "source": [
    "## Setup"
   ]
  },
  {
   "cell_type": "code",
   "execution_count": 1,
   "metadata": {
    "id": "dsWW8Eif3aK2"
   },
   "outputs": [],
   "source": [
    "import os\n",
    "import re\n",
    "import numpy as np\n",
    "import pandas as pd\n",
    "import matplotlib.pyplot as plt\n",
    "import collections\n",
    "\n",
    "import tensorflow as tf\n",
    "from tensorflow import keras\n",
    "from tensorflow.keras import layers\n",
    "from tensorflow.keras.applications import efficientnet\n",
    "from tensorflow.keras.layers import TextVectorization\n",
    "from tensorflow.keras.callbacks import EarlyStopping, ModelCheckpoint\n",
    "\n",
    "seed = 111\n",
    "np.random.seed(seed)\n",
    "tf.random.set_seed(seed)"
   ]
  },
  {
   "cell_type": "code",
   "execution_count": 2,
   "metadata": {},
   "outputs": [
    {
     "name": "stdout",
     "output_type": "stream",
     "text": [
      "2.8.0\n",
      "True\n",
      "True\n",
      "/device:GPU:0\n"
     ]
    }
   ],
   "source": [
    "import tensorflow as tf\n",
    "print(tf.__version__)\n",
    "print(tf.test.is_built_with_cuda())\n",
    "print(tf.test.is_built_with_gpu_support())\n",
    "print(tf.test.gpu_device_name())"
   ]
  },
  {
   "cell_type": "markdown",
   "metadata": {
    "id": "6tYaOi7a3aK4"
   },
   "source": [
    "## 데이터 셋 경로와 라벨링 처리하기\n",
    "\n",
    "- 농작물 질병 이미지에 대한 데이터프레임을 이용하여 데이터를 준비합니다.\n",
    "- 데이터프레임에는 농작물 질병 이미지의 디렉토리 경로와 각 이미지에 대한 5개의 문장 쌍으로 이루어져 있습니다."
   ]
  },
  {
   "cell_type": "code",
   "execution_count": 3,
   "metadata": {
    "id": "bCqAS9Oi3aK5"
   },
   "outputs": [],
   "source": [
    "\n",
    "# 이미지 경로\n",
    "IMAGES_PATH = r\"C:\\Users\\DI Lee\\Desktop\\Korean_Based_Image_Captioning_Model-main\\project_dataset\\project_dataset\\train\\pepper_images\"\n",
    "\n",
    "# 이미지 사이즈\n",
    "IMAGE_SIZE = (299, 299)\n",
    "\n",
    "# 사전 사이즈\n",
    "VOCAB_SIZE = 10000\n",
    "\n",
    "# 시퀀스 최대 길이\n",
    "SEQ_LENGTH = 25\n",
    "\n",
    "# 이미지 임베딩과 토큰 임베딩의 차원\n",
    "EMBED_DIM = 512\n",
    "\n",
    "# the feed-forward network의 각 층에 들어있는 unit 개수\n",
    "FF_DIM = 512\n",
    "\n",
    "# 모델 훈련에 필요한 다른 매개변수들\n",
    "BATCH_SIZE = 16   #64 / 16\n",
    "EPOCHS = 20        #30 / 20\n",
    "AUTOTUNE = tf.data.AUTOTUNE #하드웨어 리소스를 병렬로 매핑하여 작업 시간을 단축시키는데 사용함"
   ]
  },
  {
   "cell_type": "markdown",
   "metadata": {
    "id": "lsdtGT9A3aK6"
   },
   "source": [
    "## 모델 학습을 위한 데이터 준비\n",
    "- 모델 학습에 필요한 구조로 데이터를 준비한다."
   ]
  },
  {
   "cell_type": "code",
   "execution_count": 4,
   "metadata": {
    "id": "yplxfgih91YE"
   },
   "outputs": [],
   "source": [
    "#이미지 이름과 각 이미지에 대한 5개의 캡션이 달려있는 데이터프레임 불러오기\n",
    "df = pd.read_csv(r\"C:\\Users\\DI Lee\\Desktop\\Korean_Based_Image_Captioning_Model-main\\project_dataset\\project_dataset\\train\\label\\pepper_disease_normal.csv\", encoding='cp949').drop('Unnamed: 0', axis=1)"
   ]
  },
  {
   "cell_type": "code",
   "execution_count": 5,
   "metadata": {
    "colab": {
     "base_uri": "https://localhost:8080/",
     "height": 206
    },
    "id": "MldH0xe-AFcX",
    "outputId": "1e639569-d787-45cf-cf59-9a01cc6e7761",
    "scrolled": true
   },
   "outputs": [
    {
     "data": {
      "text/html": [
       "<div>\n",
       "<style scoped>\n",
       "    .dataframe tbody tr th:only-of-type {\n",
       "        vertical-align: middle;\n",
       "    }\n",
       "\n",
       "    .dataframe tbody tr th {\n",
       "        vertical-align: top;\n",
       "    }\n",
       "\n",
       "    .dataframe thead th {\n",
       "        text-align: right;\n",
       "    }\n",
       "</style>\n",
       "<table border=\"1\" class=\"dataframe\">\n",
       "  <thead>\n",
       "    <tr style=\"text-align: right;\">\n",
       "      <th></th>\n",
       "      <th>images</th>\n",
       "      <th>captions</th>\n",
       "    </tr>\n",
       "  </thead>\n",
       "  <tbody>\n",
       "    <tr>\n",
       "      <th>0</th>\n",
       "      <td>V006_79_1_01_01_01_13_1_0149z_20201007_1.JPG</td>\n",
       "      <td>고추에 움푹 들어간 원형 반점이 나타나는 것으로 보아 고추탄저병으로 의심됩니다</td>\n",
       "    </tr>\n",
       "    <tr>\n",
       "      <th>1</th>\n",
       "      <td>V006_79_1_01_01_01_13_1_0149z_20201007_1.JPG</td>\n",
       "      <td>고추에 원형 반점이 움푹 들어나는 양상을 보여 고추탄저병으로 의심됩니다</td>\n",
       "    </tr>\n",
       "    <tr>\n",
       "      <th>2</th>\n",
       "      <td>V006_79_1_01_01_01_13_1_0149z_20201007_1.JPG</td>\n",
       "      <td>고추에 원형 반점이 나타나 고추탄저병으로 의심됩니다</td>\n",
       "    </tr>\n",
       "    <tr>\n",
       "      <th>3</th>\n",
       "      <td>V006_79_1_01_01_01_13_1_0149z_20201007_1.JPG</td>\n",
       "      <td>고추에 원형 반점이 생긴 것으로 보아 고추탄저병으로 의심됩니다</td>\n",
       "    </tr>\n",
       "    <tr>\n",
       "      <th>4</th>\n",
       "      <td>V006_79_1_01_01_01_13_1_0149z_20201007_1.JPG</td>\n",
       "      <td>고추에 원형 반점이 움푹 들어간 것으로 보아 고추탄저병으로 의심됩니다</td>\n",
       "    </tr>\n",
       "  </tbody>\n",
       "</table>\n",
       "</div>"
      ],
      "text/plain": [
       "                                         images  \\\n",
       "0  V006_79_1_01_01_01_13_1_0149z_20201007_1.JPG   \n",
       "1  V006_79_1_01_01_01_13_1_0149z_20201007_1.JPG   \n",
       "2  V006_79_1_01_01_01_13_1_0149z_20201007_1.JPG   \n",
       "3  V006_79_1_01_01_01_13_1_0149z_20201007_1.JPG   \n",
       "4  V006_79_1_01_01_01_13_1_0149z_20201007_1.JPG   \n",
       "\n",
       "                                      captions  \n",
       "0  고추에 움푹 들어간 원형 반점이 나타나는 것으로 보아 고추탄저병으로 의심됩니다  \n",
       "1      고추에 원형 반점이 움푹 들어나는 양상을 보여 고추탄저병으로 의심됩니다  \n",
       "2                 고추에 원형 반점이 나타나 고추탄저병으로 의심됩니다  \n",
       "3           고추에 원형 반점이 생긴 것으로 보아 고추탄저병으로 의심됩니다  \n",
       "4       고추에 원형 반점이 움푹 들어간 것으로 보아 고추탄저병으로 의심됩니다  "
      ]
     },
     "execution_count": 5,
     "metadata": {},
     "output_type": "execute_result"
    }
   ],
   "source": [
    "df.head()"
   ]
  },
  {
   "cell_type": "code",
   "execution_count": 6,
   "metadata": {
    "id": "KTwO47r8AHvb"
   },
   "outputs": [],
   "source": [
    "#캡션 좌우에 각각 <start>, <end> 토큰을 부착함\n",
    "text_data = []\n",
    "for caption in df.captions.values:\n",
    "    tx = '<start> '+ caption + ' <end>'\n",
    "    text_data.append(tx)"
   ]
  },
  {
   "cell_type": "code",
   "execution_count": 7,
   "metadata": {
    "colab": {
     "base_uri": "https://localhost:8080/"
    },
    "id": "PLpQputhAivG",
    "outputId": "4ce37015-da91-46a7-e4e1-be4fe2529034",
    "scrolled": true
   },
   "outputs": [
    {
     "data": {
      "text/plain": [
       "['<start> 고추에 움푹 들어간 원형 반점이 나타나는 것으로 보아 고추탄저병으로 의심됩니다 <end>',\n",
       " '<start> 고추에 원형 반점이 움푹 들어나는 양상을 보여 고추탄저병으로 의심됩니다 <end>',\n",
       " '<start> 고추에 원형 반점이 나타나 고추탄저병으로 의심됩니다 <end>',\n",
       " '<start> 고추에 원형 반점이 생긴 것으로 보아 고추탄저병으로 의심됩니다 <end>',\n",
       " '<start> 고추에 원형 반점이 움푹 들어간 것으로 보아 고추탄저병으로 의심됩니다 <end>']"
      ]
     },
     "execution_count": 7,
     "metadata": {},
     "output_type": "execute_result"
    }
   ],
   "source": [
    "text_data[:5]"
   ]
  },
  {
   "cell_type": "code",
   "execution_count": 8,
   "metadata": {},
   "outputs": [
    {
     "data": {
      "text/html": [
       "<div>\n",
       "<style scoped>\n",
       "    .dataframe tbody tr th:only-of-type {\n",
       "        vertical-align: middle;\n",
       "    }\n",
       "\n",
       "    .dataframe tbody tr th {\n",
       "        vertical-align: top;\n",
       "    }\n",
       "\n",
       "    .dataframe thead th {\n",
       "        text-align: right;\n",
       "    }\n",
       "</style>\n",
       "<table border=\"1\" class=\"dataframe\">\n",
       "  <thead>\n",
       "    <tr style=\"text-align: right;\">\n",
       "      <th></th>\n",
       "      <th>images</th>\n",
       "      <th>captions</th>\n",
       "    </tr>\n",
       "  </thead>\n",
       "  <tbody>\n",
       "    <tr>\n",
       "      <th>0</th>\n",
       "      <td>V006_79_1_01_01_01_13_1_0149z_20201007_1.JPG</td>\n",
       "      <td>&lt;start&gt; 고추에 움푹 들어간 원형 반점이 나타나는 것으로 보아 고추탄저병으로 ...</td>\n",
       "    </tr>\n",
       "    <tr>\n",
       "      <th>1</th>\n",
       "      <td>V006_79_1_01_01_01_13_1_0149z_20201007_1.JPG</td>\n",
       "      <td>&lt;start&gt; 고추에 원형 반점이 움푹 들어나는 양상을 보여 고추탄저병으로 의심됩니...</td>\n",
       "    </tr>\n",
       "    <tr>\n",
       "      <th>2</th>\n",
       "      <td>V006_79_1_01_01_01_13_1_0149z_20201007_1.JPG</td>\n",
       "      <td>&lt;start&gt; 고추에 원형 반점이 나타나 고추탄저병으로 의심됩니다 &lt;end&gt;</td>\n",
       "    </tr>\n",
       "    <tr>\n",
       "      <th>3</th>\n",
       "      <td>V006_79_1_01_01_01_13_1_0149z_20201007_1.JPG</td>\n",
       "      <td>&lt;start&gt; 고추에 원형 반점이 생긴 것으로 보아 고추탄저병으로 의심됩니다 &lt;end&gt;</td>\n",
       "    </tr>\n",
       "    <tr>\n",
       "      <th>4</th>\n",
       "      <td>V006_79_1_01_01_01_13_1_0149z_20201007_1.JPG</td>\n",
       "      <td>&lt;start&gt; 고추에 원형 반점이 움푹 들어간 것으로 보아 고추탄저병으로 의심됩니다...</td>\n",
       "    </tr>\n",
       "  </tbody>\n",
       "</table>\n",
       "</div>"
      ],
      "text/plain": [
       "                                         images  \\\n",
       "0  V006_79_1_01_01_01_13_1_0149z_20201007_1.JPG   \n",
       "1  V006_79_1_01_01_01_13_1_0149z_20201007_1.JPG   \n",
       "2  V006_79_1_01_01_01_13_1_0149z_20201007_1.JPG   \n",
       "3  V006_79_1_01_01_01_13_1_0149z_20201007_1.JPG   \n",
       "4  V006_79_1_01_01_01_13_1_0149z_20201007_1.JPG   \n",
       "\n",
       "                                            captions  \n",
       "0  <start> 고추에 움푹 들어간 원형 반점이 나타나는 것으로 보아 고추탄저병으로 ...  \n",
       "1  <start> 고추에 원형 반점이 움푹 들어나는 양상을 보여 고추탄저병으로 의심됩니...  \n",
       "2         <start> 고추에 원형 반점이 나타나 고추탄저병으로 의심됩니다 <end>  \n",
       "3   <start> 고추에 원형 반점이 생긴 것으로 보아 고추탄저병으로 의심됩니다 <end>  \n",
       "4  <start> 고추에 원형 반점이 움푹 들어간 것으로 보아 고추탄저병으로 의심됩니다...  "
      ]
     },
     "execution_count": 8,
     "metadata": {},
     "output_type": "execute_result"
    }
   ],
   "source": [
    "df['captions'] = df['captions'].apply(lambda x: '<start> ' + x + ' <end>')\n",
    "df.head()"
   ]
  },
  {
   "cell_type": "code",
   "execution_count": 9,
   "metadata": {
    "id": "6HbJYWUwAwo-"
   },
   "outputs": [],
   "source": [
    "#이미지 경로를 key로, 해당 경로의 이미지에 대한 5개의 캡션 문장들을 담은 리스트를 value로 하는 딕셔너리 생성\n",
    "\n",
    "captions_mapping = collections.defaultdict(list)\n",
    "for i in range(len(df)):\n",
    "    image_path = IMAGES_PATH + '\\\\' +df.images[i] #이미지 경로\n",
    "#     print(image_path, '\\n')\n",
    "    captions_mapping[image_path].append(df.captions[i])\n",
    "#     print(image_path_to_caption)\n"
   ]
  },
  {
   "cell_type": "code",
   "execution_count": 10,
   "metadata": {
    "colab": {
     "base_uri": "https://localhost:8080/"
    },
    "id": "iBTegkXpCEAz",
    "outputId": "1ec00033-3209-4f93-fdd2-6920acae6249"
   },
   "outputs": [
    {
     "data": {
      "text/plain": [
       "['<start> 고추에 특별한 증상이 발견되지 않아 이상이 없다고 판단됩니다 <end>',\n",
       " '<start> 고추에서는 특별한 증상이 발견되지 않아 이상이 없는 것으로 판단됩니다 <end>',\n",
       " '<start> 특별한 이상 징후가 보이지 않아 고추에 아무 이상이 없는 것으로 사료됩니다 <end>',\n",
       " '<start> 특별한 증상이 발견되지 않아 정상 고추로 판단됩니다 <end>',\n",
       " '<start> 특별한 증상이 발견되지 않아 이상이 없는 고추로 사료됩니다 <end>']"
      ]
     },
     "execution_count": 10,
     "metadata": {},
     "output_type": "execute_result"
    }
   ],
   "source": [
    "captions_mapping[r\"C:\\Users\\DI Lee\\Desktop\\Korean_Based_Image_Captioning_Model-main\\project_dataset\\project_dataset\\train\\pepper_images\\V006_79_0_00_01_01_13_0_a01_20201102_0000_S01_1.jpg\"]"
   ]
  },
  {
   "cell_type": "code",
   "execution_count": 11,
   "metadata": {
    "colab": {
     "base_uri": "https://localhost:8080/"
    },
    "id": "VOa-GCO23aK6",
    "outputId": "39e8f7bc-165b-40cc-bd1a-190166ca18b9"
   },
   "outputs": [
    {
     "name": "stdout",
     "output_type": "stream",
     "text": [
      "train(훈련) 데이터 개수:  19330\n",
      "validation(검증) 데이터 개수:  4833\n"
     ]
    }
   ],
   "source": [
    "def train_val_split(caption_data, train_size=0.8, shuffle=True):\n",
    "    \"\"\"\n",
    "       캡션 데이터를 훈련, 검증 데이터셋으로 분리\n",
    "    \n",
    "    변수:\n",
    "        caption_data (dict): 이미지 경로를 key로, 해당 경로의 이미지에 대한 5개의 캡션 문장들을 담은 리스트를 value로 하는 딕셔너리\n",
    "        train_size (float): 전체 데이터에서 몇 퍼센트를 훈련 데이터셋으로 사용할 것인지를 알려주는 실수(비율)\n",
    "        shuffle (bool): 데이터를 분리하기 전에 전체 데이터를 뒤섞을 것인지를 결정함. True이면 뒤섞고 False이면 그대로 둠.\n",
    "\n",
    "    반환값:\n",
    "        Traning and validation datasets as two separated dicts 두 개의 분리된 훈련 데이터셋과 검증 데이터셋\n",
    "    \"\"\"\n",
    "\n",
    "    # 1. 이미지 이름을 담은 리스트 생성\n",
    "    all_images = list(caption_data.keys())\n",
    "\n",
    "    # 2. 만약 데이터를 뒤섞기로 결정했다면 무작위로 뒤섞음\n",
    "    if shuffle:\n",
    "        np.random.shuffle(all_images)\n",
    "\n",
    "    # 3. 전체 데이터 개수에서 훈련 데이터로 분리하고 싶은 만큼의 비율로 훈련 데이터 개수를 계산하여 전체 데이터를 훈련데이터와 검증데이터로 분리함\n",
    "    train_size = int(len(caption_data) * train_size)\n",
    "\n",
    "    training_data = {img_name: caption_data[img_name] for img_name in all_images[:train_size]}\n",
    "    validation_data = {img_name: caption_data[img_name] for img_name in all_images[train_size:]}\n",
    "\n",
    "    # 4. 훈련데이터와 검증데이터를 반환함\n",
    "    return training_data, validation_data\n",
    "\n",
    "\n",
    "\n",
    "# 위에서 만든 함수로 전체 데이터를 훈련데이터와 검증데이터로 분리하기\n",
    "train_data, valid_data = train_val_split(captions_mapping)\n",
    "print(\"train(훈련) 데이터 개수: \", len(train_data))\n",
    "print(\"validation(검증) 데이터 개수: \", len(valid_data))"
   ]
  },
  {
   "cell_type": "markdown",
   "metadata": {
    "id": "h6ZWvOYv3aK8"
   },
   "source": [
    "## 텍스트 데이터를 벡터로 변환하기\n",
    "\n",
    "모델에 텍스트를 학습시키기 위해 `TextVectorization`으로 텍스트를 벡터화한다.\n",
    "텐서플로우의 TextVectorization을 이용하여 텍스트를 벡터로 변환하는데, 각 벡터의 요소는 텍스트 토큰의 인덱스값이다."
   ]
  },
  {
   "cell_type": "code",
   "execution_count": 12,
   "metadata": {
    "colab": {
     "base_uri": "https://localhost:8080/"
    },
    "id": "aUU0CYrvX2QT",
    "outputId": "519624a8-1ec0-4e7b-94b4-c58fac3c82c0"
   },
   "outputs": [
    {
     "data": {
      "text/plain": [
       "<tf.Tensor: shape=(), dtype=string, numpy=b'\\xed\\x95\\x98\\xec\\x9d\\xb4 hi hello   \\xec\\x95\\x88\\xeb\\x85\\x95'>"
      ]
     },
     "execution_count": 12,
     "metadata": {},
     "output_type": "execute_result"
    }
   ],
   "source": [
    "## 텍스트 전처리 예시\n",
    "strip_chars = \"!\\\"#$%&'()*+,-./:;=?@[\\]^_`{|}~\" #구두점\n",
    "def custom_standarization(input_string):\n",
    "    a = tf.strings.regex_replace(input_string, \"[%s]\" % re.escape(strip_chars), \"\")\n",
    "    return a\n",
    "custom_standarization(u\"하이 hi hello ... ))) 안녕\")\n"
   ]
  },
  {
   "cell_type": "code",
   "execution_count": 13,
   "metadata": {
    "id": "pixOfeHg3aK9"
   },
   "outputs": [],
   "source": [
    "#텍스트 전처리\n",
    "strip_chars = \"!\\\"#$%&'()*+,-./:;=?@[\\]^_`{|}~\" #구두점\n",
    "def custom_standarization(input_string):\n",
    "    return tf.strings.regex_replace(input_string, \"[%s]\" % re.escape(strip_chars), \"\")\n",
    "\n",
    "\n",
    "#텍스트 벡터 변환\n",
    "vectorization = TextVectorization(\n",
    "    max_tokens=VOCAB_SIZE, #VOCAB_SIZE 만큼의 고빈도 단어만 벡터화 시킨다. \n",
    "    output_mode=\"int\",\n",
    "    output_sequence_length=SEQ_LENGTH,\n",
    "    standardize=custom_standarization,\n",
    "    pad_to_max_tokens=True,\n",
    ")\n",
    "vectorization.adapt(text_data) # <start>, <end> 토큰이 부착된 캡션들을 각각 텍스트 토큰 인덱스로 구성된 벡터로 변환하도록 함."
   ]
  },
  {
   "cell_type": "code",
   "execution_count": 14,
   "metadata": {
    "scrolled": false
   },
   "outputs": [
    {
     "name": "stdout",
     "output_type": "stream",
     "text": [
      "['<start> 고추에 움푹 들어간 원형 반점이 나타나는 것으로 보아 고추탄저병으로 의심됩니다 <end>', '<start> 고추에 원형 반점이 움푹 들어나는 양상을 보여 고추탄저병으로 의심됩니다 <end>', '<start> 고추에 원형 반점이 나타나 고추탄저병으로 의심됩니다 <end>', '<start> 고추에 원형 반점이 생긴 것으로 보아 고추탄저병으로 의심됩니다 <end>', '<start> 고추에 원형 반점이 움푹 들어간 것으로 보아 고추탄저병으로 의심됩니다 <end>']\n"
     ]
    }
   ],
   "source": [
    "print(text_data[:5])"
   ]
  },
  {
   "cell_type": "code",
   "execution_count": 15,
   "metadata": {},
   "outputs": [
    {
     "name": "stdout",
     "output_type": "stream",
     "text": [
      "['', '[UNK]', '<start>', '<end>', '의심됩니다', '보아', '것으로', '고추에', '고추탄저병으로', '고추흰가루병으로', '담황색', '원형', '말라', '비틀어진', '나타나고', '발견되어', '황갈색의', '황갈색', '같은', '나타나는', '사료됩니다', '포자덩어리와', '움푹', '병무늬가', '들어간', '반점이', '잎에', '포자와', '포자덩어리가', '포자가', '반점과', '흰색', '연한', '특별한', '않아', '판단됩니다', '이슬과', '서릿발', '모양의', '원형반점이', '증상이', '곰팡이가', '것을', '반점무늬가', '바른', '것과', '발견되지', '생긴', '나타나며', '넓게', '고추가', '이상이', '없는', '원형반점과', '밀가루를', '얇은', '고춧잎으로', '징후가', '정상', '이상', '나타나지', '고추로', '비틀어지고', '보여', '말라비틀어진', '고추탄저병이', '곰팡이와', '증세가', '않는', '병의', '고춧잎에', '보이고', '병무늬와', '반점무늬와', '밀가루', '생겼고', '없다고', '아무', '보이지', '정상적인', '정상으로', '병에', '대한', '보이는', '발견되므로', '고춧잎에서', '고추에서는', '곳으로', '고추에서', '양상을', '들어나는', '확인할', '확인되므로', '있어', '수', '드러나므로', '나타나므로', '나타나']\n"
     ]
    }
   ],
   "source": [
    "print(vectorization.get_vocabulary())"
   ]
  },
  {
   "cell_type": "markdown",
   "metadata": {
    "id": "SnOSiswm3aK-"
   },
   "source": [
    "## 모델 훈련을 위해 `tf.data.Dataset` 생성 프로세스를 구축하기\n",
    "\n",
    "이미지와 그에 대응되는 캡션들로 구성된 쌍을 `tf.data.Dataset`을 이용하여 생성한다. 생성 프로세스는 2단계로 구성된다.\n",
    "1. 이미지를 읽어온다\n",
    "2. 이미지에 대한 5개의 캡션 문장을 모두 토큰화한다.\n",
    "\n"
   ]
  },
  {
   "cell_type": "code",
   "execution_count": 16,
   "metadata": {
    "id": "RSrNvb133aK-"
   },
   "outputs": [],
   "source": [
    "#이미지 읽어오는 함수\n",
    "def decode_and_resize(img_path):\n",
    "    img = tf.io.read_file(img_path)\n",
    "    img = tf.image.decode_jpeg(img, channels=3)\n",
    "    img = tf.image.resize(img, IMAGE_SIZE)      # IMAGE_SIZE = (299, 299)\n",
    "    img = tf.image.convert_image_dtype(img, tf.float32)\n",
    "    return img\n",
    "\n",
    "#이미지 경로와 캡션을 입력하면, 이미지를 전처리하고 캡션을 벡터로 변환하도록 하는 함수\n",
    "def process_input(img_path, captions):\n",
    "    return decode_and_resize(img_path), vectorization(captions)\n",
    "\n",
    "#전처리된 이미지와 벡터로 변환된 캡션으로 데이터셋을 구축하는 함수\n",
    "def make_dataset(images, captions):\n",
    "    dataset = tf.data.Dataset.from_tensor_slices((images, captions)) #이미지와 캡션을 읽어옴\n",
    "    dataset = dataset.shuffle(len(images)) #데이터 뒤섞기\n",
    "    dataset = dataset.map(process_input, num_parallel_calls=AUTOTUNE)\n",
    "    dataset = dataset.batch(BATCH_SIZE).prefetch(AUTOTUNE)\n",
    "\n",
    "    return dataset\n",
    "\n",
    "\n",
    "# 이미지 리스트와 그 이미지에 대응되는 캡션들의 리스트를 입력하여 데이터셋 구축하기\n",
    "# 훈련데이터와 검증데이터 각각에 대한 데이터셋을 구축한다.\n",
    "train_dataset = make_dataset(list(train_data.keys()), list(train_data.values()))\n",
    "\n",
    "valid_dataset = make_dataset(list(valid_data.keys()), list(valid_data.values()))\n"
   ]
  },
  {
   "cell_type": "markdown",
   "metadata": {
    "id": "2phzbkVt3aK_"
   },
   "source": [
    "## 모델 구축하기\n",
    "\n",
    "Our image captioning architecture consists of three models 본 이미지 캡셔닝 모델은 아래의 구조를 지닌다:\n",
    "\n",
    "1. **CNN**: used to extract the image features 이미지 특징을 추출하는데 사용되는 모델\n",
    "2. **TransformerEncoder**: 이미지에서 추출된 특징들이 트랜스포머 모델의 인코더 부분에 입력된다. 트랜스포머 모델의 인코더 부분에서는 입력된 특징에 대한 새로운 표현을 생성한다.\n",
    "3. **TransformerDecoder**: 트랜스포머 모델의 디코더 부분에서는 트랜스포머 인코더의 출력값과, 텍스트 데이터를 입력값으로 받아서 캡션을 생성하는 훈련을 진행한다."
   ]
  },
  {
   "cell_type": "code",
   "execution_count": 17,
   "metadata": {
    "colab": {
     "base_uri": "https://localhost:8080/"
    },
    "id": "X7fpx_rg3aK_",
    "outputId": "fa197bc8-ffaf-49f8-8ee1-6f1c6fac27bc"
   },
   "outputs": [],
   "source": [
    "def get_cnn_model():\n",
    "    #imagenet 이미지 데이터로 사전 훈련을 거친 ResNet101 모델로 이미지 특징을 추출\n",
    "    base_model = tf.keras.applications.ResNet101(\n",
    "        input_shape=(*IMAGE_SIZE, 3), include_top=False, weights=\"imagenet\", \n",
    "    )\n",
    "    # feature extractor의 층을 고정(layer freeze)\n",
    "    # 층을 \"고정\" 한다는 것은 해당 계층을 훈련 과정에서 배제한다는 것으로 가중치를 업데이트하지 않는 것을 의미합니다. freezing layer의 파라미터는 학습 중이라도 파라미터가 유지됩니다.\n",
    "    # 사전 학습 모델의 피처 정보를 온전히 유지하기 위해 사용합니다.\n",
    "    base_model.trainable = False  #층을 고정함\n",
    "    base_model_out = base_model.output\n",
    "    base_model_out = layers.Reshape((-1, base_model_out.shape[-1]))(base_model_out) \n",
    "    cnn_model = keras.models.Model(base_model.input, base_model_out)\n",
    "    return cnn_model\n",
    "\n",
    "\n",
    "class TransformerEncoderBlock(layers.Layer):\n",
    "    def __init__(self, embed_dim, dense_dim, num_heads, **kwargs):\n",
    "        super().__init__(**kwargs)\n",
    "        self.embed_dim = embed_dim\n",
    "        self.dense_dim = dense_dim\n",
    "        self.num_heads = num_heads\n",
    "        self.attention_1 = layers.MultiHeadAttention(\n",
    "            num_heads=num_heads, key_dim=embed_dim, dropout=0.0\n",
    "        )\n",
    "        self.layernorm_1 = layers.LayerNormalization()\n",
    "        self.layernorm_2 = layers.LayerNormalization()\n",
    "        self.dense_1 = layers.Dense(embed_dim, activation=\"relu\")\n",
    "\n",
    "    def call(self, inputs, training, mask=None):\n",
    "        inputs = self.layernorm_1(inputs)\n",
    "        inputs = self.dense_1(inputs)\n",
    "\n",
    "        attention_output_1 = self.attention_1(\n",
    "            query=inputs,\n",
    "            value=inputs,\n",
    "            key=inputs,\n",
    "            attention_mask=None,\n",
    "            training=training,\n",
    "        )\n",
    "        out_1 = self.layernorm_2(inputs + attention_output_1)\n",
    "        return out_1\n",
    "\n",
    "\n",
    "class PositionalEmbedding(layers.Layer):\n",
    "    def __init__(self, sequence_length, vocab_size, embed_dim, **kwargs):\n",
    "        super().__init__(**kwargs)\n",
    "        self.token_embeddings = layers.Embedding(\n",
    "            input_dim=vocab_size, output_dim=embed_dim\n",
    "        )\n",
    "        self.position_embeddings = layers.Embedding(\n",
    "            input_dim=sequence_length, output_dim=embed_dim\n",
    "        )\n",
    "        self.sequence_length = sequence_length\n",
    "        self.vocab_size = vocab_size\n",
    "        self.embed_dim = embed_dim\n",
    "        self.embed_scale = tf.math.sqrt(tf.cast(embed_dim, tf.float32))\n",
    "\n",
    "    def call(self, inputs):\n",
    "        length = tf.shape(inputs)[-1]\n",
    "        positions = tf.range(start=0, limit=length, delta=1)\n",
    "        embedded_tokens = self.token_embeddings(inputs)\n",
    "        embedded_tokens = embedded_tokens * self.embed_scale\n",
    "        embedded_positions = self.position_embeddings(positions)\n",
    "        return embedded_tokens + embedded_positions\n",
    "\n",
    "    def compute_mask(self, inputs, mask=None):\n",
    "        return tf.math.not_equal(inputs, 0)\n",
    "\n",
    "\n",
    "class TransformerDecoderBlock(layers.Layer):\n",
    "    def __init__(self, embed_dim, ff_dim, num_heads, **kwargs):\n",
    "        super().__init__(**kwargs)\n",
    "        self.embed_dim = embed_dim\n",
    "        self.ff_dim = ff_dim\n",
    "        self.num_heads = num_heads\n",
    "        self.attention_1 = layers.MultiHeadAttention(\n",
    "            num_heads=num_heads, key_dim=embed_dim, dropout=0.1\n",
    "        )\n",
    "        self.attention_2 = layers.MultiHeadAttention(\n",
    "            num_heads=num_heads, key_dim=embed_dim, dropout=0.1\n",
    "        )\n",
    "        self.ffn_layer_1 = layers.Dense(ff_dim, activation=\"relu\")\n",
    "        self.ffn_layer_2 = layers.Dense(embed_dim)\n",
    "\n",
    "        self.layernorm_1 = layers.LayerNormalization()\n",
    "        self.layernorm_2 = layers.LayerNormalization()\n",
    "        self.layernorm_3 = layers.LayerNormalization()\n",
    "\n",
    "        self.embedding = PositionalEmbedding(\n",
    "            embed_dim=EMBED_DIM, sequence_length=SEQ_LENGTH, vocab_size=VOCAB_SIZE\n",
    "        )\n",
    "        self.out = layers.Dense(VOCAB_SIZE, activation=\"softmax\")\n",
    "\n",
    "        self.dropout_1 = layers.Dropout(0.3)\n",
    "        self.dropout_2 = layers.Dropout(0.5)\n",
    "        self.supports_masking = True\n",
    "\n",
    "    def call(self, inputs, encoder_outputs, training, mask=None):\n",
    "        inputs = self.embedding(inputs)\n",
    "        causal_mask = self.get_causal_attention_mask(inputs)\n",
    "\n",
    "        if mask is not None:\n",
    "            padding_mask = tf.cast(mask[:, :, tf.newaxis], dtype=tf.int32)\n",
    "            combined_mask = tf.cast(mask[:, tf.newaxis, :], dtype=tf.int32)\n",
    "            combined_mask = tf.minimum(combined_mask, causal_mask)\n",
    "\n",
    "        attention_output_1 = self.attention_1(\n",
    "            query=inputs,\n",
    "            value=inputs,\n",
    "            key=inputs,\n",
    "            attention_mask=combined_mask,\n",
    "            training=training,\n",
    "        )\n",
    "        out_1 = self.layernorm_1(inputs + attention_output_1)\n",
    "\n",
    "        attention_output_2 = self.attention_2(\n",
    "            query=out_1,\n",
    "            value=encoder_outputs,\n",
    "            key=encoder_outputs,\n",
    "            attention_mask=padding_mask,\n",
    "            training=training,\n",
    "        )\n",
    "        out_2 = self.layernorm_2(out_1 + attention_output_2)\n",
    "\n",
    "        ffn_out = self.ffn_layer_1(out_2)\n",
    "        ffn_out = self.dropout_1(ffn_out, training=training)\n",
    "        ffn_out = self.ffn_layer_2(ffn_out)\n",
    "\n",
    "        ffn_out = self.layernorm_3(ffn_out + out_2, training=training)\n",
    "        ffn_out = self.dropout_2(ffn_out, training=training)\n",
    "        preds = self.out(ffn_out)\n",
    "        return preds\n",
    "\n",
    "    def get_causal_attention_mask(self, inputs):\n",
    "        input_shape = tf.shape(inputs)\n",
    "        batch_size, sequence_length = input_shape[0], input_shape[1]\n",
    "        i = tf.range(sequence_length)[:, tf.newaxis]\n",
    "        j = tf.range(sequence_length)\n",
    "        mask = tf.cast(i >= j, dtype=\"int32\")\n",
    "        mask = tf.reshape(mask, (1, input_shape[1], input_shape[1]))\n",
    "        mult = tf.concat(\n",
    "            [tf.expand_dims(batch_size, -1), tf.constant([1, 1], dtype=tf.int32)],\n",
    "            axis=0,\n",
    "        )\n",
    "        return tf.tile(mask, mult)\n",
    "\n",
    "\n",
    "class ImageCaptioningModel(keras.Model):\n",
    "    def __init__(\n",
    "        self, cnn_model, encoder, decoder, num_captions_per_image=5, image_aug=None,\n",
    "    ):\n",
    "        super().__init__()\n",
    "        self.cnn_model = cnn_model\n",
    "        self.encoder = encoder\n",
    "        self.decoder = decoder\n",
    "        self.loss_tracker = keras.metrics.Mean(name=\"loss\")\n",
    "        self.acc_tracker = keras.metrics.Mean(name=\"accuracy\")\n",
    "        self.num_captions_per_image = num_captions_per_image\n",
    "        self.image_aug = image_aug\n",
    "\n",
    "    def calculate_loss(self, y_true, y_pred, mask):\n",
    "        loss = self.loss(y_true, y_pred)\n",
    "        mask = tf.cast(mask, dtype=loss.dtype)\n",
    "        loss *= mask\n",
    "        return tf.reduce_sum(loss) / tf.reduce_sum(mask)\n",
    "\n",
    "    def calculate_accuracy(self, y_true, y_pred, mask):\n",
    "        accuracy = tf.equal(y_true, tf.argmax(y_pred, axis=2))\n",
    "        accuracy = tf.math.logical_and(mask, accuracy)\n",
    "        accuracy = tf.cast(accuracy, dtype=tf.float32)\n",
    "        mask = tf.cast(mask, dtype=tf.float32)\n",
    "        return tf.reduce_sum(accuracy) / tf.reduce_sum(mask)\n",
    "\n",
    "    def _compute_caption_loss_and_acc(self, img_embed, batch_seq, training=True):\n",
    "        encoder_out = self.encoder(img_embed, training=training)\n",
    "        batch_seq_inp = batch_seq[:, :-1]\n",
    "        batch_seq_true = batch_seq[:, 1:]\n",
    "        mask = tf.math.not_equal(batch_seq_true, 0)\n",
    "        batch_seq_pred = self.decoder(\n",
    "            batch_seq_inp, encoder_out, training=training, mask=mask\n",
    "        )\n",
    "        loss = self.calculate_loss(batch_seq_true, batch_seq_pred, mask)\n",
    "        acc = self.calculate_accuracy(batch_seq_true, batch_seq_pred, mask)\n",
    "        return loss, acc\n",
    "\n",
    "    def train_step(self, batch_data):\n",
    "        batch_img, batch_seq = batch_data\n",
    "        batch_loss = 0\n",
    "        batch_acc = 0\n",
    "\n",
    "        if self.image_aug:\n",
    "            batch_img = self.image_aug(batch_img)\n",
    "\n",
    "        # 1. 이미지로부터 추출된 특징으로 임베딩 벡터 생성하기\n",
    "        img_embed = self.cnn_model(batch_img)\n",
    "\n",
    "        # 2. 인코더의 출력값과 5개의 캡션 각각을 디코더에 입력하고 각 캡션에 대한 오차와 정확도를 계산한다.\n",
    "        for i in range(self.num_captions_per_image):\n",
    "            with tf.GradientTape() as tape:\n",
    "                loss, acc = self._compute_caption_loss_and_acc(\n",
    "                    img_embed, batch_seq[:, i, :], training=True\n",
    "                )\n",
    "\n",
    "                # 3. 오차와 정확도를 갱신한다.\n",
    "                batch_loss += loss\n",
    "                batch_acc += acc\n",
    "\n",
    "            # 4. 훈련 가능한 모든 가중치 리스트를 가져온다.\n",
    "            train_vars = (\n",
    "                self.encoder.trainable_variables + self.decoder.trainable_variables\n",
    "            )\n",
    "\n",
    "            # 5. 그레이디언트 계산하기\n",
    "            grads = tape.gradient(loss, train_vars)\n",
    "\n",
    "            # 6. 훈련 가능한 모든 가중치 갱신하기\n",
    "            self.optimizer.apply_gradients(zip(grads, train_vars))\n",
    "\n",
    "        # 7. 오차와 정확도를 추적하는 tracker을 갱신한다\n",
    "        batch_acc /= float(self.num_captions_per_image)\n",
    "        self.loss_tracker.update_state(batch_loss)\n",
    "        self.acc_tracker.update_state(batch_acc)\n",
    "\n",
    "        # 8. 오차와 정확도 값을 반환한다.\n",
    "        return {\"loss\": self.loss_tracker.result(), \"acc\": self.acc_tracker.result()}\n",
    "\n",
    "    def test_step(self, batch_data):\n",
    "        batch_img, batch_seq = batch_data\n",
    "        batch_loss = 0\n",
    "        batch_acc = 0\n",
    "\n",
    "        # 1. 이미지로부터 추출된 특징으로 임베딩 벡터 생성하기\n",
    "        img_embed = self.cnn_model(batch_img)\n",
    "\n",
    "        # 2. 인코더의 출력값과 5개의 캡션 각각을 디코더에 입력하고 각 캡션에 대한 오차와 정확도를 계산한다.\n",
    "        for i in range(self.num_captions_per_image):\n",
    "            loss, acc = self._compute_caption_loss_and_acc(\n",
    "                img_embed, batch_seq[:, i, :], training=False\n",
    "            )\n",
    "\n",
    "            # 3. 오차와 정확도를 갱신한다.\n",
    "            batch_loss += loss\n",
    "            batch_acc += acc\n",
    "\n",
    "        batch_acc /= float(self.num_captions_per_image)\n",
    "\n",
    "        # 4. 오차와 정확도를 추적하는 tracker을 갱신한다\n",
    "        self.loss_tracker.update_state(batch_loss)\n",
    "        self.acc_tracker.update_state(batch_acc)\n",
    "\n",
    "        # 5. 오차와 정확도 값을 반환한다.\n",
    "        return {\"loss\": self.loss_tracker.result(), \"acc\": self.acc_tracker.result()}\n",
    "\n",
    "    @property\n",
    "    def metrics(self):\n",
    "        # 여기에서 평가 방법들(loss_tracker, acc_tracker)을 나열해야 한다. 그래야 reset_states()가 자동으로 호출된다\n",
    "        return [self.loss_tracker, self.acc_tracker]\n",
    "\n",
    "\n",
    "cnn_model = get_cnn_model()\n",
    "encoder = TransformerEncoderBlock(embed_dim=EMBED_DIM, dense_dim=FF_DIM, num_heads=1)\n",
    "decoder = TransformerDecoderBlock(embed_dim=EMBED_DIM, ff_dim=FF_DIM, num_heads=2)\n",
    "caption_model = ImageCaptioningModel(\n",
    "    cnn_model=cnn_model, encoder=encoder, decoder=decoder, num_captions_per_image=5, image_aug=None, #image_augmentation을 안 쓸거면 None으로 설정\n",
    ")"
   ]
  },
  {
   "cell_type": "markdown",
   "metadata": {
    "id": "eYSIdo6z3aLC"
   },
   "source": [
    "## 모델 훈련"
   ]
  },
  {
   "cell_type": "code",
   "execution_count": 19,
   "metadata": {
    "colab": {
     "base_uri": "https://localhost:8080/"
    },
    "id": "GI_d3CPF3aLC",
    "outputId": "977caaf4-656d-401e-b54f-e079cffd9cd9",
    "scrolled": false
   },
   "outputs": [
    {
     "name": "stdout",
     "output_type": "stream",
     "text": [
      "Epoch 1/20\n",
      "1209/1209 [==============================] - ETA: 0s - loss: 5.0010 - acc: 0.6034\n",
      "Epoch 1: saving model to ./checkpoints_transformer\\train\n",
      "1209/1209 [==============================] - 315s 251ms/step - loss: 5.0010 - acc: 0.6035 - val_loss: 1.3798 - val_acc: 0.8850\n",
      "Epoch 2/20\n",
      "1209/1209 [==============================] - ETA: 0s - loss: 1.2853 - acc: 0.8855\n",
      "Epoch 2: saving model to ./checkpoints_transformer\\train\n",
      "1209/1209 [==============================] - 301s 249ms/step - loss: 1.2853 - acc: 0.8855 - val_loss: 1.2791 - val_acc: 0.8912\n",
      "Epoch 3/20\n",
      "1209/1209 [==============================] - ETA: 0s - loss: 1.1172 - acc: 0.8980\n",
      "Epoch 3: saving model to ./checkpoints_transformer\\train\n",
      "1209/1209 [==============================] - 301s 249ms/step - loss: 1.1172 - acc: 0.8980 - val_loss: 1.2274 - val_acc: 0.8958\n",
      "Epoch 4/20\n",
      "1209/1209 [==============================] - ETA: 0s - loss: 1.0121 - acc: 0.9059\n",
      "Epoch 4: saving model to ./checkpoints_transformer\\train\n",
      "1209/1209 [==============================] - 300s 248ms/step - loss: 1.0121 - acc: 0.9059 - val_loss: 1.2184 - val_acc: 0.8980\n",
      "Epoch 5/20\n",
      "1209/1209 [==============================] - ETA: 0s - loss: 0.9403 - acc: 0.9094\n",
      "Epoch 5: saving model to ./checkpoints_transformer\\train\n",
      "1209/1209 [==============================] - 300s 248ms/step - loss: 0.9403 - acc: 0.9094 - val_loss: 1.2393 - val_acc: 0.8966\n",
      "Epoch 6/20\n",
      "1209/1209 [==============================] - ETA: 0s - loss: 0.8981 - acc: 0.9121\n",
      "Epoch 6: saving model to ./checkpoints_transformer\\train\n",
      "1209/1209 [==============================] - 300s 248ms/step - loss: 0.8981 - acc: 0.9121 - val_loss: 1.2229 - val_acc: 0.8997\n",
      "Epoch 7/20\n",
      "1209/1209 [==============================] - ETA: 0s - loss: 0.8754 - acc: 0.9133\n",
      "Epoch 7: saving model to ./checkpoints_transformer\\train\n",
      "1209/1209 [==============================] - 299s 247ms/step - loss: 0.8754 - acc: 0.9133 - val_loss: 1.2521 - val_acc: 0.9003\n",
      "Epoch 8/20\n",
      "1209/1209 [==============================] - ETA: 0s - loss: 0.8599 - acc: 0.9144\n",
      "Epoch 8: saving model to ./checkpoints_transformer\\train\n",
      "1209/1209 [==============================] - 300s 248ms/step - loss: 0.8599 - acc: 0.9144 - val_loss: 1.2594 - val_acc: 0.9007\n",
      "Epoch 9/20\n",
      "1209/1209 [==============================] - ETA: 0s - loss: 0.8491 - acc: 0.9148\n",
      "Epoch 9: saving model to ./checkpoints_transformer\\train\n",
      "1209/1209 [==============================] - 299s 247ms/step - loss: 0.8491 - acc: 0.9148 - val_loss: 1.2453 - val_acc: 0.9016\n",
      "Epoch 10/20\n",
      "1209/1209 [==============================] - ETA: 0s - loss: 0.8414 - acc: 0.9153\n",
      "Epoch 10: saving model to ./checkpoints_transformer\\train\n",
      "1209/1209 [==============================] - 299s 247ms/step - loss: 0.8414 - acc: 0.9153 - val_loss: 1.2730 - val_acc: 0.9012\n",
      "Epoch 11/20\n",
      "1209/1209 [==============================] - ETA: 0s - loss: 0.8324 - acc: 0.9156\n",
      "Epoch 11: saving model to ./checkpoints_transformer\\train\n",
      "1209/1209 [==============================] - 299s 247ms/step - loss: 0.8324 - acc: 0.9156 - val_loss: 1.2904 - val_acc: 0.9019\n",
      "Epoch 12/20\n",
      "1209/1209 [==============================] - ETA: 0s - loss: 0.8275 - acc: 0.9160\n",
      "Epoch 12: saving model to ./checkpoints_transformer\\train\n",
      "1209/1209 [==============================] - 300s 248ms/step - loss: 0.8275 - acc: 0.9160 - val_loss: 1.3550 - val_acc: 0.9011\n",
      "Epoch 13/20\n",
      "1209/1209 [==============================] - ETA: 0s - loss: 0.8251 - acc: 0.9162\n",
      "Epoch 13: saving model to ./checkpoints_transformer\\train\n",
      "1209/1209 [==============================] - 301s 249ms/step - loss: 0.8251 - acc: 0.9162 - val_loss: 1.2821 - val_acc: 0.9034\n",
      "Epoch 14/20\n",
      "1209/1209 [==============================] - ETA: 0s - loss: 0.8172 - acc: 0.9169\n",
      "Epoch 14: saving model to ./checkpoints_transformer\\train\n",
      "1209/1209 [==============================] - 300s 248ms/step - loss: 0.8172 - acc: 0.9169 - val_loss: 1.3098 - val_acc: 0.9031\n",
      "Epoch 15/20\n",
      "1209/1209 [==============================] - ETA: 0s - loss: 0.8110 - acc: 0.9182\n",
      "Epoch 15: saving model to ./checkpoints_transformer\\train\n",
      "1209/1209 [==============================] - 299s 247ms/step - loss: 0.8110 - acc: 0.9182 - val_loss: 1.3346 - val_acc: 0.9023\n",
      "Epoch 16/20\n",
      "1209/1209 [==============================] - ETA: 0s - loss: 0.8013 - acc: 0.9192\n",
      "Epoch 16: saving model to ./checkpoints_transformer\\train\n",
      "1209/1209 [==============================] - 299s 248ms/step - loss: 0.8013 - acc: 0.9192 - val_loss: 1.3579 - val_acc: 0.9016\n",
      "Epoch 17/20\n",
      "1209/1209 [==============================] - ETA: 0s - loss: 0.7935 - acc: 0.9205\n",
      "Epoch 17: saving model to ./checkpoints_transformer\\train\n",
      "1209/1209 [==============================] - 300s 248ms/step - loss: 0.7935 - acc: 0.9205 - val_loss: 1.4254 - val_acc: 0.9018\n",
      "Epoch 18/20\n",
      "1209/1209 [==============================] - ETA: 0s - loss: 0.7812 - acc: 0.9213\n",
      "Epoch 18: saving model to ./checkpoints_transformer\\train\n",
      "1209/1209 [==============================] - 301s 248ms/step - loss: 0.7812 - acc: 0.9213 - val_loss: 1.3769 - val_acc: 0.9032\n",
      "Epoch 19/20\n",
      "1209/1209 [==============================] - ETA: 0s - loss: 0.7723 - acc: 0.9210\n",
      "Epoch 19: saving model to ./checkpoints_transformer\\train\n",
      "1209/1209 [==============================] - 301s 249ms/step - loss: 0.7723 - acc: 0.9210 - val_loss: 1.4956 - val_acc: 0.9014\n",
      "Epoch 20/20\n",
      "1209/1209 [==============================] - ETA: 0s - loss: 0.7696 - acc: 0.9213\n",
      "Epoch 20: saving model to ./checkpoints_transformer\\train\n",
      "1209/1209 [==============================] - 299s 247ms/step - loss: 0.7696 - acc: 0.9213 - val_loss: 1.4537 - val_acc: 0.9014\n"
     ]
    },
    {
     "data": {
      "text/plain": [
       "<keras.callbacks.History at 0x200c977b910>"
      ]
     },
     "execution_count": 19,
     "metadata": {},
     "output_type": "execute_result"
    }
   ],
   "source": [
    "\n",
    "# 손실(오차)함수 정의하기 - 손실함수로 SparseCategoricalCrossentropy를 사용함\n",
    "cross_entropy = keras.losses.SparseCategoricalCrossentropy(\n",
    "    from_logits=False, reduction=\"none\")\n",
    "\n",
    "#모델 체크포인트 콜백 만들기 - 학습 도중에 에러 생겨 학습이 중단되었을 때 최근에 학습한 부분에 대한 가중치를 저장하여 나중에 그 가중치를 불러와 해당 부분부터 다시 학습할 수 있게 함\n",
    "checkpoint_path = \"./checkpoints_transformer/train\"\n",
    "\n",
    "model_checkpoint = ModelCheckpoint(checkpoint_path,\n",
    "                              save_weights_only=True,\n",
    "                              verbose=1)\n",
    "\n",
    "#### 저장된 체크포인트 가중치를 모델에 불러오는 방법\n",
    "#### model.load_weights(checkpoint_path)\n",
    "\n",
    "\n",
    "\n",
    "# 옵티마이저의 상태를 저장하는 것과 관련되어 경고가 발생할 수 있습니다.\n",
    "# 이 경고는 (그리고 이 노트북의 다른 비슷한 경고는) 이전 사용 방식을 권장하지 않기 위함이며 무시해도 좋습니다.\n",
    "\n",
    "\n",
    "\n",
    "# EarlyStopping 기준 설정하기\n",
    "# loss가 3번 연속으로 낮아지지 않으면 학습을 중단함\n",
    "# early_stopping = keras.callbacks.EarlyStopping(patience=3, restore_best_weights=True)\n",
    "\n",
    "\n",
    "# 옵티마이저에 대한 학습률 스케줄러 설정하기\n",
    "class LRSchedule(keras.optimizers.schedules.LearningRateSchedule):\n",
    "    def __init__(self, post_warmup_learning_rate, warmup_steps):\n",
    "        super().__init__()\n",
    "        self.post_warmup_learning_rate = post_warmup_learning_rate\n",
    "        self.warmup_steps = warmup_steps\n",
    "\n",
    "    def __call__(self, step):\n",
    "        global_step = tf.cast(step, tf.float32)\n",
    "        warmup_steps = tf.cast(self.warmup_steps, tf.float32)\n",
    "        warmup_progress = global_step / warmup_steps\n",
    "        warmup_learning_rate = self.post_warmup_learning_rate * warmup_progress\n",
    "        return tf.cond(\n",
    "            global_step < warmup_steps,\n",
    "            lambda: warmup_learning_rate,\n",
    "            lambda: self.post_warmup_learning_rate,\n",
    "        )\n",
    "\n",
    "\n",
    "# 학습률 스케줄 생성하기\n",
    "num_train_steps = len(train_dataset) * EPOCHS\n",
    "num_warmup_steps = num_train_steps // 15\n",
    "lr_schedule = LRSchedule(post_warmup_learning_rate=1e-4, warmup_steps=num_warmup_steps)\n",
    "\n",
    "# 모델 컴파일하기 - 모델에 옵티마이저와 오차를 정의함\n",
    "caption_model.compile(optimizer=keras.optimizers.Adam(lr_schedule), loss=cross_entropy)\n",
    "\n",
    "# 모델 학습시키기\n",
    "caption_model.fit(\n",
    "    train_dataset,\n",
    "    epochs=EPOCHS,\n",
    "    validation_data=valid_dataset,\n",
    "    callbacks=[model_checkpoint], #학습하면서 체크포인트로 가중치 저장\n",
    ")"
   ]
  },
  {
   "cell_type": "markdown",
   "metadata": {
    "id": "rwE8SIx03aLD"
   },
   "source": [
    "## 훈련된 모델로 이미지 캡셔닝 결과 확인하기"
   ]
  },
  {
   "cell_type": "code",
   "execution_count": 23,
   "metadata": {
    "colab": {
     "base_uri": "https://localhost:8080/",
     "height": 847
    },
    "id": "FyOqMAW_3aLD",
    "outputId": "eee4d161-51ef-40c4-df6b-e203b4854855",
    "scrolled": false
   },
   "outputs": [
    {
     "data": {
      "image/png": "[encoded data removed]",
      "text/plain": [
       "<Figure size 432x288 with 1 Axes>"
      ]
     },
     "metadata": {
      "needs_background": "light"
     },
     "output_type": "display_data"
    },
    {
     "name": "stdout",
     "output_type": "stream",
     "text": [
      "Predicted Caption:  고추에 황갈색의 포자덩어리와 움푹 들어간 원형 반점이 나타나며 말라 비틀어진 것으로 보아 고추탄저병으로\n"
     ]
    }
   ],
   "source": [
    "vocab = vectorization.get_vocabulary()\n",
    "index_lookup = dict(zip(range(len(vocab)), vocab))\n",
    "max_decoded_sentence_length = 13 #SEQ_LENGTH - 1\n",
    "valid_images = list(valid_data.keys())\n",
    "\n",
    "\n",
    "def generate_caption():\n",
    "    # Select a random image from the validation dataset #검증 데이터셋에서 무작위로 이미지를 선택한다\n",
    "    sample_img = np.random.choice(valid_images)\n",
    "\n",
    "    # Read the image from the disk #이미지를 읽어온다\n",
    "    sample_img = decode_and_resize(sample_img)\n",
    "    img = sample_img.numpy().clip(0, 255).astype(np.uint8)\n",
    "    plt.imshow(img)\n",
    "    plt.show()\n",
    "\n",
    "    # Pass the image to the CNN 이미지를 CNN 모델에 전달해서 특징을 추출함\n",
    "    img = tf.expand_dims(sample_img, 0)\n",
    "    img = caption_model.cnn_model(img)\n",
    "\n",
    "    # Pass the image features to the Transformer encoder 추출된 특징을 트랜스포머 모델의 인코더에 입력함\n",
    "    encoded_img = caption_model.encoder(img, training=False)\n",
    "\n",
    "    # Generate the caption using the Transformer decoder #트랜스포머의 디코더로 이미지에 대한 캡션 문장을 생성함(사람이 아닌, 이미지 캡셔닝 모델이 만든 캡션 문장이다.)\n",
    "    decoded_caption = \"<start> \"\n",
    "    for i in range(max_decoded_sentence_length):\n",
    "        tokenized_caption = vectorization([decoded_caption])[:, :-1]\n",
    "        mask = tf.math.not_equal(tokenized_caption, 0)\n",
    "        predictions = caption_model.decoder(\n",
    "            tokenized_caption, encoded_img, training=False, mask=mask\n",
    "        )\n",
    "        sampled_token_index = np.argmax(predictions[0, i, :])\n",
    "        sampled_token = index_lookup[sampled_token_index]\n",
    "        if sampled_token == \" <end>\":\n",
    "            break\n",
    "        decoded_caption += \" \" + sampled_token\n",
    "\n",
    "    decoded_caption = decoded_caption.replace(\"<start> \", \"\")\n",
    "    decoded_caption = decoded_caption.replace(\" <end>\", \"\").strip()\n",
    "    print(\"Predicted Caption: \", decoded_caption) #모델이 예측한 토큰을 합쳐 캡션 문장 생성하기\n",
    "\n",
    "\n",
    "# Check predictions for a few samples\n",
    "generate_caption()\n",
    "# generate_caption()\n",
    "# generate_caption()"
   ]
  },
  {
   "cell_type": "code",
   "execution_count": 29,
   "metadata": {
    "colab": {
     "base_uri": "https://localhost:8080/",
     "height": 360
    },
    "id": "2M9GZilXThGM",
    "outputId": "af8c1ac4-200a-4edc-f6b5-f3c174f4c9c4"
   },
   "outputs": [],
   "source": [
    "#모델 가중치 저장\n",
    "caption_model.save_weights(\"C:/Users/DI Lee/Desktop/crop-disease-diagnosis-service/transformer_weight\")"
   ]
  },
  {
   "cell_type": "code",
   "execution_count": null,
   "metadata": {
    "id": "hyJ5B1AujEZ6"
   },
   "outputs": [],
   "source": [
    "#저장된 가중치를 다시 불러와서 새로운 모델 생성하기\n",
    "#모델 구조가 똑같아야 가중치 불러왔을 때 오류 안 생긴다.\n",
    "\n",
    "#저장된 가중치의 모델과 같은 구조를 지닌 모델 만들기\n",
    "new_caption_model = ImageCaptioningModel(\n",
    "    cnn_model=cnn_model, encoder=encoder, decoder=decoder, num_captions_per_image=5, image_aug=None, #image_augmentation을 안 쓸거면 None으로 설정\n",
    ")\n",
    "\n",
    "\n",
    "#위에서 만든 모델에 저장된 가중치를 불러오기\n",
    "new_caption_model.load_weights(r\"C:\\Users\\uefi\\Desktop\\img_caption_transformer_pepper_weights\")"
   ]
  }
 ],
 "metadata": {
  "accelerator": "GPU",
  "colab": {
   "collapsed_sections": [],
   "name": "케라스image_captioning의 사본",
   "provenance": []
  },
  "gpuClass": "standard",
  "kernelspec": {
   "display_name": "Python 3 (ipykernel)",
   "language": "python",
   "name": "python3"
  },
  "language_info": {
   "codemirror_mode": {
    "name": "ipython",
    "version": 3
   },
   "file_extension": ".py",
   "mimetype": "text/x-python",
   "name": "python",
   "nbconvert_exporter": "python",
   "pygments_lexer": "ipython3",
   "version": "3.9.12"
  }
 },
 "nbformat": 4,
 "nbformat_minor": 1
}
